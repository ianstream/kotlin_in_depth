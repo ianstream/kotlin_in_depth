{
 "cells": [
  {
   "cell_type": "code",
   "execution_count": 1,
   "id": "27c3ee61",
   "metadata": {},
   "outputs": [],
   "source": [
    "import java.io.File\n",
    "import java.util.Date\n",
    "\n",
    "class Person {\n",
    "  var firstName: String = \"\"\n",
    "  var familyName: String = \"\"\n",
    "  var age: Int = 0\n",
    "  \n",
    "  fun fullName() = \"$firstName $familyName\"\n",
    "\n",
    "  fun showMe() {\n",
    "    println(\"${fullName()}: $age\")\n",
    "  }\n",
    "}\n"
   ]
  },
  {
   "cell_type": "code",
   "execution_count": 2,
   "id": "6af0d6f0",
   "metadata": {},
   "outputs": [
    {
     "name": "stdout",
     "output_type": "stream",
     "text": [
      "John Doe: 25\n"
     ]
    }
   ],
   "source": [
    "fun main1() {\n",
    "  val person = Person() //  Person 인스턴스 생성\n",
    "  \n",
    "  person.firstName = \"John\"\n",
    "  person.familyName = \"Doe\"\n",
    "  person.age = 25\n",
    "  \n",
    "  person.showMe() // John Doe: 25\n",
    "}\n",
    "\n",
    "main1()"
   ]
  },
  {
   "cell_type": "code",
   "execution_count": 3,
   "id": "a61d0f82",
   "metadata": {},
   "outputs": [],
   "source": [
    "class Person3 {\n",
    "  // 생성자로 초기화할 방법이 없으면 모든 클래스가 \n",
    "  // firstName에 대해 같은 값을 사용하게 됨\n",
    "  val firstName = \"John\"\n",
    "}"
   ]
  },
  {
   "cell_type": "code",
   "execution_count": 4,
   "id": "556245ec",
   "metadata": {},
   "outputs": [
    {
     "name": "stderr",
     "output_type": "stream",
     "text": [
      "Line_43.jupyter.kts (1:22 - 23) Property getter or setter expected"
     ]
    }
   ],
   "source": [
    "val person = Person()3 //  Person 인스턴스 생성\n",
    "person3.firstName = \"John =kim\""
   ]
  },
  {
   "cell_type": "code",
   "execution_count": null,
   "id": "cd22efdd",
   "metadata": {},
   "outputs": [],
   "source": []
  },
  {
   "cell_type": "code",
   "execution_count": 5,
   "id": "bff4206f",
   "metadata": {},
   "outputs": [
    {
     "name": "stdout",
     "output_type": "stream",
     "text": [
      "John Doe\n"
     ]
    }
   ],
   "source": [
    "class Person4(firstName: String, familyName: String) {\n",
    "  val fullName = \"$firstName $familyName\"\n",
    "}\n",
    "\n",
    "fun main2() {\n",
    "  val person = Person4(\"John\", \"Doe\") // 새 Person 인스턴스 생성\n",
    "  println(person.fullName)           // John Doe\n",
    "}\n",
    "\n",
    "main2()"
   ]
  },
  {
   "cell_type": "code",
   "execution_count": null,
   "id": "8a1600fc",
   "metadata": {},
   "outputs": [],
   "source": []
  },
  {
   "cell_type": "code",
   "execution_count": 6,
   "id": "1c9971ce",
   "metadata": {},
   "outputs": [],
   "source": [
    "class Person7(fullName: String) {\n",
    "  val firstName: String\n",
    "  val familyName: String\n",
    "  \n",
    "    \n",
    "  init {\n",
    "    val names = fullName.split(\" \")\n",
    "    if (names.size != 2) {\n",
    "      throw IllegalArgumentException(\"Invalid name: $fullName\")\n",
    "    }\n",
    "    firstName = names[0]\n",
    "    familyName = names[1]\n",
    "  }\n",
    "}"
   ]
  },
  {
   "cell_type": "code",
   "execution_count": 7,
   "id": "c65c0b88",
   "metadata": {},
   "outputs": [
    {
     "name": "stdout",
     "output_type": "stream",
     "text": [
      "John\n"
     ]
    }
   ],
   "source": [
    "fun main3() {\n",
    "  val person = Person7(\"John Doe\")\n",
    "  println(person.firstName) // John\n",
    "}\n",
    "\n",
    "main3()"
   ]
  },
  {
   "cell_type": "code",
   "execution_count": null,
   "id": "1a5644ab",
   "metadata": {},
   "outputs": [],
   "source": []
  },
  {
   "cell_type": "code",
   "execution_count": 8,
   "id": "d74cdeaf",
   "metadata": {},
   "outputs": [],
   "source": [
    "class Person15 {\n",
    "    val firstName: String\n",
    "    val familyName: String\n",
    "    \n",
    "    constructor(firstName: String, familyName: String) {\n",
    "        this.firstName = firstName\n",
    "        this.familyName = familyName\n",
    "    }\n",
    "    \n",
    "    constructor(fullName: String) {\n",
    "        val names = fullName.split(\" \")\n",
    "        if (names.size != 2) {\n",
    "            throw IllegalArgumentException(\"Invalid name: $fullName\")\n",
    "        }\n",
    "        firstName = names[0]\n",
    "        familyName = names[1]\n",
    "    }\n",
    "}"
   ]
  },
  {
   "cell_type": "code",
   "execution_count": 9,
   "id": "51b999fd",
   "metadata": {},
   "outputs": [],
   "source": [
    "val person15 = Person15(\"ian\", \"kim\")"
   ]
  },
  {
   "cell_type": "code",
   "execution_count": 13,
   "id": "6734d18a",
   "metadata": {},
   "outputs": [
    {
     "data": {
      "text/plain": [
       "ian kim"
      ]
     },
     "execution_count": 13,
     "metadata": {},
     "output_type": "execute_result"
    }
   ],
   "source": [
    "\"${person15.firstName} ${person15.familyName}\""
   ]
  },
  {
   "cell_type": "code",
   "execution_count": 14,
   "id": "264362c9",
   "metadata": {},
   "outputs": [],
   "source": [
    "val person15_1 = Person15(\"ian kim\")"
   ]
  },
  {
   "cell_type": "code",
   "execution_count": 16,
   "id": "d1d25760",
   "metadata": {},
   "outputs": [
    {
     "data": {
      "text/plain": [
       "ian kim"
      ]
     },
     "execution_count": 16,
     "metadata": {},
     "output_type": "execute_result"
    }
   ],
   "source": [
    "\"${person15_1.firstName} ${person15_1.familyName}\""
   ]
  },
  {
   "cell_type": "code",
   "execution_count": 17,
   "id": "e7a91d81",
   "metadata": {},
   "outputs": [
    {
     "name": "stderr",
     "output_type": "stream",
     "text": [
      "Invalid name: iankim\n",
      "java.lang.IllegalArgumentException: Invalid name: iankim\n",
      "\tat Line_58_jupyter$Person15.<init>(Line_58.jupyter.kts:13)\n",
      "\tat Line_211_jupyter.<init>(Line_211.jupyter.kts:1)\n",
      "\tat java.base/jdk.internal.reflect.NativeConstructorAccessorImpl.newInstance0(Native Method)\n",
      "\tat java.base/jdk.internal.reflect.NativeConstructorAccessorImpl.newInstance(NativeConstructorAccessorImpl.java:62)\n",
      "\tat java.base/jdk.internal.reflect.DelegatingConstructorAccessorImpl.newInstance(DelegatingConstructorAccessorImpl.java:45)\n",
      "\tat java.base/java.lang.reflect.Constructor.newInstance(Constructor.java:490)\n",
      "\tat kotlin.script.experimental.jvm.BasicJvmScriptEvaluator.evalWithConfigAndOtherScriptsResults(BasicJvmScriptEvaluator.kt:105)\n",
      "\tat kotlin.script.experimental.jvm.BasicJvmScriptEvaluator.invoke$suspendImpl(BasicJvmScriptEvaluator.kt:47)\n",
      "\tat kotlin.script.experimental.jvm.BasicJvmScriptEvaluator.invoke(BasicJvmScriptEvaluator.kt)\n",
      "\tat kotlin.script.experimental.jvm.BasicJvmReplEvaluator.eval(BasicJvmReplEvaluator.kt:49)\n",
      "\tat org.jetbrains.kotlinx.jupyter.repl.impl.InternalEvaluatorImpl$eval$resultWithDiagnostics$1.invokeSuspend(InternalEvaluatorImpl.kt:103)\n",
      "\tat kotlin.coroutines.jvm.internal.BaseContinuationImpl.resumeWith(ContinuationImpl.kt:33)\n",
      "\tat kotlinx.coroutines.DispatchedTask.run(DispatchedTask.kt:106)\n",
      "\tat kotlinx.coroutines.EventLoopImplBase.processNextEvent(EventLoop.common.kt:284)\n",
      "\tat kotlinx.coroutines.BlockingCoroutine.joinBlocking(Builders.kt:85)\n",
      "\tat kotlinx.coroutines.BuildersKt__BuildersKt.runBlocking(Builders.kt:59)\n",
      "\tat kotlinx.coroutines.BuildersKt.runBlocking(Unknown Source)\n",
      "\tat kotlinx.coroutines.BuildersKt__BuildersKt.runBlocking$default(Builders.kt:38)\n",
      "\tat kotlinx.coroutines.BuildersKt.runBlocking$default(Unknown Source)\n",
      "\tat org.jetbrains.kotlinx.jupyter.repl.impl.InternalEvaluatorImpl.eval(InternalEvaluatorImpl.kt:103)\n",
      "\tat org.jetbrains.kotlinx.jupyter.repl.impl.CellExecutorImpl$execute$1$result$1.invoke(CellExecutorImpl.kt:75)\n",
      "\tat org.jetbrains.kotlinx.jupyter.repl.impl.CellExecutorImpl$execute$1$result$1.invoke(CellExecutorImpl.kt:73)\n",
      "\tat org.jetbrains.kotlinx.jupyter.ReplForJupyterImpl.withHost(repl.kt:660)\n",
      "\tat org.jetbrains.kotlinx.jupyter.repl.impl.CellExecutorImpl.execute(CellExecutorImpl.kt:73)\n",
      "\tat org.jetbrains.kotlinx.jupyter.repl.CellExecutor$DefaultImpls.execute$default(CellExecutor.kt:15)\n",
      "\tat org.jetbrains.kotlinx.jupyter.ReplForJupyterImpl$evalEx$1.invoke(repl.kt:466)\n",
      "\tat org.jetbrains.kotlinx.jupyter.ReplForJupyterImpl$evalEx$1.invoke(repl.kt:455)\n",
      "\tat org.jetbrains.kotlinx.jupyter.ReplForJupyterImpl.withEvalContext(repl.kt:419)\n",
      "\tat org.jetbrains.kotlinx.jupyter.ReplForJupyterImpl.evalEx(repl.kt:455)\n",
      "\tat org.jetbrains.kotlinx.jupyter.messaging.ProtocolKt$shellMessagesHandler$2$res$1.invoke(protocol.kt:312)\n",
      "\tat org.jetbrains.kotlinx.jupyter.messaging.ProtocolKt$shellMessagesHandler$2$res$1.invoke(protocol.kt:311)\n",
      "\tat org.jetbrains.kotlinx.jupyter.JupyterExecutorImpl$runExecution$execThread$1.invoke(execution.kt:33)\n",
      "\tat org.jetbrains.kotlinx.jupyter.JupyterExecutorImpl$runExecution$execThread$1.invoke(execution.kt:31)\n",
      "\tat kotlin.concurrent.ThreadsKt$thread$thread$1.run(Thread.kt:30)\n"
     ]
    }
   ],
   "source": [
    "Person15(\"iankim\")"
   ]
  },
  {
   "cell_type": "code",
   "execution_count": null,
   "id": "6c481de5",
   "metadata": {},
   "outputs": [],
   "source": []
  },
  {
   "cell_type": "code",
   "execution_count": 18,
   "id": "59b20de7",
   "metadata": {},
   "outputs": [],
   "source": [
    "\n",
    "class Person20 (val id: Id, val age: Int) {\n",
    "    class Id(val firstName: String, val familyName: String)\n",
    "    fun showMe() = println(\"${id.firstName} ${id.familyName}, $age\")\n",
    "}"
   ]
  },
  {
   "cell_type": "code",
   "execution_count": 19,
   "id": "69b1767c",
   "metadata": {},
   "outputs": [
    {
     "name": "stdout",
     "output_type": "stream",
     "text": [
      "John Doe, 25\n"
     ]
    }
   ],
   "source": [
    "fun main8() {\n",
    "    val id = Person20.Id(\"John\", \"Doe\")\n",
    "    val person = Person20(id, 25)\n",
    "    person.showMe()\n",
    "}\n",
    "\n",
    "main8()\n"
   ]
  },
  {
   "cell_type": "code",
   "execution_count": 21,
   "id": "617bb318",
   "metadata": {},
   "outputs": [
    {
     "name": "stderr",
     "output_type": "stream",
     "text": [
      "Line_687.jupyter.kts (5:47 - 49) Unresolved reference: id\n",
      "Line_687.jupyter.kts (9:34 - 43) Cannot access 'firstName': it is private in 'Id'\n",
      "Line_687.jupyter.kts (9:50 - 60) Cannot access 'familyName': it is private in 'Id'"
     ]
    }
   ],
   "source": [
    "// 이너 클래스에서 밖의 프로퍼티에 접근할 수 없다\n",
    "class Person21 (private val id: Id, private val age: Int) {\n",
    "    class Id(private val firstName: String,\n",
    "                     private val familyName: String) {\n",
    "        fun nameSake(person: Person) = person.id.firstName == firstName\n",
    "    }\n",
    "\n",
    "    //    error: cannot access 'firstName': it is private in 'Id'\n",
    "    fun showMe() = println(\"${id.firstName} ${id.familyName}, $age\")    \n",
    "}"
   ]
  },
  {
   "cell_type": "code",
   "execution_count": null,
   "id": "c8df76c7",
   "metadata": {},
   "outputs": [],
   "source": []
  },
  {
   "cell_type": "code",
   "execution_count": null,
   "id": "0a2990ac",
   "metadata": {},
   "outputs": [],
   "source": []
  },
  {
   "cell_type": "code",
   "execution_count": 22,
   "id": "41bfdf7c",
   "metadata": {},
   "outputs": [],
   "source": [
    "// 코틀린 싱글톤\n",
    "object Application {\n",
    "    val name = \"My Application\"\n",
    "    \n",
    "    override fun toString() = name\n",
    "    \n",
    "    fun exit() { }\n",
    "}"
   ]
  },
  {
   "cell_type": "code",
   "execution_count": 23,
   "id": "c33f1568",
   "metadata": {},
   "outputs": [],
   "source": [
    "fun describe(app: Application) = app.name // Application은 타입임\n"
   ]
  },
  {
   "cell_type": "code",
   "execution_count": 24,
   "id": "814b7ec7",
   "metadata": {},
   "outputs": [],
   "source": [
    "fun main26() {\n",
    "    println(Application)                                        // Application은 값임\n",
    "}\n"
   ]
  },
  {
   "cell_type": "code",
   "execution_count": 25,
   "id": "b3f585db",
   "metadata": {},
   "outputs": [
    {
     "name": "stdout",
     "output_type": "stream",
     "text": [
      "My Application\n"
     ]
    }
   ],
   "source": [
    "main26()\n"
   ]
  },
  {
   "cell_type": "code",
   "execution_count": 28,
   "id": "850d08d8",
   "metadata": {},
   "outputs": [
    {
     "data": {
      "text/plain": [
       "1721111191"
      ]
     },
     "execution_count": 28,
     "metadata": {},
     "output_type": "execute_result"
    }
   ],
   "source": [
    "Application.hashCode()"
   ]
  },
  {
   "cell_type": "code",
   "execution_count": 30,
   "id": "9a4c670b",
   "metadata": {},
   "outputs": [
    {
     "name": "stderr",
     "output_type": "stream",
     "text": [
      "Line_801.jupyter.kts (1:12 - 23) Expression 'Application' of type 'Line_754_jupyter.Application' cannot be invoked as a function. The function 'invoke()' is not found"
     ]
    }
   ],
   "source": [
    "val app1 = Application()"
   ]
  },
  {
   "cell_type": "code",
   "execution_count": null,
   "id": "9830206e",
   "metadata": {},
   "outputs": [],
   "source": []
  },
  {
   "cell_type": "code",
   "execution_count": 31,
   "id": "c4f65859",
   "metadata": {},
   "outputs": [],
   "source": [
    "// 싱글톤 클래스를 활용한 동반 객체\n",
    "class Application2 private constructor(val name: String) {\n",
    "    object Factory {\n",
    "        fun create(args: Array<String>): Application2? {\n",
    "            val name = args.firstOrNull() ?: return null\n",
    "            return Application2(name)\n",
    "        }\n",
    "    }\n",
    "}"
   ]
  },
  {
   "cell_type": "code",
   "execution_count": 32,
   "id": "4b7a6785",
   "metadata": {},
   "outputs": [],
   "source": [
    "fun main27(args: Array<String>) {\n",
    "    // 직접 생성자를 호출하도록 허용하지 않음\n",
    "    // val app = Application2(name)\n",
    "    val app = Application2.Factory.create(args) ?: return\n",
    "    println(\"Application started: ${app.name}\")\n",
    "}\n"
   ]
  },
  {
   "cell_type": "code",
   "execution_count": 33,
   "id": "340e7be2",
   "metadata": {},
   "outputs": [
    {
     "name": "stdout",
     "output_type": "stream",
     "text": [
      "Application started: test\n"
     ]
    }
   ],
   "source": [
    "main27(arrayOf(\"test\"))\n"
   ]
  },
  {
   "cell_type": "code",
   "execution_count": null,
   "id": "7b3b5a7d",
   "metadata": {},
   "outputs": [],
   "source": []
  },
  {
   "cell_type": "code",
   "execution_count": 37,
   "id": "df4e524c",
   "metadata": {},
   "outputs": [],
   "source": [
    "val app1 = Application2.Factory.create(arrayOf(\"ian\"))"
   ]
  },
  {
   "cell_type": "code",
   "execution_count": 38,
   "id": "f359c6d8",
   "metadata": {},
   "outputs": [
    {
     "data": {
      "text/plain": [
       "1446030432"
      ]
     },
     "execution_count": 38,
     "metadata": {},
     "output_type": "execute_result"
    }
   ],
   "source": [
    "app1.hashCode()"
   ]
  },
  {
   "cell_type": "code",
   "execution_count": 39,
   "id": "56bd8be9",
   "metadata": {},
   "outputs": [],
   "source": [
    "val app2 = Application2.Factory.create(arrayOf(\"ian\"))"
   ]
  },
  {
   "cell_type": "code",
   "execution_count": 40,
   "id": "3c2182bd",
   "metadata": {},
   "outputs": [
    {
     "data": {
      "text/plain": [
       "910730929"
      ]
     },
     "execution_count": 40,
     "metadata": {},
     "output_type": "execute_result"
    }
   ],
   "source": [
    "app2.hashCode()"
   ]
  },
  {
   "cell_type": "code",
   "execution_count": null,
   "id": "22c52a5d",
   "metadata": {},
   "outputs": [],
   "source": []
  },
  {
   "cell_type": "code",
   "execution_count": null,
   "id": "dc70d397",
   "metadata": {},
   "outputs": [],
   "source": []
  },
  {
   "cell_type": "code",
   "execution_count": null,
   "id": "e7f6a45a",
   "metadata": {},
   "outputs": [],
   "source": []
  },
  {
   "cell_type": "code",
   "execution_count": null,
   "id": "4e691bcd",
   "metadata": {},
   "outputs": [],
   "source": []
  },
  {
   "cell_type": "code",
   "execution_count": null,
   "id": "c42b9f59",
   "metadata": {},
   "outputs": [],
   "source": []
  },
  {
   "cell_type": "code",
   "execution_count": null,
   "id": "3c8cbd94",
   "metadata": {},
   "outputs": [],
   "source": []
  }
 ],
 "metadata": {
  "kernelspec": {
   "display_name": "Kotlin",
   "language": "kotlin",
   "name": "kotlin"
  },
  "language_info": {
   "codemirror_mode": "text/x-kotlin",
   "file_extension": ".kt",
   "mimetype": "text/x-kotlin",
   "name": "kotlin",
   "nbconvert_exporter": "",
   "pygments_lexer": "kotlin",
   "version": "1.8.20-Beta"
  }
 },
 "nbformat": 4,
 "nbformat_minor": 5
}
