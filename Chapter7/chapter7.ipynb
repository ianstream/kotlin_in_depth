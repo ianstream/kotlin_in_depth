{
 "cells": [
  {
   "cell_type": "code",
   "execution_count": 1,
   "id": "6239f33c",
   "metadata": {},
   "outputs": [],
   "source": [
    "import java.lang.StringBuilder\n",
    "import java.io.FileInputStream\n",
    "import java.io.FileReader \n",
    "import java.io.File\n"
   ]
  },
  {
   "cell_type": "code",
   "execution_count": null,
   "id": "36f9b304",
   "metadata": {},
   "outputs": [],
   "source": []
  },
  {
   "cell_type": "code",
   "execution_count": 2,
   "id": "e24fb681",
   "metadata": {},
   "outputs": [],
   "source": [
    "fun processCollection(c: Iterable<Any>) { \n",
    "    /*아무것도 하지 않음*/ \n",
    "    println(c)\n",
    "}\n",
    "\n",
    "fun main1() {\n",
    "  val list = listOf(\"a\", \"b\", \"c\") // List<String>\n",
    "  processCollection(list)          // Ok: List<String>을 List<Any>로 전달\n",
    "}"
   ]
  },
  {
   "cell_type": "code",
   "execution_count": 3,
   "id": "c613174a",
   "metadata": {},
   "outputs": [
    {
     "name": "stdout",
     "output_type": "stream",
     "text": [
      "[a, b, c]\n"
     ]
    }
   ],
   "source": [
    "main1()"
   ]
  },
  {
   "cell_type": "code",
   "execution_count": null,
   "id": "4bb29ac0",
   "metadata": {},
   "outputs": [],
   "source": []
  },
  {
   "cell_type": "code",
   "execution_count": 4,
   "id": "d22cf7b8",
   "metadata": {},
   "outputs": [],
   "source": [
    "class Person(\n",
    "  val firstName: String,\n",
    "  val familyName: String,\n",
    "  val age: Int\n",
    ") : Comparable<Person> {\n",
    "  val fullName get() = \"$firstName $familyName\"\n",
    "  override fun compareTo(other: Person) = fullName.compareTo(other.fullName)\n",
    "}\n"
   ]
  },
  {
   "cell_type": "code",
   "execution_count": 5,
   "id": "12966155",
   "metadata": {},
   "outputs": [],
   "source": [
    "val person1 = Person(\"ian\", \"kim\", 44)\n",
    "val person2 = Person(\"ian\", \"kim\", 44)"
   ]
  },
  {
   "cell_type": "code",
   "execution_count": 6,
   "id": "9ddae216",
   "metadata": {},
   "outputs": [
    {
     "data": {
      "text/plain": [
       "ian kim"
      ]
     },
     "execution_count": 6,
     "metadata": {},
     "output_type": "execute_result"
    }
   ],
   "source": [
    "person1.fullName"
   ]
  },
  {
   "cell_type": "code",
   "execution_count": 7,
   "id": "84c81612",
   "metadata": {},
   "outputs": [
    {
     "data": {
      "text/plain": [
       "0"
      ]
     },
     "execution_count": 7,
     "metadata": {},
     "output_type": "execute_result"
    }
   ],
   "source": [
    "person1.compareTo(person2)"
   ]
  },
  {
   "cell_type": "code",
   "execution_count": null,
   "id": "9a60110d",
   "metadata": {},
   "outputs": [],
   "source": []
  },
  {
   "cell_type": "code",
   "execution_count": 8,
   "id": "3c3eaf7a",
   "metadata": {},
   "outputs": [],
   "source": [
    "val AGE_COMPARATOR = Comparator<Person>{ p1, p2 ->\n",
    "  p1.age.compareTo(p2.age)\n",
    "}\n"
   ]
  },
  {
   "cell_type": "code",
   "execution_count": 9,
   "id": "4d52870f",
   "metadata": {},
   "outputs": [
    {
     "data": {
      "text/plain": [
       "Line_7_jupyter$$Lambda$358/0x00000008009d6840@f68390c"
      ]
     },
     "execution_count": 9,
     "metadata": {},
     "output_type": "execute_result"
    }
   ],
   "source": [
    "AGE_COMPARATOR"
   ]
  },
  {
   "cell_type": "code",
   "execution_count": null,
   "id": "4066aef5",
   "metadata": {},
   "outputs": [],
   "source": []
  },
  {
   "cell_type": "code",
   "execution_count": 10,
   "id": "2d7609f1",
   "metadata": {},
   "outputs": [
    {
     "name": "stdout",
     "output_type": "stream",
     "text": [
      "[red, green]\n",
      "[21, 12]\n",
      "{10=Ten, 20=Twenty}\n",
      "[]\n"
     ]
    }
   ],
   "source": [
    "val list3 = ArrayList<String>()\n",
    "list3.add(\"red\")\n",
    "list3.add(\"green\")\n",
    "println(list3) // [red, green]\n",
    "\n",
    "// 코틀린 스크립트 모드에서는 set을 게터/세터의 set으로 인식해서 문제가 생길 수 있다. 변수 이름을 바꿔서 문제를 해결한다.\n",
    "val set1 = HashSet<Int>()\n",
    "set1.add(12)\n",
    "set1.add(21)\n",
    "set1.add(12)\n",
    "println(set1) // [12, 21]\n",
    "\n",
    "val map = java.util.TreeMap<Int, String>()\n",
    "map[20] = \"Twenty\"\n",
    "map[10] = \"Ten\"\n",
    "println(map) // {10=Ten, 20=Twenty}\n",
    "\n",
    "val emptyList = emptyList<String>()\n",
    "println(emptyList)   // []\n"
   ]
  },
  {
   "cell_type": "code",
   "execution_count": 11,
   "id": "c6934e89",
   "metadata": {},
   "outputs": [
    {
     "name": "stderr",
     "output_type": "stream",
     "text": [
      "Line_10.jupyter.kts (1:11 - 14) Unresolved reference: add"
     ]
    }
   ],
   "source": [
    "emptyList.add(\"abc\") // error: unresolved reference: add\n"
   ]
  },
  {
   "cell_type": "code",
   "execution_count": null,
   "id": "9e8a933b",
   "metadata": {},
   "outputs": [],
   "source": []
  },
  {
   "cell_type": "code",
   "execution_count": 12,
   "id": "d402a77d",
   "metadata": {},
   "outputs": [
    {
     "name": "stdout",
     "output_type": "stream",
     "text": [
      "[abc]\n"
     ]
    }
   ],
   "source": [
    "val singletonSet = setOf(\"abc\")\n",
    "println(singletonSet)      // [abc]\n",
    "//singletonSet.remove(\"abc\") // error: unresolved reference\n"
   ]
  },
  {
   "cell_type": "code",
   "execution_count": 13,
   "id": "5f755975",
   "metadata": {},
   "outputs": [
    {
     "name": "stderr",
     "output_type": "stream",
     "text": [
      "Line_12.jupyter.kts (1:14 - 20) Unresolved reference. None of the following candidates is applicable because of receiver type mismatch: \n",
      "public inline fun <T> MutableCollection<out TypeVariable(T)>.remove(element: TypeVariable(T)): Boolean defined in kotlin.collections\n",
      "public inline fun <T> MutableList<TypeVariable(T)>.remove(index: Int): TypeVariable(T) defined in kotlin.collections\n",
      "public inline fun <K, V> MutableMap<out TypeVariable(K), TypeVariable(V)>.remove(key: TypeVariable(K)): TypeVariable(V)? defined in kotlin.collections\n",
      "public inline fun <K, V> MutableMap<out TypeVariable(K), out TypeVariable(V)>.remove(key: TypeVariable(K), value: TypeVariable(V)): Boolean defined in kotlin.collections"
     ]
    }
   ],
   "source": [
    "singletonSet.remove(\"abc\") // error: unresolved reference\n"
   ]
  },
  {
   "cell_type": "code",
   "execution_count": 14,
   "id": "c2a26d34",
   "metadata": {},
   "outputs": [
    {
     "name": "stdout",
     "output_type": "stream",
     "text": [
      "[abc]\n",
      "[xyz, def]\n"
     ]
    }
   ],
   "source": [
    "val mutableList = mutableListOf(\"abc\")\n",
    "println(mutableList) // [abc]\n",
    "mutableList.add(\"def\")\n",
    "mutableList[0] = \"xyz\"\n",
    "println(mutableList) // [xyz, def]\n"
   ]
  },
  {
   "cell_type": "code",
   "execution_count": 15,
   "id": "85ac0924",
   "metadata": {},
   "outputs": [
    {
     "name": "stdout",
     "output_type": "stream",
     "text": [
      "[1, 4, 5, 7, 8]\n",
      "[1, 2, 4, 5, 7, 8]\n",
      "[0, 1, 4, 9, 16]\n"
     ]
    }
   ],
   "source": [
    "val sortedSet = sortedSetOf(8, 5, 7, 1, 4)\n",
    "println(sortedSet) // [1, 4, 5, 7, 8]\n",
    "sortedSet.add(2)\n",
    "println(sortedSet) // [1, 2, 4, 5, 7, 8]\n",
    "\n",
    "println(List(5) { it*it }) // [0, 1, 4, 9, 16]\n"
   ]
  },
  {
   "cell_type": "code",
   "execution_count": null,
   "id": "fc14e4a6",
   "metadata": {},
   "outputs": [],
   "source": []
  },
  {
   "cell_type": "code",
   "execution_count": 16,
   "id": "1d36f022",
   "metadata": {},
   "outputs": [
    {
     "name": "stdout",
     "output_type": "stream",
     "text": [
      "{}\n"
     ]
    }
   ],
   "source": [
    "val emptyMap = emptyMap<Int, String>()\n",
    "println(emptyMap)"
   ]
  },
  {
   "cell_type": "code",
   "execution_count": 17,
   "id": "b51743aa",
   "metadata": {},
   "outputs": [
    {
     "name": "stderr",
     "output_type": "stream",
     "text": [
      "Line_16.jupyter.kts (1:1 - 13) Unresolved reference. None of the following candidates is applicable because of receiver type mismatch: \n",
      "public inline operator fun kotlin.text.StringBuilder /* = java.lang.StringBuilder */.set(index: Int, value: Char): Unit defined in kotlin.text\n",
      "Line_16.jupyter.kts (1:9 - 13) No set method providing array access"
     ]
    }
   ],
   "source": [
    "emptyMap[10] = \"Ten\""
   ]
  },
  {
   "cell_type": "code",
   "execution_count": 18,
   "id": "fa6fc51f",
   "metadata": {},
   "outputs": [
    {
     "name": "stdout",
     "output_type": "stream",
     "text": [
      "{10=Ten}"
     ]
    }
   ],
   "source": [
    "val singletonMap = mapOf(10 to \"Ten\")\n",
    "print(singletonMap)"
   ]
  },
  {
   "cell_type": "code",
   "execution_count": 19,
   "id": "45937529",
   "metadata": {},
   "outputs": [
    {
     "name": "stderr",
     "output_type": "stream",
     "text": [
      "Line_18.jupyter.kts (1:14 - 20) Unresolved reference. None of the following candidates is applicable because of receiver type mismatch: \n",
      "public inline fun <T> MutableCollection<out TypeVariable(T)>.remove(element: TypeVariable(T)): Boolean defined in kotlin.collections\n",
      "public inline fun <T> MutableList<TypeVariable(T)>.remove(index: Int): TypeVariable(T) defined in kotlin.collections\n",
      "public inline fun <K, V> MutableMap<out TypeVariable(K), TypeVariable(V)>.remove(key: TypeVariable(K)): TypeVariable(V)? defined in kotlin.collections\n",
      "public inline fun <K, V> MutableMap<out TypeVariable(K), out TypeVariable(V)>.remove(key: TypeVariable(K), value: TypeVariable(V)): Boolean defined in kotlin.collections"
     ]
    }
   ],
   "source": [
    "singletonMap.remove(\"abc\")"
   ]
  },
  {
   "cell_type": "code",
   "execution_count": 20,
   "id": "fe66c17f",
   "metadata": {},
   "outputs": [
    {
     "name": "stdout",
     "output_type": "stream",
     "text": [
      "{10=Ten}{20=Twenty, 100=Hundred}\n"
     ]
    }
   ],
   "source": [
    "val mutableMap = mutableMapOf(10 to \"Ten\")\n",
    "print(mutableMap)\n",
    "mutableMap[20] = \"Twenty\"\n",
    "mutableMap[100] = \"Hundred\"\n",
    "mutableMap.remove(10)\n",
    "println(mutableMap)"
   ]
  },
  {
   "cell_type": "code",
   "execution_count": 21,
   "id": "07adebef",
   "metadata": {},
   "outputs": [
    {
     "name": "stdout",
     "output_type": "stream",
     "text": [
      "{1=one, 2=two, 3=three}\n",
      "{0=zero, 1=one, 2=two, 3=three}\n"
     ]
    }
   ],
   "source": [
    "val sortedMap = sortedMapOf(3 to \"three\", 1 to \"one\", 2 to \"two\")\n",
    "println(sortedMap)\n",
    "sortedMap[0] = \"zero\"\n",
    "println(sortedMap)"
   ]
  },
  {
   "cell_type": "code",
   "execution_count": null,
   "id": "987889e2",
   "metadata": {},
   "outputs": [],
   "source": []
  },
  {
   "cell_type": "code",
   "execution_count": 22,
   "id": "91f98dee",
   "metadata": {},
   "outputs": [
    {
     "name": "stdout",
     "output_type": "stream",
     "text": [
      "[0, 1, 4, 9, 16]\n",
      "[0, 2, 4, 6, 8]\n"
     ]
    }
   ],
   "source": [
    "println(List(5) { it*it }) // [0, 1, 4, 9, 16]\n",
    "println(List(5) { it+it }) // [0, 2, 4, 6, 9]"
   ]
  },
  {
   "cell_type": "code",
   "execution_count": null,
   "id": "0d8ebca1",
   "metadata": {},
   "outputs": [],
   "source": []
  },
  {
   "cell_type": "code",
   "execution_count": 23,
   "id": "c8d9ee2f",
   "metadata": {},
   "outputs": [
    {
     "name": "stdout",
     "output_type": "stream",
     "text": [
      "[0, 2, 4, 6, 8]\n",
      "[0, 2, 4, 6, 8, 100]\n"
     ]
    }
   ],
   "source": [
    "\n",
    "val numbers = MutableList(5) { it*2 }\n",
    "println(numbers) // [0, 2, 4, 6, 8]\n",
    "numbers.add(100)\n",
    "println(numbers) // [0, 2, 4, 6, 8, 100]\n"
   ]
  },
  {
   "cell_type": "code",
   "execution_count": 24,
   "id": "96b8cb55",
   "metadata": {},
   "outputs": [
    {
     "name": "stdout",
     "output_type": "stream",
     "text": [
      "1\n",
      "10\n",
      "1=One\n"
     ]
    }
   ],
   "source": [
    "println(sequenceOf(1, 2, 3).iterator().next())             // 1\n",
    "println(listOf(10, 20, 30).asSequence().iterator().next()) // 10\n",
    "println(\n",
    "  mapOf(1 to \"One\", 2 to \"Two\").asSequence().iterator().next()\n",
    ")                                                          // 1=One\n"
   ]
  },
  {
   "cell_type": "code",
   "execution_count": null,
   "id": "38c0eb11",
   "metadata": {},
   "outputs": [],
   "source": []
  },
  {
   "cell_type": "code",
   "execution_count": 25,
   "id": "ec10224e",
   "metadata": {},
   "outputs": [
    {
     "name": "stdout",
     "output_type": "stream",
     "text": [
      "Input a number:\n",
      "stdin:1\n",
      "1\n"
     ]
    }
   ],
   "source": [
    "val numbers2 = generateSequence{ println(\"Input a number:\");readLine()?.toIntOrNull() }\n",
    "\n",
    "println(numbers2.first()) // 실제 원소를 소비해야 readLine이 호출됨\n"
   ]
  },
  {
   "cell_type": "code",
   "execution_count": null,
   "id": "c1ca24ee",
   "metadata": {},
   "outputs": [],
   "source": []
  },
  {
   "cell_type": "code",
   "execution_count": 26,
   "id": "080a56d8",
   "metadata": {},
   "outputs": [],
   "source": [
    "// 무한 시퀀스(단, 값 오버플로가 발생해서 음수와 양수를 왔다갔다 함): 1, 2, 4, 8,...\n",
    "val powers = generateSequence(1) { it*2 }\n",
    "\n",
    "// 유한 시퀀스: 10, 8, 6, 4, 2, 0\n",
    "val evens = generateSequence(10) { if (it >= 2) it - 2 else null }\n"
   ]
  },
  {
   "cell_type": "code",
   "execution_count": 27,
   "id": "4ea3ef09",
   "metadata": {},
   "outputs": [
    {
     "data": {
      "text/plain": [
       "kotlin.sequences.GeneratorSequence@7f53f65d"
      ]
     },
     "execution_count": 27,
     "metadata": {},
     "output_type": "execute_result"
    }
   ],
   "source": [
    "powers"
   ]
  },
  {
   "cell_type": "code",
   "execution_count": 28,
   "id": "a82334bc",
   "metadata": {},
   "outputs": [
    {
     "data": {
      "text/plain": [
       "kotlin.sequences.GeneratorSequence@544e8392"
      ]
     },
     "execution_count": 28,
     "metadata": {},
     "output_type": "execute_result"
    }
   ],
   "source": [
    "evens"
   ]
  },
  {
   "cell_type": "code",
   "execution_count": null,
   "id": "3b411d94",
   "metadata": {},
   "outputs": [],
   "source": []
  },
  {
   "cell_type": "code",
   "execution_count": 29,
   "id": "157a94c0",
   "metadata": {},
   "outputs": [
    {
     "name": "stdout",
     "output_type": "stream",
     "text": [
      "[0, 1, 2, 3, 4, 5, 6, 10, 30, 90]\n"
     ]
    }
   ],
   "source": [
    "val numbers3 = sequence {\n",
    "  yield(0)\n",
    "  yieldAll(listOf(1, 2, 3))\n",
    "  yieldAll(intArrayOf(4, 5, 6).iterator())\n",
    "  yieldAll(generateSequence(10) { if (it < 50) it*3 else null })\n",
    "}\n",
    "\n",
    "println(numbers3.toList()) // [0, 1, 2, 3, 4, 5, 6, 10, 30, 90]\n"
   ]
  },
  {
   "cell_type": "code",
   "execution_count": null,
   "id": "0e51796a",
   "metadata": {},
   "outputs": [],
   "source": []
  },
  {
   "cell_type": "code",
   "execution_count": 30,
   "id": "86f548c4",
   "metadata": {},
   "outputs": [
    {
     "name": "stdout",
     "output_type": "stream",
     "text": [
      "[1, 2, 3]\n",
      "[blue, green, red]\n",
      "[(1, one), (2, two), (3, threen)]\n",
      "{1=one, 2=two, 3=threen}\n"
     ]
    }
   ],
   "source": [
    "println(\n",
    "  listOf(1, 2, 3, 2, 3).toSet()\n",
    ") // [1, 2, 3]\n",
    "\n",
    "println(\n",
    "  arrayOf(\"red\", \"green\", \"blue\").toSortedSet()\n",
    ") // [blue, green, red]\n",
    "\n",
    "println(\n",
    "  mapOf(1 to \"one\", 2 to \"two\", 3 to \"threen\").toList()\n",
    ") // [(1, one), (2, two), (3, threen)]\n",
    "\n",
    "println(\n",
    "  sequenceOf(1 to \"one\", 2 to \"two\", 3 to \"threen\").toMap()\n",
    ") // {1=one, 2=two, 3=threen}"
   ]
  },
  {
   "cell_type": "code",
   "execution_count": null,
   "id": "5545b73a",
   "metadata": {},
   "outputs": [],
   "source": []
  },
  {
   "cell_type": "code",
   "execution_count": 31,
   "id": "4d1b524e",
   "metadata": {},
   "outputs": [],
   "source": [
    "val map2 = mapOf(1 to \"one\", 2 to \"two\", 3 to \"three\")\n"
   ]
  },
  {
   "cell_type": "code",
   "execution_count": 32,
   "id": "408157a4",
   "metadata": {},
   "outputs": [
    {
     "name": "stdout",
     "output_type": "stream",
     "text": [
      "1 -> one\n",
      "2 -> two\n",
      "3 -> three\n"
     ]
    }
   ],
   "source": [
    "for ((key, value) in map2) {\n",
    "    println(\"$key -> $value\")\n",
    "}"
   ]
  },
  {
   "cell_type": "code",
   "execution_count": 33,
   "id": "1bd418d7",
   "metadata": {},
   "outputs": [
    {
     "name": "stdout",
     "output_type": "stream",
     "text": [
      "1 -> one\n",
      "2 -> two\n",
      "3 -> three\n"
     ]
    }
   ],
   "source": [
    "// (key, value) 와 같이 추출하는 구조 분해를 지원\n",
    "map2.forEach { (key, value) -> println(\"$key -> $value\") }"
   ]
  },
  {
   "cell_type": "code",
   "execution_count": null,
   "id": "7b611415",
   "metadata": {},
   "outputs": [],
   "source": []
  },
  {
   "cell_type": "code",
   "execution_count": 34,
   "id": "21b913d6",
   "metadata": {},
   "outputs": [
    {
     "name": "stdout",
     "output_type": "stream",
     "text": [
      "1\n",
      "4\n",
      "9\n",
      "\n",
      "1\n",
      "4\n",
      "9\n"
     ]
    }
   ],
   "source": [
    "// 암묵적으로 it 은 생략해도 됨\n",
    "intArrayOf(1, 2, 3).forEach { println(it*it) }\n",
    "println()\n",
    "intArrayOf(1, 2, 3).forEach { it -> println(it*it) }"
   ]
  },
  {
   "cell_type": "code",
   "execution_count": null,
   "id": "dd6ed300",
   "metadata": {},
   "outputs": [],
   "source": []
  },
  {
   "cell_type": "code",
   "execution_count": 35,
   "id": "953d1725",
   "metadata": {},
   "outputs": [
    {
     "name": "stdout",
     "output_type": "stream",
     "text": [
      "'a'\n",
      "'b'\n",
      "'c'\n"
     ]
    }
   ],
   "source": [
    "listOf(\"a\", \"b\", \"c\").forEach { println(\"'$it'\") }"
   ]
  },
  {
   "cell_type": "code",
   "execution_count": null,
   "id": "a5a909a0",
   "metadata": {},
   "outputs": [],
   "source": []
  },
  {
   "cell_type": "code",
   "execution_count": 36,
   "id": "f4698178",
   "metadata": {},
   "outputs": [
    {
     "name": "stdout",
     "output_type": "stream",
     "text": [
      "'a'\n",
      "'b'\n",
      "'c'\n"
     ]
    }
   ],
   "source": [
    "sequenceOf(\"a\", \"b\", \"c\").forEach { println(\"'$it'\") }"
   ]
  },
  {
   "cell_type": "code",
   "execution_count": 37,
   "id": "d0ca5495",
   "metadata": {},
   "outputs": [
    {
     "name": "stdout",
     "output_type": "stream",
     "text": [
      "a\n",
      "b\n",
      "c\n"
     ]
    }
   ],
   "source": [
    "// asSequence() 는 불필요\n",
    "listOf(\"a\", \"b\", \"c\").asSequence().forEach { println(\"$it\") }"
   ]
  },
  {
   "cell_type": "code",
   "execution_count": null,
   "id": "59f7d58e",
   "metadata": {},
   "outputs": [],
   "source": []
  },
  {
   "cell_type": "code",
   "execution_count": 38,
   "id": "b0d8af5e",
   "metadata": {},
   "outputs": [
    {
     "name": "stdout",
     "output_type": "stream",
     "text": [
      "1 -> one\n",
      "2 -> two\n",
      "3 -> three\n"
     ]
    }
   ],
   "source": [
    "mapOf(1 to \"one\", 2 to \"two\", 3 to \"three\").forEach { (key, value) ->\n",
    "  println(\"$key -> $value\")\n",
    "}"
   ]
  },
  {
   "cell_type": "code",
   "execution_count": null,
   "id": "08c33db0",
   "metadata": {},
   "outputs": [],
   "source": []
  },
  {
   "cell_type": "code",
   "execution_count": 39,
   "id": "84d0ee8e",
   "metadata": {},
   "outputs": [
    {
     "name": "stdout",
     "output_type": "stream",
     "text": [
      "0: 100\n",
      "1: 400\n",
      "2: 900\n"
     ]
    }
   ],
   "source": [
    "listOf(10, 20, 30).forEachIndexed { i, n ->println(\"$i: ${n*n}\") }\n"
   ]
  },
  {
   "cell_type": "code",
   "execution_count": null,
   "id": "6e6762f2",
   "metadata": {},
   "outputs": [],
   "source": []
  },
  {
   "cell_type": "code",
   "execution_count": 40,
   "id": "c944590f",
   "metadata": {},
   "outputs": [
    {
     "name": "stdout",
     "output_type": "stream",
     "text": [
      "false\n",
      "3\n",
      "false\n",
      "true\n",
      "true\n"
     ]
    }
   ],
   "source": [
    "val list4 = listOf(1, 2, 3)\n",
    "\n",
    "println(list4.isEmpty())                 // false\n",
    "println(list4.size)                      // 3\n",
    "println(list4.contains(4))               // false\n",
    "println(2 in list4)                      // true\n",
    "println(list4.containsAll(listOf(1, 2))) // true"
   ]
  },
  {
   "cell_type": "code",
   "execution_count": 41,
   "id": "38427803",
   "metadata": {},
   "outputs": [
    {
     "name": "stderr",
     "output_type": "stream",
     "text": [
      "Line_40.jupyter.kts (1:7 - 13) Unresolved reference. None of the following candidates is applicable because of receiver type mismatch: \n",
      "public inline fun <T> MutableCollection<out TypeVariable(T)>.remove(element: TypeVariable(T)): Boolean defined in kotlin.collections\n",
      "public inline fun <T> MutableList<TypeVariable(T)>.remove(index: Int): TypeVariable(T) defined in kotlin.collections\n",
      "public inline fun <K, V> MutableMap<out TypeVariable(K), TypeVariable(V)>.remove(key: TypeVariable(K)): TypeVariable(V)? defined in kotlin.collections\n",
      "public inline fun <K, V> MutableMap<out TypeVariable(K), out TypeVariable(V)>.remove(key: TypeVariable(K), value: TypeVariable(V)): Boolean defined in kotlin.collections"
     ]
    }
   ],
   "source": [
    "list4.remove(3)"
   ]
  },
  {
   "cell_type": "code",
   "execution_count": null,
   "id": "70ab714e",
   "metadata": {},
   "outputs": [],
   "source": []
  },
  {
   "cell_type": "code",
   "execution_count": 42,
   "id": "2dd0c5d9",
   "metadata": {},
   "outputs": [
    {
     "name": "stdout",
     "output_type": "stream",
     "text": [
      "[1, 2, 3, 4]\n",
      "[1, 2, 4]\n",
      "[1, 2, 4, 5, 6]\n",
      "[4, 5, 6]\n",
      "[5, 6]\n",
      "[]\n"
     ]
    }
   ],
   "source": [
    "val list5 = arrayListOf(1, 2, 3)\n",
    "\n",
    "list5.add(4)                     // 원소 하나 추가: [1, 2, 3, 4]\n",
    "println(list5)\n",
    "\n",
    "list5.remove(3)                  // 원소 하나 제거: [1, 2, 4]\n",
    "println(list5)\n",
    "\n",
    "list5.addAll(setOf(5, 6))        // 합집합: [1, 2, 4, 5, 6]\n",
    "println(list5)\n",
    "\n",
    "list5.removeAll(listOf(1, 2))    // 차집합: [4, 5, 6]\n",
    "println(list5)\n",
    "\n",
    "list5.retainAll(listOf(5, 6, 7)) // 교집합: [5, 6]\n",
    "println(list5)\n",
    "\n",
    "list5.clear()                    // 모든 원소 제거: []\n",
    "println(list5)\n"
   ]
  },
  {
   "cell_type": "code",
   "execution_count": null,
   "id": "1f1498d6",
   "metadata": {},
   "outputs": [],
   "source": []
  },
  {
   "cell_type": "code",
   "execution_count": 43,
   "id": "3ed42691",
   "metadata": {},
   "outputs": [
    {
     "name": "stdout",
     "output_type": "stream",
     "text": [
      "[4]\n",
      "[4]\n",
      "[4, 5, 6]\n",
      "[4, 5, 6]\n"
     ]
    }
   ],
   "source": [
    "list5 += 4\n",
    "println(list5)\n",
    "\n",
    "list5 -= 3\n",
    "println(list5)\n",
    "\n",
    "list5 += setOf(5, 6)\n",
    "println(list5)\n",
    "\n",
    "list5 -= listOf(1, 2)\n",
    "println(list5)\n"
   ]
  },
  {
   "cell_type": "code",
   "execution_count": null,
   "id": "33b991c1",
   "metadata": {},
   "outputs": [],
   "source": []
  },
  {
   "cell_type": "code",
   "execution_count": 44,
   "id": "ff36d6db",
   "metadata": {},
   "outputs": [
    {
     "name": "stdout",
     "output_type": "stream",
     "text": [
      "[1, 2, 3, 4]\n",
      "[1, 3]\n"
     ]
    }
   ],
   "source": [
    "\n",
    "val list1 = listOf(1, 2, 3)\n",
    "val list2 = list1 + 4\n",
    "\n",
    "println(list2) // [1, 2, 3, 4]\n",
    "println(listOf(1, 2, 3) - setOf(2, 5)) // [1, 3]"
   ]
  },
  {
   "cell_type": "code",
   "execution_count": 45,
   "id": "666be6d8",
   "metadata": {},
   "outputs": [
    {
     "data": {
      "text/plain": [
       "30817, 955331"
      ]
     },
     "execution_count": 45,
     "metadata": {},
     "output_type": "execute_result"
    }
   ],
   "source": [
    "\"${list1.hashCode()}, ${list2.hashCode()}\""
   ]
  },
  {
   "cell_type": "code",
   "execution_count": null,
   "id": "1dd2b4c9",
   "metadata": {},
   "outputs": [],
   "source": []
  },
  {
   "cell_type": "code",
   "execution_count": 46,
   "id": "bb5cca8f",
   "metadata": {},
   "outputs": [],
   "source": [
    "val readOnly = listOf(1, 2, 3)\n",
    "//readOnly += 4 // error: can't assign to val\n",
    "var mutable = listOf(1, 2, 3)\n",
    "mutable += 4  // Correct"
   ]
  },
  {
   "cell_type": "code",
   "execution_count": 47,
   "id": "df77cbbd",
   "metadata": {},
   "outputs": [],
   "source": [
    "// +/- 연산자로 대입일 일어날때마다 암시적으로 새로운 컬렉션을 생성하므로 성능에 문제가 될 수 있다"
   ]
  },
  {
   "cell_type": "code",
   "execution_count": null,
   "id": "17b0f854",
   "metadata": {},
   "outputs": [],
   "source": []
  },
  {
   "cell_type": "code",
   "execution_count": 48,
   "id": "596c047e",
   "metadata": {},
   "outputs": [
    {
     "name": "stdout",
     "output_type": "stream",
     "text": [
      "2\n",
      "6\n",
      "1\n",
      "4\n",
      "-1\n"
     ]
    }
   ],
   "source": [
    "val list6 = listOf(1, 4, 6, 2, 4, 1, 7)\n",
    "\n",
    "println(list6.get(3))         // 2\n",
    "println(list6[2])             // 6\n",
    "//println(list6[10])            // java.lang.ArrayIndexOutOfBoundsException\n",
    "println(list6.indexOf(4))     // 1\n",
    "println(list6.lastIndexOf(4)) // 4\n",
    "println(list6.indexOf(8))     // -1\n"
   ]
  },
  {
   "cell_type": "code",
   "execution_count": null,
   "id": "f28d96fc",
   "metadata": {},
   "outputs": [],
   "source": []
  },
  {
   "cell_type": "code",
   "execution_count": 49,
   "id": "3fc9e090",
   "metadata": {},
   "outputs": [],
   "source": [
    "val list7 = arrayListOf(1, 4, 6, 2, 4, 1, 7)\n",
    "\n",
    "list7.set(3, 0)   // [1, 4, 6, 0, 4, 1, 7]\n",
    "list7[2] = 1      // [1, 4, 1, 0, 4, 1, 7]\n",
    "list7.removeAt(5) // [1, 4, 1, 0, 4, 7]\n",
    "list7.add(3, 8)   // [1, 4, 1, 8, 0, 4, 7]\n"
   ]
  },
  {
   "cell_type": "code",
   "execution_count": 50,
   "id": "75395895",
   "metadata": {},
   "outputs": [
    {
     "data": {
      "text/plain": [
       "[1, 4, 1, 8, 0, 4, 7]"
      ]
     },
     "execution_count": 50,
     "metadata": {},
     "output_type": "execute_result"
    }
   ],
   "source": [
    "list7"
   ]
  },
  {
   "cell_type": "code",
   "execution_count": null,
   "id": "915e4a99",
   "metadata": {},
   "outputs": [],
   "source": []
  },
  {
   "cell_type": "code",
   "execution_count": 51,
   "id": "4c7ca25b",
   "metadata": {},
   "outputs": [
    {
     "data": {
      "text/plain": [
       "1"
      ]
     },
     "execution_count": 51,
     "metadata": {},
     "output_type": "execute_result"
    }
   ],
   "source": [
    "list7.first()"
   ]
  },
  {
   "cell_type": "code",
   "execution_count": 52,
   "id": "3f5fb2f1",
   "metadata": {},
   "outputs": [
    {
     "data": {
      "text/plain": [
       "7"
      ]
     },
     "execution_count": 52,
     "metadata": {},
     "output_type": "execute_result"
    }
   ],
   "source": [
    "list7.last()"
   ]
  },
  {
   "cell_type": "code",
   "execution_count": null,
   "id": "39aa775f",
   "metadata": {},
   "outputs": [],
   "source": []
  },
  {
   "cell_type": "code",
   "execution_count": 53,
   "id": "3fc68d4b",
   "metadata": {},
   "outputs": [
    {
     "name": "stdout",
     "output_type": "stream",
     "text": [
      "false\n",
      "4\n",
      "V\n",
      "X\n",
      "null\n",
      "?\n",
      "?\n",
      "true\n",
      "false\n",
      "[1, 5, 10, 50]\n",
      "[I, V, X, L]\n",
      "[1=I, 5=V, 10=X, 50=L]\n"
     ]
    }
   ],
   "source": [
    "val map3 = mapOf(1 to \"I\", 5 to \"V\", 10 to \"X\", 50 to \"L\")\n",
    "\n",
    "println(map3.isEmpty())              // false\n",
    "println(map3.size)                   // 4\n",
    "println(map3.get(5))                 // V\n",
    "println(map3[10])                    // X\n",
    "println(map3[100])                   // null\n",
    "println(map3.getOrDefault(100, \"?\")) // ?\n",
    "println(map3.getOrElse(100) { \"?\" }) // ?\n",
    "println(map3.containsKey(10))        // true\n",
    "println(map3.containsValue(\"C\"))     // false\n",
    "println(map3.keys)                   // [1, 5, 10, 50]\n",
    "println(map3.values)                 // [I, V, X, L]\n",
    "println(map3.entries)                // [1=I, 5=V, 10=X, 50=L]"
   ]
  },
  {
   "cell_type": "code",
   "execution_count": null,
   "id": "47efc606",
   "metadata": {},
   "outputs": [],
   "source": []
  },
  {
   "cell_type": "code",
   "execution_count": 54,
   "id": "604ea769",
   "metadata": {},
   "outputs": [],
   "source": [
    "val map4 = sortedMapOf(1 to \"I\", 5 to \"V\")\n",
    "\n",
    "map4.put(100, \"C\")            // {1=I, 5=V, 100=C}\n",
    "map4[500] = \"D\"               // {1=I, 5=V, 100=C, 500=D}\n",
    "map4.remove(1)                // {5=V, 100=C, 500=D}\n",
    "map4.putAll(mapOf(10 to \"X\")) // {5=V, 10=X, 100=C, 500=D}\n",
    "map4 += 50 to \"L\"             // {5=V, 10=X, 50=L, 100=C, 500=D}\n",
    "map4 += mapOf(2 to \"II\",\n",
    "3 to \"III\")                  // {2=II, 3=III, 5=V, 10=X, 50=L, 100=C, 500=D}\n",
    "map4 -= 100                   // {2=II, 3=III, 5=V, 10=X, 50=L, 500=D}\n",
    "map4 -= listOf(2, 3)          // {5=V, 10=X, 50=L, 500=D}"
   ]
  },
  {
   "cell_type": "code",
   "execution_count": 55,
   "id": "98a21f3d",
   "metadata": {},
   "outputs": [
    {
     "data": {
      "text/plain": [
       "{5=V, 10=X, 50=L, 500=D}"
      ]
     },
     "execution_count": 55,
     "metadata": {},
     "output_type": "execute_result"
    }
   ],
   "source": [
    "map4"
   ]
  },
  {
   "cell_type": "code",
   "execution_count": null,
   "id": "c5c3be97",
   "metadata": {},
   "outputs": [],
   "source": []
  },
  {
   "cell_type": "code",
   "execution_count": 56,
   "id": "36987a7c",
   "metadata": {},
   "outputs": [
    {
     "name": "stdout",
     "output_type": "stream",
     "text": [
      "1\n",
      "3\n",
      "null\n"
     ]
    }
   ],
   "source": [
    "println(listOf(1, 2, 3).first())            // 1\n",
    "println(listOf(1, 2, 3).last())             // 3\n",
    "//println(emptyArray<String>().first())       // java.util.NoSuchElementException\n",
    "println(emptyArray<String>().firstOrNull()) // null"
   ]
  },
  {
   "cell_type": "code",
   "execution_count": null,
   "id": "13d4ec93",
   "metadata": {},
   "outputs": [],
   "source": []
  },
  {
   "cell_type": "code",
   "execution_count": 57,
   "id": "5e309120",
   "metadata": {},
   "outputs": [
    {
     "name": "stdout",
     "output_type": "stream",
     "text": [
      "1\n",
      "81\n"
     ]
    }
   ],
   "source": [
    "val seq = generateSequence(1) { if (it > 50) null else it * 3 }\n",
    "\n",
    "println(seq.first()) // 1\n",
    "println(seq.last())  // 81"
   ]
  },
  {
   "cell_type": "code",
   "execution_count": 58,
   "id": "086393b3",
   "metadata": {},
   "outputs": [
    {
     "data": {
      "text/plain": [
       "[1, 3, 9, 27, 81]"
      ]
     },
     "execution_count": 58,
     "metadata": {},
     "output_type": "execute_result"
    }
   ],
   "source": [
    "seq.toSortedSet()"
   ]
  },
  {
   "cell_type": "code",
   "execution_count": 59,
   "id": "c712a088",
   "metadata": {},
   "outputs": [
    {
     "data": {
      "text/plain": [
       "[1, 3, 9, 27, 81]"
      ]
     },
     "execution_count": 59,
     "metadata": {},
     "output_type": "execute_result"
    }
   ],
   "source": [
    "seq.toMutableList()"
   ]
  },
  {
   "cell_type": "code",
   "execution_count": null,
   "id": "9a15eec8",
   "metadata": {},
   "outputs": [],
   "source": []
  },
  {
   "cell_type": "code",
   "execution_count": 60,
   "id": "1ba4ec80",
   "metadata": {},
   "outputs": [
    {
     "name": "stdout",
     "output_type": "stream",
     "text": [
      "3\n",
      "null\n"
     ]
    }
   ],
   "source": [
    "println(listOf(1, 2, 3).first { it > 2 })      // 31\n",
    "println(listOf(1, 2, 3).lastOrNull { it < 0 }) // null\n",
    "//println(intArrayOf(1, 2, 3).first { it > 3 })  // java.util.NoSuchElementException\n"
   ]
  },
  {
   "cell_type": "code",
   "execution_count": null,
   "id": "e1a4cadb",
   "metadata": {},
   "outputs": [],
   "source": []
  },
  {
   "cell_type": "code",
   "execution_count": 61,
   "id": "667e7796",
   "metadata": {},
   "outputs": [
    {
     "name": "stdout",
     "output_type": "stream",
     "text": [
      "1\n",
      "null\n",
      "null\n"
     ]
    }
   ],
   "source": [
    "println(listOf(1).single())                  // 1\n",
    "println(emptyArray<String>().singleOrNull()) // null\n",
    "println(setOf(1, 2, 3).singleOrNull())       // null\n",
    "// java.lang.IllegalArgumentException: Sequence has more than one element.\n",
    "//println(sequenceOf(1, 2, 3).single())\n"
   ]
  },
  {
   "cell_type": "code",
   "execution_count": 62,
   "id": "851db13f",
   "metadata": {},
   "outputs": [
    {
     "name": "stderr",
     "output_type": "stream",
     "text": [
      "Sequence has more than one element.\n",
      "java.lang.IllegalArgumentException: Sequence has more than one element.\n",
      "\tat kotlin.sequences.SequencesKt___SequencesKt.single(_Sequences.kt:336)\n",
      "\tat Line_61_jupyter.<init>(Line_61.jupyter.kts:1)\n",
      "\tat java.base/jdk.internal.reflect.NativeConstructorAccessorImpl.newInstance0(Native Method)\n",
      "\tat java.base/jdk.internal.reflect.NativeConstructorAccessorImpl.newInstance(NativeConstructorAccessorImpl.java:62)\n",
      "\tat java.base/jdk.internal.reflect.DelegatingConstructorAccessorImpl.newInstance(DelegatingConstructorAccessorImpl.java:45)\n",
      "\tat java.base/java.lang.reflect.Constructor.newInstance(Constructor.java:490)\n",
      "\tat kotlin.script.experimental.jvm.BasicJvmScriptEvaluator.evalWithConfigAndOtherScriptsResults(BasicJvmScriptEvaluator.kt:105)\n",
      "\tat kotlin.script.experimental.jvm.BasicJvmScriptEvaluator.invoke$suspendImpl(BasicJvmScriptEvaluator.kt:47)\n",
      "\tat kotlin.script.experimental.jvm.BasicJvmScriptEvaluator.invoke(BasicJvmScriptEvaluator.kt)\n",
      "\tat kotlin.script.experimental.jvm.BasicJvmReplEvaluator.eval(BasicJvmReplEvaluator.kt:49)\n",
      "\tat org.jetbrains.kotlinx.jupyter.repl.impl.InternalEvaluatorImpl$eval$resultWithDiagnostics$1.invokeSuspend(InternalEvaluatorImpl.kt:103)\n",
      "\tat kotlin.coroutines.jvm.internal.BaseContinuationImpl.resumeWith(ContinuationImpl.kt:33)\n",
      "\tat kotlinx.coroutines.DispatchedTask.run(DispatchedTask.kt:106)\n",
      "\tat kotlinx.coroutines.EventLoopImplBase.processNextEvent(EventLoop.common.kt:284)\n",
      "\tat kotlinx.coroutines.BlockingCoroutine.joinBlocking(Builders.kt:85)\n",
      "\tat kotlinx.coroutines.BuildersKt__BuildersKt.runBlocking(Builders.kt:59)\n",
      "\tat kotlinx.coroutines.BuildersKt.runBlocking(Unknown Source)\n",
      "\tat kotlinx.coroutines.BuildersKt__BuildersKt.runBlocking$default(Builders.kt:38)\n",
      "\tat kotlinx.coroutines.BuildersKt.runBlocking$default(Unknown Source)\n",
      "\tat org.jetbrains.kotlinx.jupyter.repl.impl.InternalEvaluatorImpl.eval(InternalEvaluatorImpl.kt:103)\n",
      "\tat org.jetbrains.kotlinx.jupyter.repl.impl.CellExecutorImpl$execute$1$result$1.invoke(CellExecutorImpl.kt:75)\n",
      "\tat org.jetbrains.kotlinx.jupyter.repl.impl.CellExecutorImpl$execute$1$result$1.invoke(CellExecutorImpl.kt:73)\n",
      "\tat org.jetbrains.kotlinx.jupyter.ReplForJupyterImpl.withHost(repl.kt:660)\n",
      "\tat org.jetbrains.kotlinx.jupyter.repl.impl.CellExecutorImpl.execute(CellExecutorImpl.kt:73)\n",
      "\tat org.jetbrains.kotlinx.jupyter.repl.CellExecutor$DefaultImpls.execute$default(CellExecutor.kt:15)\n",
      "\tat org.jetbrains.kotlinx.jupyter.ReplForJupyterImpl$evalEx$1.invoke(repl.kt:466)\n",
      "\tat org.jetbrains.kotlinx.jupyter.ReplForJupyterImpl$evalEx$1.invoke(repl.kt:455)\n",
      "\tat org.jetbrains.kotlinx.jupyter.ReplForJupyterImpl.withEvalContext(repl.kt:419)\n",
      "\tat org.jetbrains.kotlinx.jupyter.ReplForJupyterImpl.evalEx(repl.kt:455)\n",
      "\tat org.jetbrains.kotlinx.jupyter.messaging.ProtocolKt$shellMessagesHandler$2$res$1.invoke(protocol.kt:312)\n",
      "\tat org.jetbrains.kotlinx.jupyter.messaging.ProtocolKt$shellMessagesHandler$2$res$1.invoke(protocol.kt:311)\n",
      "\tat org.jetbrains.kotlinx.jupyter.JupyterExecutorImpl$runExecution$execThread$1.invoke(execution.kt:33)\n",
      "\tat org.jetbrains.kotlinx.jupyter.JupyterExecutorImpl$runExecution$execThread$1.invoke(execution.kt:31)\n",
      "\tat kotlin.concurrent.ThreadsKt$thread$thread$1.run(Thread.kt:30)\n"
     ]
    }
   ],
   "source": [
    "println(sequenceOf(1, 2, 3).single())"
   ]
  },
  {
   "cell_type": "code",
   "execution_count": null,
   "id": "650b6ab6",
   "metadata": {},
   "outputs": [],
   "source": []
  },
  {
   "cell_type": "code",
   "execution_count": 63,
   "id": "2f8bdd61",
   "metadata": {},
   "outputs": [
    {
     "name": "stdout",
     "output_type": "stream",
     "text": [
      "3\n",
      "null\n",
      "b\n"
     ]
    }
   ],
   "source": [
    "println(listOf(1, 2, 3).elementAt(2))                        // 3\n",
    "println(sortedSetOf(1, 2, 3).elementAtOrNull(-1))            // null\n",
    "println(arrayOf(\"a\", \"b\", \"c\").elementAtOrElse(1) { \"???\" }) // b"
   ]
  },
  {
   "cell_type": "code",
   "execution_count": null,
   "id": "643dd983",
   "metadata": {},
   "outputs": [],
   "source": []
  },
  {
   "cell_type": "code",
   "execution_count": 64,
   "id": "467fea02",
   "metadata": {},
   "outputs": [
    {
     "name": "stdout",
     "output_type": "stream",
     "text": [
      "1\n",
      "3\n",
      "null\n"
     ]
    }
   ],
   "source": [
    "println(listOf(1, 2, 3).first())            // 1\n",
    "println(listOf(1, 2, 3).last())             // 3\n",
    "//println(emptyArray<String>().first())       // java.util.NoSuchElementException\n",
    "println(emptyArray<String>().firstOrNull()) // null\n"
   ]
  },
  {
   "cell_type": "code",
   "execution_count": null,
   "id": "2f79e914",
   "metadata": {},
   "outputs": [],
   "source": []
  },
  {
   "cell_type": "code",
   "execution_count": 68,
   "id": "0acb4ee1",
   "metadata": {
    "scrolled": true
   },
   "outputs": [
    {
     "name": "stdout",
     "output_type": "stream",
     "text": [
      "kotlin.sequences.GeneratorSequence@1e19115f\n"
     ]
    }
   ],
   "source": [
    "val seq = generateSequence(1) { if (it > 50) null else it * 3 }\n",
    "println(seq)"
   ]
  },
  {
   "cell_type": "code",
   "execution_count": 69,
   "id": "015a15ed",
   "metadata": {},
   "outputs": [
    {
     "data": {
      "text/plain": [
       "1"
      ]
     },
     "execution_count": 69,
     "metadata": {},
     "output_type": "execute_result"
    }
   ],
   "source": [
    "seq.first()"
   ]
  },
  {
   "cell_type": "code",
   "execution_count": 70,
   "id": "97cc6af1",
   "metadata": {},
   "outputs": [
    {
     "data": {
      "text/plain": [
       "81"
      ]
     },
     "execution_count": 70,
     "metadata": {},
     "output_type": "execute_result"
    }
   ],
   "source": [
    "seq.last()"
   ]
  },
  {
   "cell_type": "code",
   "execution_count": 82,
   "id": "fa071cbf",
   "metadata": {},
   "outputs": [
    {
     "data": {
      "text/plain": [
       "[1, 3, 9, 27, 81]"
      ]
     },
     "execution_count": 82,
     "metadata": {},
     "output_type": "execute_result"
    }
   ],
   "source": [
    "seq.toList()"
   ]
  },
  {
   "cell_type": "code",
   "execution_count": null,
   "id": "1b09acc9",
   "metadata": {},
   "outputs": [],
   "source": []
  },
  {
   "cell_type": "code",
   "execution_count": 83,
   "id": "9dbe429a",
   "metadata": {},
   "outputs": [
    {
     "name": "stdout",
     "output_type": "stream",
     "text": [
      "3\n",
      "null\n"
     ]
    }
   ],
   "source": [
    "println(listOf(1, 2, 3).first { it > 2 })      // 31\n",
    "println(listOf(1, 2, 3).lastOrNull { it < 0 }) // null\n",
    "//println(intArrayOf(1, 2, 3).first { it > 3 })  // java.util.NoSuchElementException"
   ]
  },
  {
   "cell_type": "code",
   "execution_count": null,
   "id": "ddeb8dfc",
   "metadata": {},
   "outputs": [],
   "source": []
  },
  {
   "cell_type": "code",
   "execution_count": null,
   "id": "0a5d1411",
   "metadata": {},
   "outputs": [],
   "source": []
  },
  {
   "cell_type": "code",
   "execution_count": 84,
   "id": "9501c6b3",
   "metadata": {},
   "outputs": [
    {
     "name": "stdout",
     "output_type": "stream",
     "text": [
      "1\n",
      "null\n",
      "null\n"
     ]
    }
   ],
   "source": [
    "println(listOf(1).single())                  // 1\n",
    "println(emptyArray<String>().singleOrNull()) // null\n",
    "println(setOf(1, 2, 3).singleOrNull())       // null\n",
    "// java.lang.IllegalArgumentException: Sequence has more than one element.\n",
    "//println(sequenceOf(1, 2, 3).single())\n"
   ]
  },
  {
   "cell_type": "code",
   "execution_count": null,
   "id": "b0613e05",
   "metadata": {},
   "outputs": [],
   "source": []
  },
  {
   "cell_type": "code",
   "execution_count": 85,
   "id": "43bd3f68",
   "metadata": {},
   "outputs": [
    {
     "name": "stdout",
     "output_type": "stream",
     "text": [
      "3\n",
      "null\n",
      "b\n"
     ]
    }
   ],
   "source": [
    "println(listOf(1, 2, 3).elementAt(2))                        // 3\n",
    "println(sortedSetOf(1, 2, 3).elementAtOrNull(-1))            // null\n",
    "println(arrayOf(\"a\", \"b\", \"c\").elementAtOrElse(1) { \"???\" }) // b"
   ]
  },
  {
   "cell_type": "code",
   "execution_count": 86,
   "id": "053c68c0",
   "metadata": {},
   "outputs": [
    {
     "name": "stdout",
     "output_type": "stream",
     "text": [
      "2\n"
     ]
    }
   ],
   "source": [
    "println(listOf(1, 2, 3, 4, 5).elementAtOrElse(1) { it > 2 })"
   ]
  },
  {
   "cell_type": "code",
   "execution_count": null,
   "id": "5740c202",
   "metadata": {},
   "outputs": [],
   "source": []
  },
  {
   "cell_type": "code",
   "execution_count": null,
   "id": "6ff299d6",
   "metadata": {},
   "outputs": [],
   "source": []
  },
  {
   "cell_type": "code",
   "execution_count": 87,
   "id": "ca2b7175",
   "metadata": {},
   "outputs": [
    {
     "name": "stdout",
     "output_type": "stream",
     "text": [
      "true\n",
      "false\n",
      "true\n"
     ]
    }
   ],
   "source": [
    "println(listOf(1, 2, 3, 4).all { it < 10 })     // true\n",
    "println(listOf(1, 2, 3, 4).all { it % 2 == 0 }) // false\n",
    "println(\n",
    "  mapOf(1 to \"I\", 5 to \"V\", 10 to \"X\")\n",
    "    .all { it.key == 1 || it.key % 5 == 0 }\n",
    ")                                               // true\n",
    "// 1, 3, 9, 27, 81"
   ]
  },
  {
   "cell_type": "code",
   "execution_count": null,
   "id": "272ab276",
   "metadata": {},
   "outputs": [],
   "source": []
  },
  {
   "cell_type": "code",
   "execution_count": 99,
   "id": "803aae5d",
   "metadata": {},
   "outputs": [
    {
     "data": {
      "text/plain": [
       "true"
      ]
     },
     "execution_count": 99,
     "metadata": {},
     "output_type": "execute_result"
    }
   ],
   "source": [
    "mapOf(1 to \"I\", 5 to \"V\", 10 to \"X\").any { it.key in listOf(1) }"
   ]
  },
  {
   "cell_type": "code",
   "execution_count": 96,
   "id": "0d16c1c0",
   "metadata": {},
   "outputs": [
    {
     "data": {
      "text/plain": [
       "[1]"
      ]
     },
     "execution_count": 96,
     "metadata": {},
     "output_type": "execute_result"
    }
   ],
   "source": [
    "listOf(1)"
   ]
  },
  {
   "cell_type": "code",
   "execution_count": null,
   "id": "93e2da74",
   "metadata": {},
   "outputs": [],
   "source": []
  },
  {
   "cell_type": "code",
   "execution_count": 100,
   "id": "fb2f255a",
   "metadata": {},
   "outputs": [
    {
     "name": "stdout",
     "output_type": "stream",
     "text": [
      "false\n",
      "true\n"
     ]
    }
   ],
   "source": [
    "val seq3 = generateSequence(1) { if (it < 50) it*3 else null }\n",
    "\n",
    "println(seq3.all { it % 3 == 0 }) // false\n",
    "println(seq3.all { it == 1 || it % 3 == 0 }) // true"
   ]
  },
  {
   "cell_type": "code",
   "execution_count": 101,
   "id": "643806e4",
   "metadata": {},
   "outputs": [
    {
     "data": {
      "text/plain": [
       "[1, 3, 9, 27, 81]"
      ]
     },
     "execution_count": 101,
     "metadata": {},
     "output_type": "execute_result"
    }
   ],
   "source": [
    "seq3.toList()"
   ]
  },
  {
   "cell_type": "code",
   "execution_count": null,
   "id": "a666f67e",
   "metadata": {},
   "outputs": [],
   "source": []
  },
  {
   "cell_type": "code",
   "execution_count": 102,
   "id": "29e87bed",
   "metadata": {},
   "outputs": [
    {
     "name": "stdout",
     "output_type": "stream",
     "text": [
      "true\n",
      "false\n"
     ]
    }
   ],
   "source": [
    "println(listOf(1, 2, 3, 4).none { it > 5 }) // true\n",
    "println(\n",
    "  mapOf(1 to \"I\", 5 to \"V\", 10 to \"X\").none { it.key % 2 == 0 }\n",
    ")                                           // false"
   ]
  },
  {
   "cell_type": "code",
   "execution_count": null,
   "id": "de1b26a9",
   "metadata": {},
   "outputs": [],
   "source": []
  },
  {
   "cell_type": "code",
   "execution_count": 104,
   "id": "a706b16c",
   "metadata": {},
   "outputs": [
    {
     "name": "stdout",
     "output_type": "stream",
     "text": [
      "true\n"
     ]
    }
   ],
   "source": [
    "// 1, 3, 9, 27, 81로 이뤄진 시퀀스 만들기\n",
    "val seq4 = generateSequence(1) { if (it < 50) it*3 else null }\n",
    "println(seq4.none { it >= 100 })             // true"
   ]
  },
  {
   "cell_type": "code",
   "execution_count": null,
   "id": "f5cba08a",
   "metadata": {},
   "outputs": [],
   "source": []
  },
  {
   "cell_type": "code",
   "execution_count": 105,
   "id": "570c32f5",
   "metadata": {},
   "outputs": [],
   "source": [
    "// 0, 1, 2, 3, 4, 0, 1, 2, 3, 4, 0,...로 이뤄진 시퀀스\n",
    "val seq5 = generateSequence(0) { (it + 1) % 5 }\n",
    "//println(seq5.all { it < 5 }) // 끝나지 않음"
   ]
  },
  {
   "cell_type": "code",
   "execution_count": null,
   "id": "8b025cac",
   "metadata": {},
   "outputs": [],
   "source": []
  },
  {
   "cell_type": "code",
   "execution_count": 106,
   "id": "2e022a30",
   "metadata": {},
   "outputs": [
    {
     "name": "stdout",
     "output_type": "stream",
     "text": [
      "false\n",
      "true\n",
      "true\n",
      "false\n"
     ]
    }
   ],
   "source": [
    "println(emptyList<String>().any())  // false\n",
    "println(emptyList<String>().none()) // true\n",
    "println(listOf(1, 2, 3).any())      // true\n",
    "println(listOf(1, 2, 3).none())     // false"
   ]
  },
  {
   "cell_type": "code",
   "execution_count": 107,
   "id": "926eaddd",
   "metadata": {},
   "outputs": [
    {
     "data": {
      "text/plain": [
       "true"
      ]
     },
     "execution_count": 107,
     "metadata": {},
     "output_type": "execute_result"
    }
   ],
   "source": [
    "listOf(1, 2, 3).any() { it > 1 }"
   ]
  },
  {
   "cell_type": "code",
   "execution_count": null,
   "id": "6c65dd4d",
   "metadata": {},
   "outputs": [],
   "source": []
  },
  {
   "cell_type": "code",
   "execution_count": null,
   "id": "15ed752e",
   "metadata": {},
   "outputs": [],
   "source": []
  },
  {
   "cell_type": "code",
   "execution_count": 108,
   "id": "b4f9438a",
   "metadata": {},
   "outputs": [
    {
     "name": "stdout",
     "output_type": "stream",
     "text": [
      "0\n",
      "2\n",
      "1\n"
     ]
    }
   ],
   "source": [
    "println(listOf(1, 2, 3, 4).count { it < 0 })      // 0\n",
    "println(listOf(1, 2, 3, 4).count { it % 2 == 0 }) // 2\n",
    "println(\n",
    "  mapOf(1 to \"I\", 5 to \"V\", 10 to \"X\").count { it.key == 1 }\n",
    ")                                                 // 1\n"
   ]
  },
  {
   "cell_type": "code",
   "execution_count": 109,
   "id": "277bfed9",
   "metadata": {},
   "outputs": [
    {
     "name": "stdout",
     "output_type": "stream",
     "text": [
      "4\n",
      "0\n"
     ]
    }
   ],
   "source": [
    "// 1, 3, 9, 27, 81로 이뤄진 시퀀스\n",
    "val seq8 = generateSequence(1) { if (it < 50) it*3 else null }\n",
    "\n",
    "println(seq8.count { it % 3 == 0 }) // 4\n",
    "println(seq8.count { it > 100 })    // 0"
   ]
  },
  {
   "cell_type": "code",
   "execution_count": null,
   "id": "7c8cf2e0",
   "metadata": {},
   "outputs": [],
   "source": []
  },
  {
   "cell_type": "code",
   "execution_count": 110,
   "id": "f8645500",
   "metadata": {},
   "outputs": [
    {
     "name": "stdout",
     "output_type": "stream",
     "text": [
      "10\n",
      "6.9\n"
     ]
    }
   ],
   "source": [
    "println(listOf(1, 2, 3, 4).sum())           // 10\n",
    "println(doubleArrayOf(1.2, 2.3, 3.4).sum()) // 6.9\n"
   ]
  },
  {
   "cell_type": "code",
   "execution_count": 114,
   "id": "43600c27",
   "metadata": {},
   "outputs": [
    {
     "data": {
      "text/plain": [
       "610"
      ]
     },
     "execution_count": 114,
     "metadata": {},
     "output_type": "execute_result"
    }
   ],
   "source": [
    "mapOf(1 to 100, 5 to 500, 10 to 10).values.sum()"
   ]
  },
  {
   "cell_type": "code",
   "execution_count": null,
   "id": "b0740a8f",
   "metadata": {},
   "outputs": [],
   "source": []
  },
  {
   "cell_type": "code",
   "execution_count": 115,
   "id": "bb74dd76",
   "metadata": {},
   "outputs": [
    {
     "name": "stdout",
     "output_type": "stream",
     "text": [
      "2.5\n",
      "6\n"
     ]
    }
   ],
   "source": [
    "println(listOf(1, 2, 3, 4).sumOf { it/4.0 })   // 2.5\n",
    "println(arrayOf(\"1\", \"2\", \"3\").sumOf { it.toInt() }) // "
   ]
  },
  {
   "cell_type": "code",
   "execution_count": null,
   "id": "139745da",
   "metadata": {},
   "outputs": [],
   "source": []
  },
  {
   "cell_type": "code",
   "execution_count": 118,
   "id": "4cdef8a9",
   "metadata": {},
   "outputs": [
    {
     "name": "stdout",
     "output_type": "stream",
     "text": [
      "15\n"
     ]
    }
   ],
   "source": [
    "val seq10 = generateSequence(\"X\") {\n",
    "  if (it.length >= 5) null else it + \"X\"\n",
    "}\n",
    "\n",
    "println(seq10.sumOf { it.length })                     // 15"
   ]
  },
  {
   "cell_type": "code",
   "execution_count": 119,
   "id": "12c2e758",
   "metadata": {},
   "outputs": [
    {
     "data": {
      "text/plain": [
       "[X, XX, XXX, XXXX, XXXXX]"
      ]
     },
     "execution_count": 119,
     "metadata": {},
     "output_type": "execute_result"
    }
   ],
   "source": [
    "seq10.toList()"
   ]
  },
  {
   "cell_type": "code",
   "execution_count": null,
   "id": "9eb31641",
   "metadata": {},
   "outputs": [],
   "source": []
  },
  {
   "cell_type": "code",
   "execution_count": 120,
   "id": "9b6bdd1e",
   "metadata": {},
   "outputs": [
    {
     "name": "stdout",
     "output_type": "stream",
     "text": [
      "2.5\n",
      "2.3000000000000003\n"
     ]
    }
   ],
   "source": [
    "println(listOf(1, 2, 3, 4).average())           // 2.5\n",
    "println(doubleArrayOf(1.2, 2.3, 3.4).average()) // 2.3000000000000003"
   ]
  },
  {
   "cell_type": "code",
   "execution_count": null,
   "id": "03b1042f",
   "metadata": {},
   "outputs": [],
   "source": []
  },
  {
   "cell_type": "code",
   "execution_count": 121,
   "id": "f9bb42cd",
   "metadata": {},
   "outputs": [
    {
     "name": "stdout",
     "output_type": "stream",
     "text": [
      "24.2\n"
     ]
    }
   ],
   "source": [
    "// 1, 3, 9, 27, 81의 평균 구하기\n",
    "val seq11 = generateSequence(1) { if (it < 50) it*3 else null }\n",
    "\n",
    "println(seq11.average())                             // 24.2"
   ]
  },
  {
   "cell_type": "code",
   "execution_count": null,
   "id": "d602b616",
   "metadata": {},
   "outputs": [],
   "source": []
  },
  {
   "cell_type": "code",
   "execution_count": 122,
   "id": "1aae571d",
   "metadata": {},
   "outputs": [
    {
     "name": "stdout",
     "output_type": "stream",
     "text": [
      "1\n",
      "8\n",
      "abc\n",
      "xyz\n"
     ]
    }
   ],
   "source": [
    "println(intArrayOf(5, 8, 1, 4, 2).minOrNull())               // 1\n",
    "println(intArrayOf(5, 8, 1, 4, 2).maxOrNull())               // 8\n",
    "println(listOf(\"abc\", \"w\", \"xyz\", \"def\", \"hij\").minOrNull()) // abc\n",
    "println(listOf(\"abc\", \"w\", \"xyz\", \"def\", \"hij\").maxOrNull()) // xyz"
   ]
  },
  {
   "cell_type": "code",
   "execution_count": null,
   "id": "6465f4bb",
   "metadata": {},
   "outputs": [],
   "source": []
  },
  {
   "cell_type": "code",
   "execution_count": 123,
   "id": "a4f66080",
   "metadata": {},
   "outputs": [],
   "source": [
    "// 1, -3, 9, -27, 81\n",
    "val seq12 = generateSequence(1) { if (it < 50) -it * 3 else null }"
   ]
  },
  {
   "cell_type": "code",
   "execution_count": 124,
   "id": "d978c650",
   "metadata": {},
   "outputs": [
    {
     "data": {
      "text/plain": [
       "-27"
      ]
     },
     "execution_count": 124,
     "metadata": {},
     "output_type": "execute_result"
    }
   ],
   "source": [
    "seq12.minOrNull()"
   ]
  },
  {
   "cell_type": "code",
   "execution_count": 125,
   "id": "6107ad13",
   "metadata": {},
   "outputs": [
    {
     "data": {
      "text/plain": [
       "81"
      ]
     },
     "execution_count": 125,
     "metadata": {},
     "output_type": "execute_result"
    }
   ],
   "source": [
    "seq12.maxOrNull()"
   ]
  },
  {
   "cell_type": "code",
   "execution_count": null,
   "id": "45082fad",
   "metadata": {},
   "outputs": [],
   "source": []
  },
  {
   "cell_type": "code",
   "execution_count": 126,
   "id": "8fd775c3",
   "metadata": {},
   "outputs": [],
   "source": [
    "class Person2(val firstName: String,\n",
    "             val familyName: String,\n",
    "             val age: Int) {\n",
    "  override fun toString() = \"$firstName $familyName: $age\"\n",
    "}\n",
    "\n",
    "fun main3() {\n",
    "  val persons = sequenceOf(\n",
    "    Person2(\"Brook\", \"Watts\", 25),\n",
    "    Person2(\"Silver\", \"Hudson\", 30),\n",
    "    Person2(\"Dane\", \"Ortiz\", 19),\n",
    "    Person2(\"Val\", \"Hall\", 28)\n",
    "  )\n",
    "  \n",
    "  println(persons.minByOrNull { it.firstName })  // Brook Watts: 25\n",
    "  println(persons.maxByOrNull { it.firstName })  // Val Hall: 28\n",
    "  println(persons.minByOrNull { it.familyName }) // Val Hall: 25\n",
    "  println(persons.maxByOrNull { it.familyName }) // Brook Watts: 28\n",
    "  println(persons.minByOrNull { it.age })        // Dane Ortiz: 19\n",
    "  println(persons.maxByOrNull { it.age})         // Silver Hudson: 30\n",
    "}"
   ]
  },
  {
   "cell_type": "code",
   "execution_count": 127,
   "id": "1df8c1b1",
   "metadata": {},
   "outputs": [
    {
     "name": "stdout",
     "output_type": "stream",
     "text": [
      "Brook Watts: 25\n",
      "Val Hall: 28\n",
      "Val Hall: 28\n",
      "Brook Watts: 25\n",
      "Dane Ortiz: 19\n",
      "Silver Hudson: 30\n"
     ]
    }
   ],
   "source": [
    "main3()"
   ]
  },
  {
   "cell_type": "code",
   "execution_count": 129,
   "id": "9123daa6",
   "metadata": {},
   "outputs": [],
   "source": [
    "val persons = sequenceOf(\n",
    "    Person2(\"Brook\", \"Watts\", 25),\n",
    "    Person2(\"Silver\", \"Hudson\", 30),\n",
    "    Person2(\"Dane\", \"Ortiz\", 19),\n",
    "    Person2(\"Val\", \"Hall\", 28)\n",
    ")"
   ]
  },
  {
   "cell_type": "code",
   "execution_count": 132,
   "id": "34b38abb",
   "metadata": {},
   "outputs": [
    {
     "data": {
      "text/plain": [
       "[Brook Watts: 25, Silver Hudson: 30, Dane Ortiz: 19, Val Hall: 28]"
      ]
     },
     "execution_count": 132,
     "metadata": {},
     "output_type": "execute_result"
    }
   ],
   "source": [
    "persons.toList()"
   ]
  },
  {
   "cell_type": "code",
   "execution_count": null,
   "id": "e89ab017",
   "metadata": {},
   "outputs": [],
   "source": []
  },
  {
   "cell_type": "code",
   "execution_count": 133,
   "id": "1917e374",
   "metadata": {},
   "outputs": [
    {
     "name": "stdout",
     "output_type": "stream",
     "text": [
      "1, 2, 3\n"
     ]
    }
   ],
   "source": [
    "println(listOf(1, 2, 3).joinToString()) // 1, 2, 3\n"
   ]
  },
  {
   "cell_type": "code",
   "execution_count": 134,
   "id": "feb4ba97",
   "metadata": {},
   "outputs": [
    {
     "name": "stdout",
     "output_type": "stream",
     "text": [
      "1, 10, 11\n"
     ]
    }
   ],
   "source": [
    "// 2진수로 표현\n",
    "println(listOf(1, 2, 3).joinToString { it.toString(2) }) // 1, 10, 11"
   ]
  },
  {
   "cell_type": "code",
   "execution_count": 136,
   "id": "1a81be22",
   "metadata": {},
   "outputs": [
    {
     "name": "stdout",
     "output_type": "stream",
     "text": [
      "1, 2, 3, 14\n"
     ]
    }
   ],
   "source": [
    "println(listOf(1, 2, 3, 20).joinToString { it.toString(16) }) // 1, 10, 11"
   ]
  },
  {
   "cell_type": "code",
   "execution_count": null,
   "id": "1365d726",
   "metadata": {},
   "outputs": [],
   "source": []
  },
  {
   "cell_type": "code",
   "execution_count": 137,
   "id": "5f393183",
   "metadata": {},
   "outputs": [
    {
     "name": "stdout",
     "output_type": "stream",
     "text": [
      "[1, 2, 3]\n",
      "1|2|3\n",
      "1, 2, ...\n",
      "1 ???\n"
     ]
    }
   ],
   "source": [
    "val list10 = listOf(1, 2, 3)\n",
    "println(list10.joinToString(prefix = \"[\", postfix = \"]\")) // [1, 2, 3]\n",
    "println(list10.joinToString(separator = \"|\"))             // 1|2|3\n",
    "println(list10.joinToString(limit = 2))                   // 1, 2, ...\n",
    "println(list10.joinToString(\n",
    "  limit = 1,\n",
    "  separator = \" \",\n",
    "  truncated = \"???\"\n",
    "))                                                      // 1 ???\n"
   ]
  },
  {
   "cell_type": "code",
   "execution_count": null,
   "id": "2f9c586b",
   "metadata": {},
   "outputs": [],
   "source": []
  },
  {
   "cell_type": "code",
   "execution_count": 138,
   "id": "c5a6cedb",
   "metadata": {},
   "outputs": [],
   "source": [
    "fun main4() {\n",
    "  val builder = StringBuilder(\"joinTo: \")\n",
    "  val list = listOf(1, 2, 3)\n",
    "  \n",
    "  println(list.joinTo(builder, separator = \"|\")) // joinTo: 1|2|3\n",
    "}"
   ]
  },
  {
   "cell_type": "code",
   "execution_count": 139,
   "id": "e680d324",
   "metadata": {},
   "outputs": [
    {
     "name": "stdout",
     "output_type": "stream",
     "text": [
      "joinTo: 1|2|3\n"
     ]
    }
   ],
   "source": [
    "main4()"
   ]
  },
  {
   "cell_type": "code",
   "execution_count": null,
   "id": "88ad3e9b",
   "metadata": {},
   "outputs": [],
   "source": []
  },
  {
   "cell_type": "code",
   "execution_count": 140,
   "id": "492ddc33",
   "metadata": {},
   "outputs": [
    {
     "name": "stdout",
     "output_type": "stream",
     "text": [
      "120\n",
      "abcd\n"
     ]
    }
   ],
   "source": [
    "println(intArrayOf(1, 2, 3, 4, 5).reduce { acc, n -> acc * n })  // 120\n",
    "println(listOf(\"a\", \"b\", \"c\", \"d\").reduce { acc, s -> acc + s }) // abcd\n"
   ]
  },
  {
   "cell_type": "code",
   "execution_count": null,
   "id": "772614ff",
   "metadata": {},
   "outputs": [],
   "source": []
  },
  {
   "cell_type": "code",
   "execution_count": 141,
   "id": "2f2158c9",
   "metadata": {},
   "outputs": [
    {
     "name": "stdout",
     "output_type": "stream",
     "text": [
      "abcd\n"
     ]
    }
   ],
   "source": [
    "println(listOf(\"a\", \"b\", \"c\", \"d\").reduce { acc, s -> acc + s }) // abcd\n"
   ]
  },
  {
   "cell_type": "code",
   "execution_count": null,
   "id": "b090af43",
   "metadata": {},
   "outputs": [],
   "source": []
  },
  {
   "cell_type": "code",
   "execution_count": null,
   "id": "9cad8a59",
   "metadata": {},
   "outputs": [],
   "source": []
  },
  {
   "cell_type": "code",
   "execution_count": 143,
   "id": "335949fe",
   "metadata": {},
   "outputs": [
    {
     "name": "stdout",
     "output_type": "stream",
     "text": [
      "[green, blue, green]\n",
      "[green, blue]\n",
      "[green, blue, green]\n",
      "[2, 4]\n",
      "{X=10, L=50}\n"
     ]
    }
   ],
   "source": [
    "// List: [green, blue, green]\n",
    "println(\n",
    "  listOf(\"red\", \"green\", \"blue\", \"green\").filter { it.length> 3 }\n",
    ")\n",
    "\n",
    "// List: [green, blue]\n",
    "println(setOf(\"red\", \"green\", \"blue\", \"green\").filter { it.length> 3 })\n",
    "\n",
    "// List: [green, blue, green]\n",
    "println(\n",
    "  arrayOf(\"red\", \"green\", \"blue\", \"green\").filter { it.length> 3 }\n",
    ")\n",
    "\n",
    "// List: [2, 4]\n",
    "println(byteArrayOf(1, 2, 3, 4, 5).filter { it % 2 == 0 })\n",
    "\n",
    "// Map: {X=10, L=50}\n",
    "println(\n",
    "  mapOf(\"I\" to 1, \"V\" to 5, \"X\" to 10, \"L\" to 50)\n",
    "    .filter { it.value> 5 }\n",
    ")"
   ]
  },
  {
   "cell_type": "code",
   "execution_count": null,
   "id": "5200e43e",
   "metadata": {},
   "outputs": [],
   "source": []
  },
  {
   "cell_type": "code",
   "execution_count": 144,
   "id": "9679371f",
   "metadata": {},
   "outputs": [
    {
     "name": "stdout",
     "output_type": "stream",
     "text": [
      "[100, 33, 11]\n"
     ]
    }
   ],
   "source": [
    "// Sequence\n",
    "val seq13 = generateSequence(100) {\n",
    "  if (it != 0) it/3 else null\n",
    "}.filter { it > 10 }\n",
    "\n",
    "// 리스트로 변환: [100, 33, 11]\n",
    "println(seq13.toList())"
   ]
  },
  {
   "cell_type": "code",
   "execution_count": null,
   "id": "d06d5140",
   "metadata": {},
   "outputs": [],
   "source": []
  },
  {
   "cell_type": "code",
   "execution_count": 145,
   "id": "2c02eb3c",
   "metadata": {},
   "outputs": [
    {
     "name": "stdout",
     "output_type": "stream",
     "text": [
      "{I=1, V=5, X=10}\n",
      "{X=10, L=50}\n"
     ]
    }
   ],
   "source": [
    "val map5 = mapOf(\"I\" to 1, \"V\" to 5, \"X\" to 10, \"L\" to 50)\n",
    "\n",
    "println(map5.filterKeys { it != \"L\" })  // {X=1, V=5, X=10}\n",
    "println(map5.filterValues { it >= 10 }) // {X=10, L=50}"
   ]
  },
  {
   "cell_type": "code",
   "execution_count": null,
   "id": "20ad5f47",
   "metadata": {},
   "outputs": [],
   "source": []
  },
  {
   "cell_type": "code",
   "execution_count": 146,
   "id": "6f983b3a",
   "metadata": {},
   "outputs": [
    {
     "name": "stdout",
     "output_type": "stream",
     "text": [
      "[red]\n"
     ]
    }
   ],
   "source": [
    "println(listOf(\"red\", \"green\", \"blue\").filterNot { it.length> 3 })\n"
   ]
  },
  {
   "cell_type": "code",
   "execution_count": null,
   "id": "9c56b41e",
   "metadata": {},
   "outputs": [],
   "source": []
  },
  {
   "cell_type": "code",
   "execution_count": 147,
   "id": "56f9e6ae",
   "metadata": {},
   "outputs": [
    {
     "name": "stdout",
     "output_type": "stream",
     "text": [
      "[33, 11, 3, 1]\n"
     ]
    }
   ],
   "source": [
    "val seq14 = generateSequence(100) { if (it != 0) it/3 else null }\n",
    "\n",
    "// [33, 11, 3, 1]\n",
    "println(seq14.filterIndexed { i, v -> v > 0 && i> 0 }.toList())"
   ]
  },
  {
   "cell_type": "code",
   "execution_count": 148,
   "id": "f5adb5d3",
   "metadata": {},
   "outputs": [
    {
     "data": {
      "text/plain": [
       "[100, 33, 11, 3, 1, 0]"
      ]
     },
     "execution_count": 148,
     "metadata": {},
     "output_type": "execute_result"
    }
   ],
   "source": [
    "seq14.toList()"
   ]
  },
  {
   "cell_type": "code",
   "execution_count": null,
   "id": "dc9b5bfa",
   "metadata": {},
   "outputs": [],
   "source": []
  },
  {
   "cell_type": "code",
   "execution_count": 149,
   "id": "683e9200",
   "metadata": {},
   "outputs": [
    {
     "name": "stdout",
     "output_type": "stream",
     "text": [
      "[4, 9, 16]\n",
      "[8, 27, 64]\n"
     ]
    }
   ],
   "source": [
    "// 0, 1, 4, 9, 16, 25\n",
    "println(List(6) { it*it }.slice(2..4)) // [4, 9, 16]\n",
    "\n",
    "// 0, 1, 8, 27, 64, 125\n",
    "println(Array(6) { it*it*it }.slice(2..4)) // [8, 27, 64]"
   ]
  },
  {
   "cell_type": "code",
   "execution_count": 150,
   "id": "9ddbb523",
   "metadata": {},
   "outputs": [
    {
     "data": {
      "text/plain": [
       "[0, 1, 4, 9, 16, 25]"
      ]
     },
     "execution_count": 150,
     "metadata": {},
     "output_type": "execute_result"
    }
   ],
   "source": [
    "List(6) { it*it }"
   ]
  },
  {
   "cell_type": "code",
   "execution_count": 151,
   "id": "2f599383",
   "metadata": {},
   "outputs": [
    {
     "data": {
      "text/plain": [
       "[0, 1, 8, 27, 64, 125]"
      ]
     },
     "execution_count": 151,
     "metadata": {},
     "output_type": "execute_result"
    }
   ],
   "source": [
    "Array(6) { it*it*it }"
   ]
  },
  {
   "cell_type": "code",
   "execution_count": null,
   "id": "1233b437",
   "metadata": {},
   "outputs": [],
   "source": []
  },
  {
   "cell_type": "code",
   "execution_count": 152,
   "id": "653617dc",
   "metadata": {},
   "outputs": [
    {
     "name": "stdout",
     "output_type": "stream",
     "text": [
      "[1, 4, 9]\n",
      "[1, 8, 27]\n",
      "[1, 8, 27]\n",
      "[0, 1]\n",
      "[16, 25]\n",
      "[0, 1, 8]\n",
      "[27, 64, 125]\n"
     ]
    }
   ],
   "source": [
    "val slice = Array(6) { it*it*it }.sliceArray(2..4).contentToString()\n",
    "\n",
    "println(List(6) { it*it }.slice(listOf(1, 2, 3)))    // [1, 4, 9]\n",
    "println(Array(6) { it*it*it }.slice(setOf(1, 2, 3))) // [1, 8, 27]\n",
    "println(\n",
    "  Array(6) { it*it*it }.sliceArray(listOf(1, 2, 3)).contentToString()\n",
    ") // [1, 8, 27]\n",
    "\n",
    "println(List(6) { it*it }.take(2))         // [0, 1]\n",
    "println(List(6) { it*it }.takeLast(2))     // [16, 25]\n",
    "println(Array(6) { it*it*it }.take(3))     // [0, 1, 8]\n",
    "println(Array(6) { it*it*it }.takeLast(3)) // [27, 64, 125]"
   ]
  },
  {
   "cell_type": "code",
   "execution_count": null,
   "id": "03436e03",
   "metadata": {},
   "outputs": [],
   "source": []
  },
  {
   "cell_type": "code",
   "execution_count": 153,
   "id": "5884388e",
   "metadata": {},
   "outputs": [
    {
     "name": "stdout",
     "output_type": "stream",
     "text": [
      "[1, 3, 9]\n",
      "[4, 9, 16, 25]\n",
      "[0, 1, 4, 9]\n",
      "[27, 64, 125]\n",
      "[0, 1, 8]\n"
     ]
    }
   ],
   "source": [
    "val seq18 = generateSequence(1) { if (it > 100) null else it*3 }\n",
    "println(seq18.take(3).toList()) // [1, 3, 9]\n",
    "\n",
    "println(List(6) { it*it }.drop(2))         // [4, 9, 16, 25]\n",
    "println(List(6) { it*it }.dropLast(2))     // [0, 1, 4, 9]\n",
    "\n",
    "println(Array(6) { it*it*it }.drop(3))     // [27, 64, 125]\n",
    "println(Array(6) { it*it*it }.dropLast(3)) // [0, 1, 8]"
   ]
  },
  {
   "cell_type": "code",
   "execution_count": null,
   "id": "d3f507fe",
   "metadata": {},
   "outputs": [],
   "source": []
  },
  {
   "cell_type": "code",
   "execution_count": null,
   "id": "2850d39f",
   "metadata": {},
   "outputs": [],
   "source": []
  },
  {
   "cell_type": "code",
   "execution_count": null,
   "id": "96734801",
   "metadata": {},
   "outputs": [],
   "source": []
  },
  {
   "cell_type": "code",
   "execution_count": null,
   "id": "a2791952",
   "metadata": {},
   "outputs": [],
   "source": []
  }
 ],
 "metadata": {
  "kernelspec": {
   "display_name": "Kotlin",
   "language": "kotlin",
   "name": "kotlin"
  },
  "language_info": {
   "codemirror_mode": "text/x-kotlin",
   "file_extension": ".kt",
   "mimetype": "text/x-kotlin",
   "name": "kotlin",
   "nbconvert_exporter": "",
   "pygments_lexer": "kotlin",
   "version": "1.8.20-Beta"
  }
 },
 "nbformat": 4,
 "nbformat_minor": 5
}
