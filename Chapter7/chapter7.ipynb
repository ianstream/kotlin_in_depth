{
 "cells": [
  {
   "cell_type": "code",
   "execution_count": 1,
   "id": "6239f33c",
   "metadata": {},
   "outputs": [],
   "source": [
    "import java.lang.StringBuilder\n",
    "import java.io.FileInputStream\n",
    "import java.io.FileReader \n",
    "import java.io.File\n"
   ]
  },
  {
   "cell_type": "code",
   "execution_count": null,
   "id": "36f9b304",
   "metadata": {},
   "outputs": [],
   "source": []
  },
  {
   "cell_type": "code",
   "execution_count": 4,
   "id": "e24fb681",
   "metadata": {},
   "outputs": [],
   "source": [
    "fun processCollection(c: Iterable<Any>) { \n",
    "    /*아무것도 하지 않음*/ \n",
    "    println(c)\n",
    "}\n",
    "\n",
    "fun main1() {\n",
    "  val list = listOf(\"a\", \"b\", \"c\") // List<String>\n",
    "  processCollection(list)          // Ok: List<String>을 List<Any>로 전달\n",
    "}"
   ]
  },
  {
   "cell_type": "code",
   "execution_count": 5,
   "id": "c613174a",
   "metadata": {},
   "outputs": [
    {
     "name": "stdout",
     "output_type": "stream",
     "text": [
      "[a, b, c]\n"
     ]
    }
   ],
   "source": [
    "main1()"
   ]
  },
  {
   "cell_type": "code",
   "execution_count": null,
   "id": "4bb29ac0",
   "metadata": {},
   "outputs": [],
   "source": []
  },
  {
   "cell_type": "code",
   "execution_count": 6,
   "id": "d22cf7b8",
   "metadata": {},
   "outputs": [],
   "source": [
    "class Person(\n",
    "  val firstName: String,\n",
    "  val familyName: String,\n",
    "  val age: Int\n",
    ") : Comparable<Person> {\n",
    "  val fullName get() = \"$firstName $familyName\"\n",
    "  override fun compareTo(other: Person) = fullName.compareTo(other.fullName)\n",
    "}\n"
   ]
  },
  {
   "cell_type": "code",
   "execution_count": 10,
   "id": "12966155",
   "metadata": {},
   "outputs": [],
   "source": [
    "val person1 = Person(\"ian\", \"kim\", 44)\n",
    "val person2 = Person(\"ian\", \"kim\", 44)"
   ]
  },
  {
   "cell_type": "code",
   "execution_count": 9,
   "id": "9ddae216",
   "metadata": {},
   "outputs": [
    {
     "data": {
      "text/plain": [
       "ian kim"
      ]
     },
     "execution_count": 9,
     "metadata": {},
     "output_type": "execute_result"
    }
   ],
   "source": [
    "person1.fullName"
   ]
  },
  {
   "cell_type": "code",
   "execution_count": 11,
   "id": "84c81612",
   "metadata": {},
   "outputs": [
    {
     "data": {
      "text/plain": [
       "0"
      ]
     },
     "execution_count": 11,
     "metadata": {},
     "output_type": "execute_result"
    }
   ],
   "source": [
    "person1.compareTo(person2)"
   ]
  },
  {
   "cell_type": "code",
   "execution_count": null,
   "id": "9a60110d",
   "metadata": {},
   "outputs": [],
   "source": []
  },
  {
   "cell_type": "code",
   "execution_count": 12,
   "id": "3c3eaf7a",
   "metadata": {},
   "outputs": [],
   "source": [
    "val AGE_COMPARATOR = Comparator<Person>{ p1, p2 ->\n",
    "  p1.age.compareTo(p2.age)\n",
    "}\n"
   ]
  },
  {
   "cell_type": "code",
   "execution_count": 17,
   "id": "4d52870f",
   "metadata": {},
   "outputs": [
    {
     "data": {
      "text/plain": [
       "Line_144_jupyter$$Lambda$397/0x0000000800a36440@65fd7d68"
      ]
     },
     "execution_count": 17,
     "metadata": {},
     "output_type": "execute_result"
    }
   ],
   "source": [
    "AGE_COMPARATOR"
   ]
  },
  {
   "cell_type": "code",
   "execution_count": null,
   "id": "4066aef5",
   "metadata": {},
   "outputs": [],
   "source": []
  },
  {
   "cell_type": "code",
   "execution_count": 20,
   "id": "2d7609f1",
   "metadata": {},
   "outputs": [
    {
     "name": "stdout",
     "output_type": "stream",
     "text": [
      "[red, green]\n",
      "[21, 12]\n",
      "{10=Ten, 20=Twenty}\n",
      "[]\n"
     ]
    }
   ],
   "source": [
    "val list3 = ArrayList<String>()\n",
    "list3.add(\"red\")\n",
    "list3.add(\"green\")\n",
    "println(list3) // [red, green]\n",
    "\n",
    "// 코틀린 스크립트 모드에서는 set을 게터/세터의 set으로 인식해서 문제가 생길 수 있다. 변수 이름을 바꿔서 문제를 해결한다.\n",
    "val set1 = HashSet<Int>()\n",
    "set1.add(12)\n",
    "set1.add(21)\n",
    "set1.add(12)\n",
    "println(set1) // [12, 21]\n",
    "\n",
    "val map = java.util.TreeMap<Int, String>()\n",
    "map[20] = \"Twenty\"\n",
    "map[10] = \"Ten\"\n",
    "println(map) // {10=Ten, 20=Twenty}\n",
    "\n",
    "val emptyList = emptyList<String>()\n",
    "println(emptyList)   // []\n"
   ]
  },
  {
   "cell_type": "code",
   "execution_count": 21,
   "id": "c6934e89",
   "metadata": {},
   "outputs": [
    {
     "name": "stderr",
     "output_type": "stream",
     "text": [
      "Line_255.jupyter.kts (1:11 - 14) Unresolved reference: add"
     ]
    }
   ],
   "source": [
    "emptyList.add(\"abc\") // error: unresolved reference: add\n"
   ]
  },
  {
   "cell_type": "code",
   "execution_count": null,
   "id": "9e8a933b",
   "metadata": {},
   "outputs": [],
   "source": []
  },
  {
   "cell_type": "code",
   "execution_count": 22,
   "id": "d402a77d",
   "metadata": {},
   "outputs": [
    {
     "name": "stdout",
     "output_type": "stream",
     "text": [
      "[abc]\n"
     ]
    }
   ],
   "source": [
    "val singletonSet = setOf(\"abc\")\n",
    "println(singletonSet)      // [abc]\n",
    "//singletonSet.remove(\"abc\") // error: unresolved reference\n"
   ]
  },
  {
   "cell_type": "code",
   "execution_count": 23,
   "id": "5f755975",
   "metadata": {},
   "outputs": [
    {
     "name": "stderr",
     "output_type": "stream",
     "text": [
      "Line_261.jupyter.kts (1:14 - 20) Unresolved reference. None of the following candidates is applicable because of receiver type mismatch: \n",
      "public inline fun <T> MutableCollection<out TypeVariable(T)>.remove(element: TypeVariable(T)): Boolean defined in kotlin.collections\n",
      "public inline fun <T> MutableList<TypeVariable(T)>.remove(index: Int): TypeVariable(T) defined in kotlin.collections\n",
      "public inline fun <K, V> MutableMap<out TypeVariable(K), TypeVariable(V)>.remove(key: TypeVariable(K)): TypeVariable(V)? defined in kotlin.collections\n",
      "public inline fun <K, V> MutableMap<out TypeVariable(K), out TypeVariable(V)>.remove(key: TypeVariable(K), value: TypeVariable(V)): Boolean defined in kotlin.collections"
     ]
    }
   ],
   "source": [
    "singletonSet.remove(\"abc\") // error: unresolved reference\n"
   ]
  },
  {
   "cell_type": "code",
   "execution_count": 24,
   "id": "c2a26d34",
   "metadata": {},
   "outputs": [
    {
     "name": "stdout",
     "output_type": "stream",
     "text": [
      "[abc]\n",
      "[xyz, def]\n"
     ]
    }
   ],
   "source": [
    "val mutableList = mutableListOf(\"abc\")\n",
    "println(mutableList) // [abc]\n",
    "mutableList.add(\"def\")\n",
    "mutableList[0] = \"xyz\"\n",
    "println(mutableList) // [xyz, def]\n"
   ]
  },
  {
   "cell_type": "code",
   "execution_count": 25,
   "id": "85ac0924",
   "metadata": {},
   "outputs": [
    {
     "name": "stdout",
     "output_type": "stream",
     "text": [
      "[1, 4, 5, 7, 8]\n",
      "[1, 2, 4, 5, 7, 8]\n",
      "[0, 1, 4, 9, 16]\n"
     ]
    }
   ],
   "source": [
    "val sortedSet = sortedSetOf(8, 5, 7, 1, 4)\n",
    "println(sortedSet) // [1, 4, 5, 7, 8]\n",
    "sortedSet.add(2)\n",
    "println(sortedSet) // [1, 2, 4, 5, 7, 8]\n",
    "\n",
    "println(List(5) { it*it }) // [0, 1, 4, 9, 16]\n"
   ]
  },
  {
   "cell_type": "code",
   "execution_count": null,
   "id": "fc14e4a6",
   "metadata": {},
   "outputs": [],
   "source": []
  },
  {
   "cell_type": "code",
   "execution_count": 27,
   "id": "1d36f022",
   "metadata": {},
   "outputs": [
    {
     "name": "stdout",
     "output_type": "stream",
     "text": [
      "{}\n"
     ]
    }
   ],
   "source": [
    "val emptyMap = emptyMap<Int, String>()\n",
    "println(emptyMap)"
   ]
  },
  {
   "cell_type": "code",
   "execution_count": 28,
   "id": "b51743aa",
   "metadata": {},
   "outputs": [
    {
     "name": "stderr",
     "output_type": "stream",
     "text": [
      "Line_400.jupyter.kts (1:1 - 13) Unresolved reference. None of the following candidates is applicable because of receiver type mismatch: \n",
      "public inline operator fun kotlin.text.StringBuilder /* = java.lang.StringBuilder */.set(index: Int, value: Char): Unit defined in kotlin.text\n",
      "Line_400.jupyter.kts (1:9 - 13) No set method providing array access"
     ]
    }
   ],
   "source": [
    "emptyMap[10] = \"Ten\""
   ]
  },
  {
   "cell_type": "code",
   "execution_count": 29,
   "id": "fa6fc51f",
   "metadata": {},
   "outputs": [
    {
     "name": "stdout",
     "output_type": "stream",
     "text": [
      "{10=Ten}"
     ]
    }
   ],
   "source": [
    "val singletonMap = mapOf(10 to \"Ten\")\n",
    "print(singletonMap)"
   ]
  },
  {
   "cell_type": "code",
   "execution_count": 30,
   "id": "45937529",
   "metadata": {},
   "outputs": [
    {
     "name": "stderr",
     "output_type": "stream",
     "text": [
      "Line_605.jupyter.kts (1:14 - 20) Unresolved reference. None of the following candidates is applicable because of receiver type mismatch: \n",
      "public inline fun <T> MutableCollection<out TypeVariable(T)>.remove(element: TypeVariable(T)): Boolean defined in kotlin.collections\n",
      "public inline fun <T> MutableList<TypeVariable(T)>.remove(index: Int): TypeVariable(T) defined in kotlin.collections\n",
      "public inline fun <K, V> MutableMap<out TypeVariable(K), TypeVariable(V)>.remove(key: TypeVariable(K)): TypeVariable(V)? defined in kotlin.collections\n",
      "public inline fun <K, V> MutableMap<out TypeVariable(K), out TypeVariable(V)>.remove(key: TypeVariable(K), value: TypeVariable(V)): Boolean defined in kotlin.collections"
     ]
    }
   ],
   "source": [
    "singletonMap.remove(\"abc\")"
   ]
  },
  {
   "cell_type": "code",
   "execution_count": 31,
   "id": "fe66c17f",
   "metadata": {},
   "outputs": [
    {
     "name": "stdout",
     "output_type": "stream",
     "text": [
      "{10=Ten}{20=Twenty, 100=Hundred}\n"
     ]
    }
   ],
   "source": [
    "val mutableMap = mutableMapOf(10 to \"Ten\")\n",
    "print(mutableMap)\n",
    "mutableMap[20] = \"Twenty\"\n",
    "mutableMap[100] = \"Hundred\"\n",
    "mutableMap.remove(10)\n",
    "println(mutableMap)"
   ]
  },
  {
   "cell_type": "code",
   "execution_count": 36,
   "id": "07adebef",
   "metadata": {},
   "outputs": [
    {
     "name": "stdout",
     "output_type": "stream",
     "text": [
      "{1=one, 2=two, 3=three}\n",
      "{0=zero, 1=one, 2=two, 3=three}\n"
     ]
    }
   ],
   "source": [
    "val sortedMap = sortedMapOf(3 to \"three\", 1 to \"one\", 2 to \"two\")\n",
    "println(sortedMap)\n",
    "sortedMap[0] = \"zero\"\n",
    "println(sortedMap)"
   ]
  },
  {
   "cell_type": "code",
   "execution_count": null,
   "id": "987889e2",
   "metadata": {},
   "outputs": [],
   "source": []
  },
  {
   "cell_type": "code",
   "execution_count": 39,
   "id": "91f98dee",
   "metadata": {},
   "outputs": [
    {
     "name": "stdout",
     "output_type": "stream",
     "text": [
      "[0, 1, 4, 9, 16]\n",
      "[0, 2, 4, 6, 8]\n"
     ]
    }
   ],
   "source": [
    "println(List(5) { it*it }) // [0, 1, 4, 9, 16]\n",
    "println(List(5) { it+it }) // [0, 2, 4, 6, 9]"
   ]
  },
  {
   "cell_type": "code",
   "execution_count": null,
   "id": "0d8ebca1",
   "metadata": {},
   "outputs": [],
   "source": []
  },
  {
   "cell_type": "code",
   "execution_count": 40,
   "id": "c8d9ee2f",
   "metadata": {},
   "outputs": [
    {
     "name": "stdout",
     "output_type": "stream",
     "text": [
      "[0, 2, 4, 6, 8]\n",
      "[0, 2, 4, 6, 8, 100]\n"
     ]
    }
   ],
   "source": [
    "\n",
    "val numbers = MutableList(5) { it*2 }\n",
    "println(numbers) // [0, 2, 4, 6, 8]\n",
    "numbers.add(100)\n",
    "println(numbers) // [0, 2, 4, 6, 8, 100]\n"
   ]
  },
  {
   "cell_type": "code",
   "execution_count": 41,
   "id": "96b8cb55",
   "metadata": {},
   "outputs": [
    {
     "name": "stdout",
     "output_type": "stream",
     "text": [
      "1\n",
      "10\n",
      "1=One\n"
     ]
    }
   ],
   "source": [
    "println(sequenceOf(1, 2, 3).iterator().next())             // 1\n",
    "println(listOf(10, 20, 30).asSequence().iterator().next()) // 10\n",
    "println(\n",
    "  mapOf(1 to \"One\", 2 to \"Two\").asSequence().iterator().next()\n",
    ")                                                          // 1=One\n"
   ]
  },
  {
   "cell_type": "code",
   "execution_count": null,
   "id": "38c0eb11",
   "metadata": {},
   "outputs": [],
   "source": []
  },
  {
   "cell_type": "code",
   "execution_count": 42,
   "id": "ec10224e",
   "metadata": {},
   "outputs": [
    {
     "name": "stdout",
     "output_type": "stream",
     "text": [
      "Input a number:\n",
      "stdin:10\n",
      "10\n"
     ]
    }
   ],
   "source": [
    "val numbers2 = generateSequence{ println(\"Input a number:\");readLine()?.toIntOrNull() }\n",
    "\n",
    "println(numbers2.first()) // 실제 원소를 소비해야 readLine이 호출됨\n"
   ]
  },
  {
   "cell_type": "code",
   "execution_count": null,
   "id": "c1ca24ee",
   "metadata": {},
   "outputs": [],
   "source": []
  },
  {
   "cell_type": "code",
   "execution_count": 43,
   "id": "080a56d8",
   "metadata": {},
   "outputs": [],
   "source": [
    "// 무한 시퀀스(단, 값 오버플로가 발생해서 음수와 양수를 왔다갔다 함): 1, 2, 4, 8,...\n",
    "val powers = generateSequence(1) { it*2 }\n",
    "\n",
    "// 유한 시퀀스: 10, 8, 6, 4, 2, 0\n",
    "val evens = generateSequence(10) { if (it >= 2) it - 2 else null }\n"
   ]
  },
  {
   "cell_type": "code",
   "execution_count": 47,
   "id": "4ea3ef09",
   "metadata": {},
   "outputs": [
    {
     "data": {
      "text/plain": [
       "kotlin.sequences.GeneratorSequence@a734bc8"
      ]
     },
     "execution_count": 47,
     "metadata": {},
     "output_type": "execute_result"
    }
   ],
   "source": [
    "powers"
   ]
  },
  {
   "cell_type": "code",
   "execution_count": 45,
   "id": "a82334bc",
   "metadata": {},
   "outputs": [
    {
     "data": {
      "text/plain": [
       "kotlin.sequences.GeneratorSequence@6f6b8f94"
      ]
     },
     "execution_count": 45,
     "metadata": {},
     "output_type": "execute_result"
    }
   ],
   "source": [
    "evens"
   ]
  },
  {
   "cell_type": "code",
   "execution_count": null,
   "id": "3b411d94",
   "metadata": {},
   "outputs": [],
   "source": []
  },
  {
   "cell_type": "code",
   "execution_count": 48,
   "id": "157a94c0",
   "metadata": {},
   "outputs": [
    {
     "name": "stdout",
     "output_type": "stream",
     "text": [
      "[0, 1, 2, 3, 4, 5, 6, 10, 30, 90]\n"
     ]
    }
   ],
   "source": [
    "val numbers3 = sequence {\n",
    "  yield(0)\n",
    "  yieldAll(listOf(1, 2, 3))\n",
    "  yieldAll(intArrayOf(4, 5, 6).iterator())\n",
    "  yieldAll(generateSequence(10) { if (it < 50) it*3 else null })\n",
    "}\n",
    "\n",
    "println(numbers3.toList()) // [0, 1, 2, 3, 4, 5, 6, 10, 30, 90]\n"
   ]
  },
  {
   "cell_type": "code",
   "execution_count": null,
   "id": "0e51796a",
   "metadata": {},
   "outputs": [],
   "source": []
  },
  {
   "cell_type": "code",
   "execution_count": 49,
   "id": "86f548c4",
   "metadata": {},
   "outputs": [
    {
     "name": "stdout",
     "output_type": "stream",
     "text": [
      "[1, 2, 3]\n",
      "[blue, green, red]\n",
      "[(1, one), (2, two), (3, threen)]\n",
      "{1=one, 2=two, 3=threen}\n"
     ]
    }
   ],
   "source": [
    "println(\n",
    "  listOf(1, 2, 3, 2, 3).toSet()\n",
    ") // [1, 2, 3]\n",
    "\n",
    "println(\n",
    "  arrayOf(\"red\", \"green\", \"blue\").toSortedSet()\n",
    ") // [blue, green, red]\n",
    "\n",
    "println(\n",
    "  mapOf(1 to \"one\", 2 to \"two\", 3 to \"threen\").toList()\n",
    ") // [(1, one), (2, two), (3, threen)]\n",
    "\n",
    "println(\n",
    "  sequenceOf(1 to \"one\", 2 to \"two\", 3 to \"threen\").toMap()\n",
    ") // {1=one, 2=two, 3=threen}"
   ]
  },
  {
   "cell_type": "code",
   "execution_count": null,
   "id": "5545b73a",
   "metadata": {},
   "outputs": [],
   "source": []
  },
  {
   "cell_type": "code",
   "execution_count": 2,
   "id": "4d1b524e",
   "metadata": {},
   "outputs": [],
   "source": [
    "val map2 = mapOf(1 to \"one\", 2 to \"two\", 3 to \"three\")\n"
   ]
  },
  {
   "cell_type": "code",
   "execution_count": 5,
   "id": "408157a4",
   "metadata": {},
   "outputs": [
    {
     "name": "stdout",
     "output_type": "stream",
     "text": [
      "1 -> one\n",
      "2 -> two\n",
      "3 -> three\n"
     ]
    }
   ],
   "source": [
    "for ((key, value) in map2) {\n",
    "    println(\"$key -> $value\")\n",
    "}"
   ]
  },
  {
   "cell_type": "code",
   "execution_count": 16,
   "id": "1bd418d7",
   "metadata": {},
   "outputs": [
    {
     "name": "stdout",
     "output_type": "stream",
     "text": [
      "1 -> one\n",
      "2 -> two\n",
      "3 -> three\n"
     ]
    }
   ],
   "source": [
    "// (key, value) 와 같이 추출하는 구조 분해를 지원\n",
    "map2.forEach { (key, value) -> println(\"$key -> $value\") }"
   ]
  },
  {
   "cell_type": "code",
   "execution_count": null,
   "id": "7b611415",
   "metadata": {},
   "outputs": [],
   "source": []
  },
  {
   "cell_type": "code",
   "execution_count": 11,
   "id": "21b913d6",
   "metadata": {},
   "outputs": [
    {
     "name": "stdout",
     "output_type": "stream",
     "text": [
      "1\n",
      "4\n",
      "9\n",
      "\n",
      "1\n",
      "4\n",
      "9\n"
     ]
    }
   ],
   "source": [
    "// 암묵적으로 it 은 생략해도 됨\n",
    "intArrayOf(1, 2, 3).forEach { println(it*it) }\n",
    "println()\n",
    "intArrayOf(1, 2, 3).forEach { it -> println(it*it) }"
   ]
  },
  {
   "cell_type": "code",
   "execution_count": null,
   "id": "dd6ed300",
   "metadata": {},
   "outputs": [],
   "source": []
  },
  {
   "cell_type": "code",
   "execution_count": 12,
   "id": "953d1725",
   "metadata": {},
   "outputs": [
    {
     "name": "stdout",
     "output_type": "stream",
     "text": [
      "'a'\n",
      "'b'\n",
      "'c'\n"
     ]
    }
   ],
   "source": [
    "listOf(\"a\", \"b\", \"c\").forEach { println(\"'$it'\") }"
   ]
  },
  {
   "cell_type": "code",
   "execution_count": null,
   "id": "a5a909a0",
   "metadata": {},
   "outputs": [],
   "source": []
  },
  {
   "cell_type": "code",
   "execution_count": 13,
   "id": "f4698178",
   "metadata": {},
   "outputs": [
    {
     "name": "stdout",
     "output_type": "stream",
     "text": [
      "'a'\n",
      "'b'\n",
      "'c'\n"
     ]
    }
   ],
   "source": [
    "sequenceOf(\"a\", \"b\", \"c\").forEach { println(\"'$it'\") }"
   ]
  },
  {
   "cell_type": "code",
   "execution_count": 15,
   "id": "d0ca5495",
   "metadata": {},
   "outputs": [
    {
     "name": "stdout",
     "output_type": "stream",
     "text": [
      "a\n",
      "b\n",
      "c\n"
     ]
    }
   ],
   "source": [
    "// asSequence() 는 불필요\n",
    "listOf(\"a\", \"b\", \"c\").asSequence().forEach { println(\"$it\") }"
   ]
  },
  {
   "cell_type": "code",
   "execution_count": null,
   "id": "59f7d58e",
   "metadata": {},
   "outputs": [],
   "source": []
  },
  {
   "cell_type": "code",
   "execution_count": 2,
   "id": "b0d8af5e",
   "metadata": {},
   "outputs": [
    {
     "name": "stdout",
     "output_type": "stream",
     "text": [
      "1 -> one\n",
      "2 -> two\n",
      "3 -> three\n"
     ]
    }
   ],
   "source": [
    "mapOf(1 to \"one\", 2 to \"two\", 3 to \"three\").forEach { (key, value) ->\n",
    "  println(\"$key -> $value\")\n",
    "}"
   ]
  },
  {
   "cell_type": "code",
   "execution_count": null,
   "id": "9a6be7b6",
   "metadata": {},
   "outputs": [],
   "source": []
  },
  {
   "cell_type": "code",
   "execution_count": 3,
   "id": "14e4dec3",
   "metadata": {},
   "outputs": [
    {
     "name": "stdout",
     "output_type": "stream",
     "text": [
      "0: 100\n",
      "1: 400\n",
      "2: 900\n"
     ]
    }
   ],
   "source": [
    "listOf(10, 20, 30).forEachIndexed { i, n ->println(\"$i: ${n*n}\") }\n"
   ]
  },
  {
   "cell_type": "code",
   "execution_count": null,
   "id": "a9067361",
   "metadata": {},
   "outputs": [],
   "source": []
  },
  {
   "cell_type": "code",
   "execution_count": null,
   "id": "5d174513",
   "metadata": {},
   "outputs": [],
   "source": []
  },
  {
   "cell_type": "code",
   "execution_count": null,
   "id": "f5a6fdd1",
   "metadata": {},
   "outputs": [],
   "source": []
  },
  {
   "cell_type": "code",
   "execution_count": null,
   "id": "4a542bc0",
   "metadata": {},
   "outputs": [],
   "source": []
  },
  {
   "cell_type": "code",
   "execution_count": null,
   "id": "933f664c",
   "metadata": {},
   "outputs": [],
   "source": []
  },
  {
   "cell_type": "code",
   "execution_count": null,
   "id": "94f6f222",
   "metadata": {},
   "outputs": [],
   "source": []
  },
  {
   "cell_type": "code",
   "execution_count": null,
   "id": "8be12669",
   "metadata": {},
   "outputs": [],
   "source": []
  },
  {
   "cell_type": "code",
   "execution_count": null,
   "id": "ffb483a1",
   "metadata": {},
   "outputs": [],
   "source": []
  },
  {
   "cell_type": "code",
   "execution_count": null,
   "id": "ff36d6db",
   "metadata": {},
   "outputs": [],
   "source": []
  },
  {
   "cell_type": "code",
   "execution_count": null,
   "id": "666be6d8",
   "metadata": {},
   "outputs": [],
   "source": []
  },
  {
   "cell_type": "code",
   "execution_count": null,
   "id": "1dd2b4c9",
   "metadata": {},
   "outputs": [],
   "source": []
  },
  {
   "cell_type": "code",
   "execution_count": null,
   "id": "bb5cca8f",
   "metadata": {},
   "outputs": [],
   "source": []
  }
 ],
 "metadata": {
  "kernelspec": {
   "display_name": "Kotlin",
   "language": "kotlin",
   "name": "kotlin"
  },
  "language_info": {
   "codemirror_mode": "text/x-kotlin",
   "file_extension": ".kt",
   "mimetype": "text/x-kotlin",
   "name": "kotlin",
   "nbconvert_exporter": "",
   "pygments_lexer": "kotlin",
   "version": "1.8.20-Beta"
  }
 },
 "nbformat": 4,
 "nbformat_minor": 5
}
