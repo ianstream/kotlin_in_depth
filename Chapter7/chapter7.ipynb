{
 "cells": [
  {
   "cell_type": "code",
   "execution_count": 1,
   "id": "6239f33c",
   "metadata": {},
   "outputs": [],
   "source": [
    "import java.lang.StringBuilder\n",
    "import java.io.FileInputStream\n",
    "import java.io.FileReader \n",
    "import java.io.File\n"
   ]
  },
  {
   "cell_type": "code",
   "execution_count": null,
   "id": "36f9b304",
   "metadata": {},
   "outputs": [],
   "source": []
  },
  {
   "cell_type": "code",
   "execution_count": null,
   "id": "e24fb681",
   "metadata": {},
   "outputs": [],
   "source": [
    "fun processCollection(c: Iterable<Any>) { \n",
    "    /*아무것도 하지 않음*/ \n",
    "    println(c)\n",
    "}\n",
    "\n",
    "fun main1() {\n",
    "  val list = listOf(\"a\", \"b\", \"c\") // List<String>\n",
    "  processCollection(list)          // Ok: List<String>을 List<Any>로 전달\n",
    "}"
   ]
  },
  {
   "cell_type": "code",
   "execution_count": null,
   "id": "c613174a",
   "metadata": {},
   "outputs": [],
   "source": [
    "main1()"
   ]
  },
  {
   "cell_type": "code",
   "execution_count": null,
   "id": "4bb29ac0",
   "metadata": {},
   "outputs": [],
   "source": []
  },
  {
   "cell_type": "code",
   "execution_count": null,
   "id": "d22cf7b8",
   "metadata": {},
   "outputs": [],
   "source": [
    "class Person(\n",
    "  val firstName: String,\n",
    "  val familyName: String,\n",
    "  val age: Int\n",
    ") : Comparable<Person> {\n",
    "  val fullName get() = \"$firstName $familyName\"\n",
    "  override fun compareTo(other: Person) = fullName.compareTo(other.fullName)\n",
    "}\n"
   ]
  },
  {
   "cell_type": "code",
   "execution_count": null,
   "id": "12966155",
   "metadata": {},
   "outputs": [],
   "source": [
    "val person1 = Person(\"ian\", \"kim\", 44)\n",
    "val person2 = Person(\"ian\", \"kim\", 44)"
   ]
  },
  {
   "cell_type": "code",
   "execution_count": null,
   "id": "9ddae216",
   "metadata": {},
   "outputs": [],
   "source": [
    "person1.fullName"
   ]
  },
  {
   "cell_type": "code",
   "execution_count": null,
   "id": "84c81612",
   "metadata": {},
   "outputs": [],
   "source": [
    "person1.compareTo(person2)"
   ]
  },
  {
   "cell_type": "code",
   "execution_count": null,
   "id": "9a60110d",
   "metadata": {},
   "outputs": [],
   "source": []
  },
  {
   "cell_type": "code",
   "execution_count": null,
   "id": "3c3eaf7a",
   "metadata": {},
   "outputs": [],
   "source": [
    "val AGE_COMPARATOR = Comparator<Person>{ p1, p2 ->\n",
    "  p1.age.compareTo(p2.age)\n",
    "}\n"
   ]
  },
  {
   "cell_type": "code",
   "execution_count": null,
   "id": "4d52870f",
   "metadata": {},
   "outputs": [],
   "source": [
    "AGE_COMPARATOR"
   ]
  },
  {
   "cell_type": "code",
   "execution_count": null,
   "id": "4066aef5",
   "metadata": {},
   "outputs": [],
   "source": []
  },
  {
   "cell_type": "code",
   "execution_count": null,
   "id": "2d7609f1",
   "metadata": {},
   "outputs": [],
   "source": [
    "val list3 = ArrayList<String>()\n",
    "list3.add(\"red\")\n",
    "list3.add(\"green\")\n",
    "println(list3) // [red, green]\n",
    "\n",
    "// 코틀린 스크립트 모드에서는 set을 게터/세터의 set으로 인식해서 문제가 생길 수 있다. 변수 이름을 바꿔서 문제를 해결한다.\n",
    "val set1 = HashSet<Int>()\n",
    "set1.add(12)\n",
    "set1.add(21)\n",
    "set1.add(12)\n",
    "println(set1) // [12, 21]\n",
    "\n",
    "val map = java.util.TreeMap<Int, String>()\n",
    "map[20] = \"Twenty\"\n",
    "map[10] = \"Ten\"\n",
    "println(map) // {10=Ten, 20=Twenty}\n",
    "\n",
    "val emptyList = emptyList<String>()\n",
    "println(emptyList)   // []\n"
   ]
  },
  {
   "cell_type": "code",
   "execution_count": null,
   "id": "c6934e89",
   "metadata": {},
   "outputs": [],
   "source": [
    "emptyList.add(\"abc\") // error: unresolved reference: add\n"
   ]
  },
  {
   "cell_type": "code",
   "execution_count": null,
   "id": "9e8a933b",
   "metadata": {},
   "outputs": [],
   "source": []
  },
  {
   "cell_type": "code",
   "execution_count": null,
   "id": "d402a77d",
   "metadata": {},
   "outputs": [],
   "source": [
    "val singletonSet = setOf(\"abc\")\n",
    "println(singletonSet)      // [abc]\n",
    "//singletonSet.remove(\"abc\") // error: unresolved reference\n"
   ]
  },
  {
   "cell_type": "code",
   "execution_count": null,
   "id": "5f755975",
   "metadata": {},
   "outputs": [],
   "source": [
    "singletonSet.remove(\"abc\") // error: unresolved reference\n"
   ]
  },
  {
   "cell_type": "code",
   "execution_count": null,
   "id": "c2a26d34",
   "metadata": {},
   "outputs": [],
   "source": [
    "val mutableList = mutableListOf(\"abc\")\n",
    "println(mutableList) // [abc]\n",
    "mutableList.add(\"def\")\n",
    "mutableList[0] = \"xyz\"\n",
    "println(mutableList) // [xyz, def]\n"
   ]
  },
  {
   "cell_type": "code",
   "execution_count": null,
   "id": "85ac0924",
   "metadata": {},
   "outputs": [],
   "source": [
    "val sortedSet = sortedSetOf(8, 5, 7, 1, 4)\n",
    "println(sortedSet) // [1, 4, 5, 7, 8]\n",
    "sortedSet.add(2)\n",
    "println(sortedSet) // [1, 2, 4, 5, 7, 8]\n",
    "\n",
    "println(List(5) { it*it }) // [0, 1, 4, 9, 16]\n"
   ]
  },
  {
   "cell_type": "code",
   "execution_count": null,
   "id": "fc14e4a6",
   "metadata": {},
   "outputs": [],
   "source": []
  },
  {
   "cell_type": "code",
   "execution_count": null,
   "id": "1d36f022",
   "metadata": {},
   "outputs": [],
   "source": [
    "val emptyMap = emptyMap<Int, String>()\n",
    "println(emptyMap)"
   ]
  },
  {
   "cell_type": "code",
   "execution_count": null,
   "id": "b51743aa",
   "metadata": {},
   "outputs": [],
   "source": [
    "emptyMap[10] = \"Ten\""
   ]
  },
  {
   "cell_type": "code",
   "execution_count": null,
   "id": "fa6fc51f",
   "metadata": {},
   "outputs": [],
   "source": [
    "val singletonMap = mapOf(10 to \"Ten\")\n",
    "print(singletonMap)"
   ]
  },
  {
   "cell_type": "code",
   "execution_count": null,
   "id": "45937529",
   "metadata": {},
   "outputs": [],
   "source": [
    "singletonMap.remove(\"abc\")"
   ]
  },
  {
   "cell_type": "code",
   "execution_count": null,
   "id": "fe66c17f",
   "metadata": {},
   "outputs": [],
   "source": [
    "val mutableMap = mutableMapOf(10 to \"Ten\")\n",
    "print(mutableMap)\n",
    "mutableMap[20] = \"Twenty\"\n",
    "mutableMap[100] = \"Hundred\"\n",
    "mutableMap.remove(10)\n",
    "println(mutableMap)"
   ]
  },
  {
   "cell_type": "code",
   "execution_count": null,
   "id": "07adebef",
   "metadata": {},
   "outputs": [],
   "source": [
    "val sortedMap = sortedMapOf(3 to \"three\", 1 to \"one\", 2 to \"two\")\n",
    "println(sortedMap)\n",
    "sortedMap[0] = \"zero\"\n",
    "println(sortedMap)"
   ]
  },
  {
   "cell_type": "code",
   "execution_count": null,
   "id": "987889e2",
   "metadata": {},
   "outputs": [],
   "source": []
  },
  {
   "cell_type": "code",
   "execution_count": null,
   "id": "91f98dee",
   "metadata": {},
   "outputs": [],
   "source": [
    "println(List(5) { it*it }) // [0, 1, 4, 9, 16]\n",
    "println(List(5) { it+it }) // [0, 2, 4, 6, 9]"
   ]
  },
  {
   "cell_type": "code",
   "execution_count": null,
   "id": "0d8ebca1",
   "metadata": {},
   "outputs": [],
   "source": []
  },
  {
   "cell_type": "code",
   "execution_count": null,
   "id": "c8d9ee2f",
   "metadata": {},
   "outputs": [],
   "source": [
    "\n",
    "val numbers = MutableList(5) { it*2 }\n",
    "println(numbers) // [0, 2, 4, 6, 8]\n",
    "numbers.add(100)\n",
    "println(numbers) // [0, 2, 4, 6, 8, 100]\n"
   ]
  },
  {
   "cell_type": "code",
   "execution_count": null,
   "id": "96b8cb55",
   "metadata": {},
   "outputs": [],
   "source": [
    "println(sequenceOf(1, 2, 3).iterator().next())             // 1\n",
    "println(listOf(10, 20, 30).asSequence().iterator().next()) // 10\n",
    "println(\n",
    "  mapOf(1 to \"One\", 2 to \"Two\").asSequence().iterator().next()\n",
    ")                                                          // 1=One\n"
   ]
  },
  {
   "cell_type": "code",
   "execution_count": null,
   "id": "38c0eb11",
   "metadata": {},
   "outputs": [],
   "source": []
  },
  {
   "cell_type": "code",
   "execution_count": null,
   "id": "ec10224e",
   "metadata": {},
   "outputs": [],
   "source": [
    "val numbers2 = generateSequence{ println(\"Input a number:\");readLine()?.toIntOrNull() }\n",
    "\n",
    "println(numbers2.first()) // 실제 원소를 소비해야 readLine이 호출됨\n"
   ]
  },
  {
   "cell_type": "code",
   "execution_count": null,
   "id": "c1ca24ee",
   "metadata": {},
   "outputs": [],
   "source": []
  },
  {
   "cell_type": "code",
   "execution_count": null,
   "id": "080a56d8",
   "metadata": {},
   "outputs": [],
   "source": [
    "// 무한 시퀀스(단, 값 오버플로가 발생해서 음수와 양수를 왔다갔다 함): 1, 2, 4, 8,...\n",
    "val powers = generateSequence(1) { it*2 }\n",
    "\n",
    "// 유한 시퀀스: 10, 8, 6, 4, 2, 0\n",
    "val evens = generateSequence(10) { if (it >= 2) it - 2 else null }\n"
   ]
  },
  {
   "cell_type": "code",
   "execution_count": null,
   "id": "4ea3ef09",
   "metadata": {},
   "outputs": [],
   "source": [
    "powers"
   ]
  },
  {
   "cell_type": "code",
   "execution_count": null,
   "id": "a82334bc",
   "metadata": {},
   "outputs": [],
   "source": [
    "evens"
   ]
  },
  {
   "cell_type": "code",
   "execution_count": null,
   "id": "3b411d94",
   "metadata": {},
   "outputs": [],
   "source": []
  },
  {
   "cell_type": "code",
   "execution_count": null,
   "id": "157a94c0",
   "metadata": {},
   "outputs": [],
   "source": [
    "val numbers3 = sequence {\n",
    "  yield(0)\n",
    "  yieldAll(listOf(1, 2, 3))\n",
    "  yieldAll(intArrayOf(4, 5, 6).iterator())\n",
    "  yieldAll(generateSequence(10) { if (it < 50) it*3 else null })\n",
    "}\n",
    "\n",
    "println(numbers3.toList()) // [0, 1, 2, 3, 4, 5, 6, 10, 30, 90]\n"
   ]
  },
  {
   "cell_type": "code",
   "execution_count": null,
   "id": "0e51796a",
   "metadata": {},
   "outputs": [],
   "source": []
  },
  {
   "cell_type": "code",
   "execution_count": null,
   "id": "86f548c4",
   "metadata": {},
   "outputs": [],
   "source": [
    "println(\n",
    "  listOf(1, 2, 3, 2, 3).toSet()\n",
    ") // [1, 2, 3]\n",
    "\n",
    "println(\n",
    "  arrayOf(\"red\", \"green\", \"blue\").toSortedSet()\n",
    ") // [blue, green, red]\n",
    "\n",
    "println(\n",
    "  mapOf(1 to \"one\", 2 to \"two\", 3 to \"threen\").toList()\n",
    ") // [(1, one), (2, two), (3, threen)]\n",
    "\n",
    "println(\n",
    "  sequenceOf(1 to \"one\", 2 to \"two\", 3 to \"threen\").toMap()\n",
    ") // {1=one, 2=two, 3=threen}"
   ]
  },
  {
   "cell_type": "code",
   "execution_count": null,
   "id": "5545b73a",
   "metadata": {},
   "outputs": [],
   "source": []
  },
  {
   "cell_type": "code",
   "execution_count": null,
   "id": "4d1b524e",
   "metadata": {},
   "outputs": [],
   "source": [
    "val map2 = mapOf(1 to \"one\", 2 to \"two\", 3 to \"three\")\n"
   ]
  },
  {
   "cell_type": "code",
   "execution_count": null,
   "id": "408157a4",
   "metadata": {},
   "outputs": [],
   "source": [
    "for ((key, value) in map2) {\n",
    "    println(\"$key -> $value\")\n",
    "}"
   ]
  },
  {
   "cell_type": "code",
   "execution_count": null,
   "id": "1bd418d7",
   "metadata": {},
   "outputs": [],
   "source": [
    "// (key, value) 와 같이 추출하는 구조 분해를 지원\n",
    "map2.forEach { (key, value) -> println(\"$key -> $value\") }"
   ]
  },
  {
   "cell_type": "code",
   "execution_count": null,
   "id": "7b611415",
   "metadata": {},
   "outputs": [],
   "source": []
  },
  {
   "cell_type": "code",
   "execution_count": null,
   "id": "21b913d6",
   "metadata": {},
   "outputs": [],
   "source": [
    "// 암묵적으로 it 은 생략해도 됨\n",
    "intArrayOf(1, 2, 3).forEach { println(it*it) }\n",
    "println()\n",
    "intArrayOf(1, 2, 3).forEach { it -> println(it*it) }"
   ]
  },
  {
   "cell_type": "code",
   "execution_count": null,
   "id": "dd6ed300",
   "metadata": {},
   "outputs": [],
   "source": []
  },
  {
   "cell_type": "code",
   "execution_count": null,
   "id": "953d1725",
   "metadata": {},
   "outputs": [],
   "source": [
    "listOf(\"a\", \"b\", \"c\").forEach { println(\"'$it'\") }"
   ]
  },
  {
   "cell_type": "code",
   "execution_count": null,
   "id": "a5a909a0",
   "metadata": {},
   "outputs": [],
   "source": []
  },
  {
   "cell_type": "code",
   "execution_count": null,
   "id": "f4698178",
   "metadata": {},
   "outputs": [],
   "source": [
    "sequenceOf(\"a\", \"b\", \"c\").forEach { println(\"'$it'\") }"
   ]
  },
  {
   "cell_type": "code",
   "execution_count": null,
   "id": "d0ca5495",
   "metadata": {},
   "outputs": [],
   "source": [
    "// asSequence() 는 불필요\n",
    "listOf(\"a\", \"b\", \"c\").asSequence().forEach { println(\"$it\") }"
   ]
  },
  {
   "cell_type": "code",
   "execution_count": null,
   "id": "59f7d58e",
   "metadata": {},
   "outputs": [],
   "source": []
  },
  {
   "cell_type": "code",
   "execution_count": null,
   "id": "b0d8af5e",
   "metadata": {},
   "outputs": [],
   "source": [
    "mapOf(1 to \"one\", 2 to \"two\", 3 to \"three\").forEach { (key, value) ->\n",
    "  println(\"$key -> $value\")\n",
    "}"
   ]
  },
  {
   "cell_type": "code",
   "execution_count": null,
   "id": "08c33db0",
   "metadata": {},
   "outputs": [],
   "source": []
  },
  {
   "cell_type": "code",
   "execution_count": null,
   "id": "84d0ee8e",
   "metadata": {},
   "outputs": [],
   "source": [
    "listOf(10, 20, 30).forEachIndexed { i, n ->println(\"$i: ${n*n}\") }\n"
   ]
  },
  {
   "cell_type": "code",
   "execution_count": null,
   "id": "6e6762f2",
   "metadata": {},
   "outputs": [],
   "source": []
  },
  {
   "cell_type": "code",
   "execution_count": null,
   "id": "c944590f",
   "metadata": {},
   "outputs": [],
   "source": [
    "val list4 = listOf(1, 2, 3)\n",
    "\n",
    "println(list4.isEmpty())                 // false\n",
    "println(list4.size)                      // 3\n",
    "println(list4.contains(4))               // false\n",
    "println(2 in list4)                      // true\n",
    "println(list4.containsAll(listOf(1, 2))) // true"
   ]
  },
  {
   "cell_type": "code",
   "execution_count": null,
   "id": "38427803",
   "metadata": {},
   "outputs": [],
   "source": [
    "list4.remove(3)"
   ]
  },
  {
   "cell_type": "code",
   "execution_count": null,
   "id": "70ab714e",
   "metadata": {},
   "outputs": [],
   "source": []
  },
  {
   "cell_type": "code",
   "execution_count": null,
   "id": "2dd0c5d9",
   "metadata": {},
   "outputs": [],
   "source": [
    "val list5 = arrayListOf(1, 2, 3)\n",
    "\n",
    "list5.add(4)                     // 원소 하나 추가: [1, 2, 3, 4]\n",
    "println(list5)\n",
    "\n",
    "list5.remove(3)                  // 원소 하나 제거: [1, 2, 4]\n",
    "println(list5)\n",
    "\n",
    "list5.addAll(setOf(5, 6))        // 합집합: [1, 2, 4, 5, 6]\n",
    "println(list5)\n",
    "\n",
    "list5.removeAll(listOf(1, 2))    // 차집합: [4, 5, 6]\n",
    "println(list5)\n",
    "\n",
    "list5.retainAll(listOf(5, 6, 7)) // 교집합: [5, 6]\n",
    "println(list5)\n",
    "\n",
    "list5.clear()                    // 모든 원소 제거: []\n",
    "println(list5)\n"
   ]
  },
  {
   "cell_type": "code",
   "execution_count": null,
   "id": "1f1498d6",
   "metadata": {},
   "outputs": [],
   "source": []
  },
  {
   "cell_type": "code",
   "execution_count": null,
   "id": "3ed42691",
   "metadata": {},
   "outputs": [],
   "source": [
    "list5 += 4\n",
    "println(list5)\n",
    "\n",
    "list5 -= 3\n",
    "println(list5)\n",
    "\n",
    "list5 += setOf(5, 6)\n",
    "println(list5)\n",
    "\n",
    "list5 -= listOf(1, 2)\n",
    "println(list5)\n"
   ]
  },
  {
   "cell_type": "code",
   "execution_count": null,
   "id": "33b991c1",
   "metadata": {},
   "outputs": [],
   "source": []
  },
  {
   "cell_type": "code",
   "execution_count": null,
   "id": "ff36d6db",
   "metadata": {},
   "outputs": [],
   "source": [
    "\n",
    "val list1 = listOf(1, 2, 3)\n",
    "val list2 = list1 + 4\n",
    "\n",
    "println(list2) // [1, 2, 3, 4]\n",
    "println(listOf(1, 2, 3) - setOf(2, 5)) // [1, 3]"
   ]
  },
  {
   "cell_type": "code",
   "execution_count": null,
   "id": "666be6d8",
   "metadata": {},
   "outputs": [],
   "source": [
    "\"${list1.hashCode()}, ${list2.hashCode()}\""
   ]
  },
  {
   "cell_type": "code",
   "execution_count": null,
   "id": "1dd2b4c9",
   "metadata": {},
   "outputs": [],
   "source": []
  },
  {
   "cell_type": "code",
   "execution_count": null,
   "id": "bb5cca8f",
   "metadata": {},
   "outputs": [],
   "source": [
    "val readOnly = listOf(1, 2, 3)\n",
    "//readOnly += 4 // error: can't assign to val\n",
    "var mutable = listOf(1, 2, 3)\n",
    "mutable += 4  // Correct"
   ]
  },
  {
   "cell_type": "code",
   "execution_count": 3,
   "id": "df77cbbd",
   "metadata": {},
   "outputs": [],
   "source": [
    "// +/- 연산자로 대입일 일어날때마다 암시적으로 새로운 컬렉션을 생성하므로 성능에 문제가 될 수 있다"
   ]
  },
  {
   "cell_type": "code",
   "execution_count": null,
   "id": "17b0f854",
   "metadata": {},
   "outputs": [],
   "source": []
  },
  {
   "cell_type": "code",
   "execution_count": 2,
   "id": "596c047e",
   "metadata": {},
   "outputs": [
    {
     "name": "stdout",
     "output_type": "stream",
     "text": [
      "2\n",
      "6\n",
      "1\n",
      "4\n",
      "-1\n"
     ]
    }
   ],
   "source": [
    "val list6 = listOf(1, 4, 6, 2, 4, 1, 7)\n",
    "\n",
    "println(list6.get(3))         // 2\n",
    "println(list6[2])             // 6\n",
    "//println(list6[10])            // java.lang.ArrayIndexOutOfBoundsException\n",
    "println(list6.indexOf(4))     // 1\n",
    "println(list6.lastIndexOf(4)) // 4\n",
    "println(list6.indexOf(8))     // -1\n"
   ]
  },
  {
   "cell_type": "code",
   "execution_count": null,
   "id": "f28d96fc",
   "metadata": {},
   "outputs": [],
   "source": []
  },
  {
   "cell_type": "code",
   "execution_count": 4,
   "id": "3fc9e090",
   "metadata": {},
   "outputs": [],
   "source": [
    "val list7 = arrayListOf(1, 4, 6, 2, 4, 1, 7)\n",
    "\n",
    "list7.set(3, 0)   // [1, 4, 6, 0, 4, 1, 7]\n",
    "list7[2] = 1      // [1, 4, 1, 0, 4, 1, 7]\n",
    "list7.removeAt(5) // [1, 4, 1, 0, 4, 7]\n",
    "list7.add(3, 8)   // [1, 4, 1, 8, 0, 4, 7]\n"
   ]
  },
  {
   "cell_type": "code",
   "execution_count": 5,
   "id": "75395895",
   "metadata": {},
   "outputs": [
    {
     "data": {
      "text/plain": [
       "[1, 4, 1, 8, 0, 4, 7]"
      ]
     },
     "execution_count": 5,
     "metadata": {},
     "output_type": "execute_result"
    }
   ],
   "source": [
    "list7"
   ]
  },
  {
   "cell_type": "code",
   "execution_count": null,
   "id": "915e4a99",
   "metadata": {},
   "outputs": [],
   "source": []
  },
  {
   "cell_type": "code",
   "execution_count": 6,
   "id": "53f5e5db",
   "metadata": {},
   "outputs": [
    {
     "data": {
      "text/plain": [
       "1"
      ]
     },
     "execution_count": 6,
     "metadata": {},
     "output_type": "execute_result"
    }
   ],
   "source": [
    "list7.first()"
   ]
  },
  {
   "cell_type": "code",
   "execution_count": 7,
   "id": "c1ece339",
   "metadata": {},
   "outputs": [
    {
     "data": {
      "text/plain": [
       "7"
      ]
     },
     "execution_count": 7,
     "metadata": {},
     "output_type": "execute_result"
    }
   ],
   "source": [
    "list7.last()"
   ]
  },
  {
   "cell_type": "code",
   "execution_count": null,
   "id": "bfe47e53",
   "metadata": {},
   "outputs": [],
   "source": []
  },
  {
   "cell_type": "code",
   "execution_count": 8,
   "id": "42731f95",
   "metadata": {},
   "outputs": [
    {
     "name": "stdout",
     "output_type": "stream",
     "text": [
      "false\n",
      "4\n",
      "V\n",
      "X\n",
      "null\n",
      "?\n",
      "?\n",
      "true\n",
      "false\n",
      "[1, 5, 10, 50]\n",
      "[I, V, X, L]\n",
      "[1=I, 5=V, 10=X, 50=L]\n"
     ]
    }
   ],
   "source": [
    "val map3 = mapOf(1 to \"I\", 5 to \"V\", 10 to \"X\", 50 to \"L\")\n",
    "\n",
    "println(map3.isEmpty())              // false\n",
    "println(map3.size)                   // 4\n",
    "println(map3.get(5))                 // V\n",
    "println(map3[10])                    // X\n",
    "println(map3[100])                   // null\n",
    "println(map3.getOrDefault(100, \"?\")) // ?\n",
    "println(map3.getOrElse(100) { \"?\" }) // ?\n",
    "println(map3.containsKey(10))        // true\n",
    "println(map3.containsValue(\"C\"))     // false\n",
    "println(map3.keys)                   // [1, 5, 10, 50]\n",
    "println(map3.values)                 // [I, V, X, L]\n",
    "println(map3.entries)                // [1=I, 5=V, 10=X, 50=L]"
   ]
  },
  {
   "cell_type": "code",
   "execution_count": null,
   "id": "3b854de9",
   "metadata": {},
   "outputs": [],
   "source": []
  },
  {
   "cell_type": "code",
   "execution_count": 9,
   "id": "b61ad0c6",
   "metadata": {},
   "outputs": [],
   "source": [
    "val map4 = sortedMapOf(1 to \"I\", 5 to \"V\")\n",
    "\n",
    "map4.put(100, \"C\")            // {1=I, 5=V, 100=C}\n",
    "map4[500] = \"D\"               // {1=I, 5=V, 100=C, 500=D}\n",
    "map4.remove(1)                // {5=V, 100=C, 500=D}\n",
    "map4.putAll(mapOf(10 to \"X\")) // {5=V, 10=X, 100=C, 500=D}\n",
    "map4 += 50 to \"L\"             // {5=V, 10=X, 50=L, 100=C, 500=D}\n",
    "map4 += mapOf(2 to \"II\",\n",
    "3 to \"III\")                  // {2=II, 3=III, 5=V, 10=X, 50=L, 100=C, 500=D}\n",
    "map4 -= 100                   // {2=II, 3=III, 5=V, 10=X, 50=L, 500=D}\n",
    "map4 -= listOf(2, 3)          // {5=V, 10=X, 50=L, 500=D}"
   ]
  },
  {
   "cell_type": "code",
   "execution_count": 10,
   "id": "038acd4e",
   "metadata": {},
   "outputs": [
    {
     "data": {
      "text/plain": [
       "{5=V, 10=X, 50=L, 500=D}"
      ]
     },
     "execution_count": 10,
     "metadata": {},
     "output_type": "execute_result"
    }
   ],
   "source": [
    "map4"
   ]
  },
  {
   "cell_type": "code",
   "execution_count": null,
   "id": "f6e670ec",
   "metadata": {},
   "outputs": [],
   "source": []
  },
  {
   "cell_type": "code",
   "execution_count": 11,
   "id": "a3333bc1",
   "metadata": {},
   "outputs": [
    {
     "name": "stdout",
     "output_type": "stream",
     "text": [
      "1\n",
      "3\n",
      "null\n"
     ]
    }
   ],
   "source": [
    "println(listOf(1, 2, 3).first())            // 1\n",
    "println(listOf(1, 2, 3).last())             // 3\n",
    "//println(emptyArray<String>().first())       // java.util.NoSuchElementException\n",
    "println(emptyArray<String>().firstOrNull()) // null"
   ]
  },
  {
   "cell_type": "code",
   "execution_count": null,
   "id": "453e6231",
   "metadata": {},
   "outputs": [],
   "source": []
  },
  {
   "cell_type": "code",
   "execution_count": 13,
   "id": "9479f7b7",
   "metadata": {},
   "outputs": [
    {
     "name": "stdout",
     "output_type": "stream",
     "text": [
      "1\n",
      "81\n"
     ]
    }
   ],
   "source": [
    "val seq = generateSequence(1) { if (it > 50) null else it * 3 }\n",
    "\n",
    "println(seq.first()) // 1\n",
    "println(seq.last())  // 81"
   ]
  },
  {
   "cell_type": "code",
   "execution_count": 18,
   "id": "a5f0167c",
   "metadata": {},
   "outputs": [
    {
     "data": {
      "text/plain": [
       "[1, 3, 9, 27, 81]"
      ]
     },
     "execution_count": 18,
     "metadata": {},
     "output_type": "execute_result"
    }
   ],
   "source": [
    "seq.toSortedSet()"
   ]
  },
  {
   "cell_type": "code",
   "execution_count": 21,
   "id": "c712a088",
   "metadata": {},
   "outputs": [
    {
     "data": {
      "text/plain": [
       "[1, 3, 9, 27, 81]"
      ]
     },
     "execution_count": 21,
     "metadata": {},
     "output_type": "execute_result"
    }
   ],
   "source": [
    "seq.toMutableList()"
   ]
  },
  {
   "cell_type": "code",
   "execution_count": null,
   "id": "474d5585",
   "metadata": {},
   "outputs": [],
   "source": []
  },
  {
   "cell_type": "code",
   "execution_count": 22,
   "id": "999538ca",
   "metadata": {},
   "outputs": [
    {
     "name": "stdout",
     "output_type": "stream",
     "text": [
      "3\n",
      "null\n"
     ]
    }
   ],
   "source": [
    "println(listOf(1, 2, 3).first { it > 2 })      // 31\n",
    "println(listOf(1, 2, 3).lastOrNull { it < 0 }) // null\n",
    "//println(intArrayOf(1, 2, 3).first { it > 3 })  // java.util.NoSuchElementException\n"
   ]
  },
  {
   "cell_type": "code",
   "execution_count": null,
   "id": "3569d2c6",
   "metadata": {},
   "outputs": [],
   "source": []
  },
  {
   "cell_type": "code",
   "execution_count": 23,
   "id": "fb581bf6",
   "metadata": {},
   "outputs": [
    {
     "name": "stdout",
     "output_type": "stream",
     "text": [
      "1\n",
      "null\n",
      "null\n"
     ]
    }
   ],
   "source": [
    "println(listOf(1).single())                  // 1\n",
    "println(emptyArray<String>().singleOrNull()) // null\n",
    "println(setOf(1, 2, 3).singleOrNull())       // null\n",
    "// java.lang.IllegalArgumentException: Sequence has more than one element.\n",
    "//println(sequenceOf(1, 2, 3).single())\n"
   ]
  },
  {
   "cell_type": "code",
   "execution_count": 24,
   "id": "291a5bc4",
   "metadata": {},
   "outputs": [
    {
     "name": "stderr",
     "output_type": "stream",
     "text": [
      "Sequence has more than one element.\n",
      "java.lang.IllegalArgumentException: Sequence has more than one element.\n",
      "\tat kotlin.sequences.SequencesKt___SequencesKt.single(_Sequences.kt:336)\n",
      "\tat Line_247_jupyter.<init>(Line_247.jupyter.kts:1)\n",
      "\tat java.base/jdk.internal.reflect.NativeConstructorAccessorImpl.newInstance0(Native Method)\n",
      "\tat java.base/jdk.internal.reflect.NativeConstructorAccessorImpl.newInstance(NativeConstructorAccessorImpl.java:62)\n",
      "\tat java.base/jdk.internal.reflect.DelegatingConstructorAccessorImpl.newInstance(DelegatingConstructorAccessorImpl.java:45)\n",
      "\tat java.base/java.lang.reflect.Constructor.newInstance(Constructor.java:490)\n",
      "\tat kotlin.script.experimental.jvm.BasicJvmScriptEvaluator.evalWithConfigAndOtherScriptsResults(BasicJvmScriptEvaluator.kt:105)\n",
      "\tat kotlin.script.experimental.jvm.BasicJvmScriptEvaluator.invoke$suspendImpl(BasicJvmScriptEvaluator.kt:47)\n",
      "\tat kotlin.script.experimental.jvm.BasicJvmScriptEvaluator.invoke(BasicJvmScriptEvaluator.kt)\n",
      "\tat kotlin.script.experimental.jvm.BasicJvmReplEvaluator.eval(BasicJvmReplEvaluator.kt:49)\n",
      "\tat org.jetbrains.kotlinx.jupyter.repl.impl.InternalEvaluatorImpl$eval$resultWithDiagnostics$1.invokeSuspend(InternalEvaluatorImpl.kt:103)\n",
      "\tat kotlin.coroutines.jvm.internal.BaseContinuationImpl.resumeWith(ContinuationImpl.kt:33)\n",
      "\tat kotlinx.coroutines.DispatchedTask.run(DispatchedTask.kt:106)\n",
      "\tat kotlinx.coroutines.EventLoopImplBase.processNextEvent(EventLoop.common.kt:284)\n",
      "\tat kotlinx.coroutines.BlockingCoroutine.joinBlocking(Builders.kt:85)\n",
      "\tat kotlinx.coroutines.BuildersKt__BuildersKt.runBlocking(Builders.kt:59)\n",
      "\tat kotlinx.coroutines.BuildersKt.runBlocking(Unknown Source)\n",
      "\tat kotlinx.coroutines.BuildersKt__BuildersKt.runBlocking$default(Builders.kt:38)\n",
      "\tat kotlinx.coroutines.BuildersKt.runBlocking$default(Unknown Source)\n",
      "\tat org.jetbrains.kotlinx.jupyter.repl.impl.InternalEvaluatorImpl.eval(InternalEvaluatorImpl.kt:103)\n",
      "\tat org.jetbrains.kotlinx.jupyter.repl.impl.CellExecutorImpl$execute$1$result$1.invoke(CellExecutorImpl.kt:75)\n",
      "\tat org.jetbrains.kotlinx.jupyter.repl.impl.CellExecutorImpl$execute$1$result$1.invoke(CellExecutorImpl.kt:73)\n",
      "\tat org.jetbrains.kotlinx.jupyter.ReplForJupyterImpl.withHost(repl.kt:660)\n",
      "\tat org.jetbrains.kotlinx.jupyter.repl.impl.CellExecutorImpl.execute(CellExecutorImpl.kt:73)\n",
      "\tat org.jetbrains.kotlinx.jupyter.repl.CellExecutor$DefaultImpls.execute$default(CellExecutor.kt:15)\n",
      "\tat org.jetbrains.kotlinx.jupyter.ReplForJupyterImpl$evalEx$1.invoke(repl.kt:466)\n",
      "\tat org.jetbrains.kotlinx.jupyter.ReplForJupyterImpl$evalEx$1.invoke(repl.kt:455)\n",
      "\tat org.jetbrains.kotlinx.jupyter.ReplForJupyterImpl.withEvalContext(repl.kt:419)\n",
      "\tat org.jetbrains.kotlinx.jupyter.ReplForJupyterImpl.evalEx(repl.kt:455)\n",
      "\tat org.jetbrains.kotlinx.jupyter.messaging.ProtocolKt$shellMessagesHandler$2$res$1.invoke(protocol.kt:312)\n",
      "\tat org.jetbrains.kotlinx.jupyter.messaging.ProtocolKt$shellMessagesHandler$2$res$1.invoke(protocol.kt:311)\n",
      "\tat org.jetbrains.kotlinx.jupyter.JupyterExecutorImpl$runExecution$execThread$1.invoke(execution.kt:33)\n",
      "\tat org.jetbrains.kotlinx.jupyter.JupyterExecutorImpl$runExecution$execThread$1.invoke(execution.kt:31)\n",
      "\tat kotlin.concurrent.ThreadsKt$thread$thread$1.run(Thread.kt:30)\n"
     ]
    }
   ],
   "source": [
    "println(sequenceOf(1, 2, 3).single())"
   ]
  },
  {
   "cell_type": "code",
   "execution_count": null,
   "id": "23ec4abe",
   "metadata": {},
   "outputs": [],
   "source": []
  },
  {
   "cell_type": "code",
   "execution_count": null,
   "id": "5573da84",
   "metadata": {},
   "outputs": [],
   "source": []
  },
  {
   "cell_type": "code",
   "execution_count": null,
   "id": "c4e60960",
   "metadata": {},
   "outputs": [],
   "source": []
  },
  {
   "cell_type": "code",
   "execution_count": null,
   "id": "ca8536ad",
   "metadata": {},
   "outputs": [],
   "source": []
  },
  {
   "cell_type": "code",
   "execution_count": null,
   "id": "f1b81c4d",
   "metadata": {},
   "outputs": [],
   "source": []
  },
  {
   "cell_type": "code",
   "execution_count": null,
   "id": "302d632e",
   "metadata": {},
   "outputs": [],
   "source": []
  },
  {
   "cell_type": "code",
   "execution_count": null,
   "id": "842faf7b",
   "metadata": {},
   "outputs": [],
   "source": []
  }
 ],
 "metadata": {
  "kernelspec": {
   "display_name": "Kotlin",
   "language": "kotlin",
   "name": "kotlin"
  },
  "language_info": {
   "codemirror_mode": "text/x-kotlin",
   "file_extension": ".kt",
   "mimetype": "text/x-kotlin",
   "name": "kotlin",
   "nbconvert_exporter": "",
   "pygments_lexer": "kotlin",
   "version": "1.8.20-Beta"
  }
 },
 "nbformat": 4,
 "nbformat_minor": 5
}
