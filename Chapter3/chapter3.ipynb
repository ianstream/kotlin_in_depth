{
 "cells": [
  {
   "cell_type": "code",
   "execution_count": 1,
   "id": "5169d90b",
   "metadata": {},
   "outputs": [],
   "source": [
    "fun prompt(name: String) {\n",
    "  println(\"***** Hello, $name! *****\")\n",
    "}\n",
    "\n",
    "// Unit -> void 에 해당\n",
    "fun prompt2(name: String): Unit {\n",
    "  println(\"***** Hello, $name! *****\")\n",
    "}\n"
   ]
  },
  {
   "cell_type": "code",
   "execution_count": 8,
   "id": "59205b77",
   "metadata": {},
   "outputs": [
    {
     "name": "stdout",
     "output_type": "stream",
     "text": [
      "***** Hello, ian! *****\n"
     ]
    }
   ],
   "source": [
    "prompt(\"ian\")"
   ]
  },
  {
   "cell_type": "code",
   "execution_count": 9,
   "id": "1bbf162b",
   "metadata": {},
   "outputs": [
    {
     "name": "stdout",
     "output_type": "stream",
     "text": [
      "***** Hello, ian! *****\n"
     ]
    }
   ],
   "source": [
    "prompt2(\"ian\")"
   ]
  },
  {
   "cell_type": "code",
   "execution_count": null,
   "id": "3d980864",
   "metadata": {},
   "outputs": [],
   "source": []
  },
  {
   "cell_type": "code",
   "execution_count": 10,
   "id": "eee521b0",
   "metadata": {},
   "outputs": [],
   "source": [
    "fun circleArea(radius: Double): Double = PI*radius*radius\n",
    "\n",
    "fun circleArea2(radius: Double) = PI*radius*radius // 반환값이 Double로 추론됨\n",
    "\n",
    "fun circleArea3(radius: Double) = { PI*radius*radius }"
   ]
  },
  {
   "cell_type": "code",
   "execution_count": 11,
   "id": "d5b250d8",
   "metadata": {},
   "outputs": [
    {
     "data": {
      "text/plain": [
       "30.974846927333928"
      ]
     },
     "execution_count": 11,
     "metadata": {},
     "output_type": "execute_result"
    }
   ],
   "source": [
    "circleArea(3.14)"
   ]
  },
  {
   "cell_type": "code",
   "execution_count": 12,
   "id": "069ff4aa",
   "metadata": {},
   "outputs": [],
   "source": [
    "fun rectangleArea(radius: Double): Double = radius*radius"
   ]
  },
  {
   "cell_type": "code",
   "execution_count": 14,
   "id": "7d7b6c79",
   "metadata": {},
   "outputs": [
    {
     "data": {
      "text/plain": [
       "9.0"
      ]
     },
     "execution_count": 14,
     "metadata": {},
     "output_type": "execute_result"
    }
   ],
   "source": [
    "rectangleArea(3.0)"
   ]
  },
  {
   "cell_type": "code",
   "execution_count": 15,
   "id": "04dbf578",
   "metadata": {},
   "outputs": [],
   "source": [
    "fun mul(a: Int, b: Int) = a*b            // 1\n",
    "fun mul(a: Int, b: Int, c: Int) = a*b*c  // 2\n",
    "fun mul(s: String, n: Int) = s.repeat(n) // 3\n",
    "fun mul(o: Any, n: Int) = Array(n) { o } // 4"
   ]
  },
  {
   "cell_type": "code",
   "execution_count": 21,
   "id": "a5e7369f",
   "metadata": {},
   "outputs": [
    {
     "data": {
      "text/plain": [
       "2"
      ]
     },
     "execution_count": 21,
     "metadata": {},
     "output_type": "execute_result"
    }
   ],
   "source": [
    "mul(1, 2)   // Int가 Any의 하위타입이므로 1과 4중에 1을 선택"
   ]
  },
  {
   "cell_type": "code",
   "execution_count": 22,
   "id": "07fe639b",
   "metadata": {},
   "outputs": [
    {
     "data": {
      "text/plain": [
       "[1, 1]"
      ]
     },
     "execution_count": 22,
     "metadata": {},
     "output_type": "execute_result"
    }
   ],
   "source": [
    "// mul(1, 2L) // error: none of the following functions can be called with the arguments supplied\n",
    "            // 오류: (Int, Long) 타입을 받을 수 있는 함수가 없음\n",
    "mul(1L, 2)  // Long, Int 타입을 받을 수 있는 함수는 4번뿐이므로 4를 선택"
   ]
  },
  {
   "cell_type": "code",
   "execution_count": 19,
   "id": "bf670a7b",
   "metadata": {},
   "outputs": [
    {
     "data": {
      "text/plain": [
       "000"
      ]
     },
     "execution_count": 19,
     "metadata": {},
     "output_type": "execute_result"
    }
   ],
   "source": [
    "mul(\"0\", 3) // String이 Any의 하위타입이기 때문에 3과 4중에 3을 선택"
   ]
  },
  {
   "cell_type": "code",
   "execution_count": 20,
   "id": "6b00b8b2",
   "metadata": {},
   "outputs": [
    {
     "data": {
      "text/plain": [
       "[0, 0, 0]"
      ]
     },
     "execution_count": 20,
     "metadata": {},
     "output_type": "execute_result"
    }
   ],
   "source": [
    "mul(\"0\" as Any, 3) // (Any, Int)를 받을 수 있는 함수는 4뿐이므로 4를 선택"
   ]
  },
  {
   "cell_type": "code",
   "execution_count": 23,
   "id": "cc15edd6",
   "metadata": {},
   "outputs": [
    {
     "name": "stderr",
     "output_type": "stream",
     "text": [
      "Line_352.jupyter.kts (1:1 - 4) None of the following functions can be called with the arguments supplied: \n",
      "public final fun mul(o: Any, n: Int): Array<Any> defined in Line_295_jupyter\n",
      "public final fun mul(a: Int, b: Int): Int defined in Line_295_jupyter\n",
      "public final fun mul(s: String, n: Int): String defined in Line_295_jupyter\n",
      "Line_352.jupyter.kts (1:19 - 21) This cast can never succeed"
     ]
    }
   ],
   "source": [
    "mul(\"0\" as Any, 3 as Long)"
   ]
  },
  {
   "cell_type": "code",
   "execution_count": null,
   "id": "30b15aee",
   "metadata": {},
   "outputs": [],
   "source": []
  },
  {
   "cell_type": "code",
   "execution_count": 24,
   "id": "b7c3eae1",
   "metadata": {},
   "outputs": [],
   "source": [
    "\n",
    "fun printSorted(vararg items: Int) {\n",
    "  items.sort()\n",
    "  println(items.contentToString())\n",
    "}"
   ]
  },
  {
   "cell_type": "code",
   "execution_count": 29,
   "id": "696386df",
   "metadata": {},
   "outputs": [
    {
     "data": {
      "text/plain": [
       "[3, 8]"
      ]
     },
     "execution_count": 29,
     "metadata": {},
     "output_type": "execute_result"
    }
   ],
   "source": [
    "intArrayOf(3, 8)"
   ]
  },
  {
   "cell_type": "code",
   "execution_count": 25,
   "id": "7a419dc8",
   "metadata": {},
   "outputs": [
    {
     "name": "stdout",
     "output_type": "stream",
     "text": [
      "[1, 2, 3, 6, 8]\n"
     ]
    }
   ],
   "source": [
    "printSorted(6, 1, *intArrayOf(3, 8), 2) // 6,1,3,8,2 순서로 원소가 들어있는 배열이 전달되고, [1, 2, 3, 6, 8]이 반환됨"
   ]
  },
  {
   "cell_type": "code",
   "execution_count": 27,
   "id": "489b964a",
   "metadata": {},
   "outputs": [
    {
     "name": "stdout",
     "output_type": "stream",
     "text": [
      "[1, 2, 3]\n"
     ]
    }
   ],
   "source": [
    "printSorted(items = intArrayOf(1, 2, 3)) // vararg의 이름을 지정할 때는 배열을 그냥 넘기면 됨\n",
    "//printSorted(items = 1, 2, 3) // error: assigning single elements to varargs in named form is forbidden \n",
    "//                             // error: the integer literal does not conform to the expected type IntArray\n"
   ]
  },
  {
   "cell_type": "code",
   "execution_count": null,
   "id": "b55ff870",
   "metadata": {},
   "outputs": [],
   "source": []
  },
  {
   "cell_type": "code",
   "execution_count": null,
   "id": "42d5830e",
   "metadata": {},
   "outputs": [],
   "source": []
  },
  {
   "cell_type": "code",
   "execution_count": 34,
   "id": "5125ab3b",
   "metadata": {},
   "outputs": [],
   "source": [
    "fun hexDigit(n: Int): Char {\n",
    "    if (n in 0..9) return '0' + n\n",
    "    else if (n in 10..15) {\n",
    "        println(n - 10)\n",
    "        return 'A' + n - 10\n",
    "    }\n",
    "    else return '?'\n",
    "}"
   ]
  },
  {
   "cell_type": "code",
   "execution_count": 35,
   "id": "17c10ca6",
   "metadata": {},
   "outputs": [
    {
     "name": "stdout",
     "output_type": "stream",
     "text": [
      "0\n"
     ]
    },
    {
     "data": {
      "text/plain": [
       "A"
      ]
     },
     "execution_count": 35,
     "metadata": {},
     "output_type": "execute_result"
    }
   ],
   "source": [
    "hexDigit(10)"
   ]
  },
  {
   "cell_type": "code",
   "execution_count": 36,
   "id": "26fde1b7",
   "metadata": {},
   "outputs": [
    {
     "name": "stdout",
     "output_type": "stream",
     "text": [
      "true\n"
     ]
    }
   ],
   "source": [
    "println(5 in 5..5)      // true\n"
   ]
  },
  {
   "cell_type": "code",
   "execution_count": null,
   "id": "f37db99a",
   "metadata": {},
   "outputs": [],
   "source": []
  },
  {
   "cell_type": "code",
   "execution_count": 38,
   "id": "dfc950e4",
   "metadata": {},
   "outputs": [
    {
     "name": "stdout",
     "output_type": "stream",
     "text": [
      "stdin:10\n"
     ]
    }
   ],
   "source": [
    "val num = readLine()!!.toInt()"
   ]
  },
  {
   "cell_type": "code",
   "execution_count": 41,
   "id": "2fb616fd",
   "metadata": {},
   "outputs": [
    {
     "name": "stdout",
     "output_type": "stream",
     "text": [
      "true\n"
     ]
    }
   ],
   "source": [
    "println(num in 10..99) // num >= 10 && num <= 99\n"
   ]
  },
  {
   "cell_type": "code",
   "execution_count": 44,
   "id": "11c6dd73",
   "metadata": {},
   "outputs": [
    {
     "name": "stdout",
     "output_type": "stream",
     "text": [
      "false\n"
     ]
    }
   ],
   "source": [
    "println(num !in 10..99) // !(num in 10.99)\n"
   ]
  },
  {
   "cell_type": "code",
   "execution_count": 45,
   "id": "24d4d25e",
   "metadata": {},
   "outputs": [
    {
     "name": "stdout",
     "output_type": "stream",
     "text": [
      "true\n"
     ]
    }
   ],
   "source": [
    "println(5 in 5..5)      // true\n"
   ]
  },
  {
   "cell_type": "code",
   "execution_count": 46,
   "id": "ddada99f",
   "metadata": {},
   "outputs": [
    {
     "name": "stdout",
     "output_type": "stream",
     "text": [
      "false\n"
     ]
    }
   ],
   "source": [
    "println(5 in 5 until 5) // false\n"
   ]
  },
  {
   "cell_type": "code",
   "execution_count": 47,
   "id": "106fcc45",
   "metadata": {},
   "outputs": [
    {
     "name": "stdout",
     "output_type": "stream",
     "text": [
      "false\n"
     ]
    }
   ],
   "source": [
    "println(5 in 10..1)     // false\n"
   ]
  },
  {
   "cell_type": "code",
   "execution_count": 48,
   "id": "dcd87acd",
   "metadata": {},
   "outputs": [],
   "source": [
    "fun hexDigit2(n: Int): Char {\n",
    "  when {\n",
    "    n in 0..9 -> return '0' + n\n",
    "    n in 10..15 -> return 'A' + n - 10\n",
    "    else -> return '?'\n",
    "  }\n",
    "}"
   ]
  },
  {
   "cell_type": "code",
   "execution_count": 51,
   "id": "948c4b5e",
   "metadata": {},
   "outputs": [
    {
     "data": {
      "text/plain": [
       "?"
      ]
     },
     "execution_count": 51,
     "metadata": {},
     "output_type": "execute_result"
    }
   ],
   "source": [
    "hexDigit2(20)"
   ]
  },
  {
   "cell_type": "code",
   "execution_count": null,
   "id": "03cf15b5",
   "metadata": {},
   "outputs": [],
   "source": []
  },
  {
   "cell_type": "code",
   "execution_count": 78,
   "id": "e55a5d65",
   "metadata": {},
   "outputs": [],
   "source": [
    "fun indexOf(subarray: IntArray, array: IntArray): Int {\n",
    "    println(array.indices)\n",
    "    outerLoop@ for (i in array.indices) {\n",
    "        println(subarray.indices)\n",
    "        for (j in subarray.indices) {\n",
    "            print(\"$subarray[$j] $array[$i + $j]\")\n",
    "            if (subarray[j] != array[i + j]) continue@outerLoop\n",
    "        }\n",
    "        println()\n",
    "        return i\n",
    "    }\n",
    "  \n",
    "    return -1\n",
    "}"
   ]
  },
  {
   "cell_type": "code",
   "execution_count": 79,
   "id": "bad2388d",
   "metadata": {},
   "outputs": [
    {
     "name": "stdout",
     "output_type": "stream",
     "text": [
      "0..4\n",
      "0..1\n",
      "[I@79d4784a[0] [I@2d11f459[0 + 0]0..1\n",
      "[I@79d4784a[0] [I@2d11f459[1 + 0]0..1\n",
      "[I@79d4784a[0] [I@2d11f459[2 + 0][I@79d4784a[1] [I@2d11f459[2 + 1]\n",
      "2\n"
     ]
    }
   ],
   "source": [
    "println(indexOf(intArrayOf(3,4), intArrayOf(1,2,3,4,5)))\n"
   ]
  },
  {
   "cell_type": "code",
   "execution_count": 80,
   "id": "a82c3b7d",
   "metadata": {},
   "outputs": [
    {
     "name": "stdout",
     "output_type": "stream",
     "text": [
      "0..4\n",
      "0..1\n",
      "[I@7aa82883[0] [I@3a2554c8[0 + 0][I@7aa82883[1] [I@3a2554c8[0 + 1]0..1\n",
      "[I@7aa82883[0] [I@3a2554c8[1 + 0]0..1\n",
      "[I@7aa82883[0] [I@3a2554c8[2 + 0]0..1\n",
      "[I@7aa82883[0] [I@3a2554c8[3 + 0]0..1\n",
      "[I@7aa82883[0] [I@3a2554c8[4 + 0]-1\n"
     ]
    }
   ],
   "source": [
    "println(indexOf(intArrayOf(1,4), intArrayOf(1,2,3,4,5)))\n"
   ]
  },
  {
   "cell_type": "code",
   "execution_count": 81,
   "id": "b85f6669",
   "metadata": {},
   "outputs": [
    {
     "name": "stdout",
     "output_type": "stream",
     "text": [
      "0..4\n",
      "0..1\n",
      "[I@6ee44180[0] [I@7010adb[0 + 0]0..1\n",
      "[I@6ee44180[0] [I@7010adb[1 + 0][I@6ee44180[1] [I@7010adb[1 + 1]\n",
      "1\n"
     ]
    }
   ],
   "source": [
    "println(indexOf(intArrayOf(2,3), intArrayOf(1,2,3,4,5)))\n"
   ]
  },
  {
   "cell_type": "code",
   "execution_count": 86,
   "id": "fc29ae1d",
   "metadata": {},
   "outputs": [],
   "source": [
    "fun sayHello(name: String) {\n",
    "  val message =\n",
    "    if (name.isNotEmpty()) \"Hello, $name\"\n",
    "    else throw IllegalArgumentException(\"Empty name\")\n",
    "    \n",
    "  println(message)\n",
    "}"
   ]
  },
  {
   "cell_type": "code",
   "execution_count": 87,
   "id": "1d2de78e",
   "metadata": {},
   "outputs": [
    {
     "name": "stdout",
     "output_type": "stream",
     "text": [
      "Hello, name\n"
     ]
    }
   ],
   "source": [
    "sayHello(\"name\")"
   ]
  },
  {
   "cell_type": "code",
   "execution_count": 88,
   "id": "d1722672",
   "metadata": {},
   "outputs": [
    {
     "name": "stderr",
     "output_type": "stream",
     "text": [
      "Empty name\n",
      "java.lang.IllegalArgumentException: Empty name\n",
      "\tat Line_768_jupyter.sayHello(Line_768.jupyter.kts:4)\n",
      "\tat Line_770_jupyter.<init>(Line_770.jupyter.kts:1)\n",
      "\tat java.base/jdk.internal.reflect.NativeConstructorAccessorImpl.newInstance0(Native Method)\n",
      "\tat java.base/jdk.internal.reflect.NativeConstructorAccessorImpl.newInstance(NativeConstructorAccessorImpl.java:62)\n",
      "\tat java.base/jdk.internal.reflect.DelegatingConstructorAccessorImpl.newInstance(DelegatingConstructorAccessorImpl.java:45)\n",
      "\tat java.base/java.lang.reflect.Constructor.newInstance(Constructor.java:490)\n",
      "\tat kotlin.script.experimental.jvm.BasicJvmScriptEvaluator.evalWithConfigAndOtherScriptsResults(BasicJvmScriptEvaluator.kt:105)\n",
      "\tat kotlin.script.experimental.jvm.BasicJvmScriptEvaluator.invoke$suspendImpl(BasicJvmScriptEvaluator.kt:47)\n",
      "\tat kotlin.script.experimental.jvm.BasicJvmScriptEvaluator.invoke(BasicJvmScriptEvaluator.kt)\n",
      "\tat kotlin.script.experimental.jvm.BasicJvmReplEvaluator.eval(BasicJvmReplEvaluator.kt:49)\n",
      "\tat org.jetbrains.kotlinx.jupyter.repl.impl.InternalEvaluatorImpl$eval$resultWithDiagnostics$1.invokeSuspend(InternalEvaluatorImpl.kt:103)\n",
      "\tat kotlin.coroutines.jvm.internal.BaseContinuationImpl.resumeWith(ContinuationImpl.kt:33)\n",
      "\tat kotlinx.coroutines.DispatchedTask.run(DispatchedTask.kt:106)\n",
      "\tat kotlinx.coroutines.EventLoopImplBase.processNextEvent(EventLoop.common.kt:284)\n",
      "\tat kotlinx.coroutines.BlockingCoroutine.joinBlocking(Builders.kt:85)\n",
      "\tat kotlinx.coroutines.BuildersKt__BuildersKt.runBlocking(Builders.kt:59)\n",
      "\tat kotlinx.coroutines.BuildersKt.runBlocking(Unknown Source)\n",
      "\tat kotlinx.coroutines.BuildersKt__BuildersKt.runBlocking$default(Builders.kt:38)\n",
      "\tat kotlinx.coroutines.BuildersKt.runBlocking$default(Unknown Source)\n",
      "\tat org.jetbrains.kotlinx.jupyter.repl.impl.InternalEvaluatorImpl.eval(InternalEvaluatorImpl.kt:103)\n",
      "\tat org.jetbrains.kotlinx.jupyter.repl.impl.CellExecutorImpl$execute$1$result$1.invoke(CellExecutorImpl.kt:75)\n",
      "\tat org.jetbrains.kotlinx.jupyter.repl.impl.CellExecutorImpl$execute$1$result$1.invoke(CellExecutorImpl.kt:73)\n",
      "\tat org.jetbrains.kotlinx.jupyter.ReplForJupyterImpl.withHost(repl.kt:660)\n",
      "\tat org.jetbrains.kotlinx.jupyter.repl.impl.CellExecutorImpl.execute(CellExecutorImpl.kt:73)\n",
      "\tat org.jetbrains.kotlinx.jupyter.repl.CellExecutor$DefaultImpls.execute$default(CellExecutor.kt:15)\n",
      "\tat org.jetbrains.kotlinx.jupyter.ReplForJupyterImpl$evalEx$1.invoke(repl.kt:466)\n",
      "\tat org.jetbrains.kotlinx.jupyter.ReplForJupyterImpl$evalEx$1.invoke(repl.kt:455)\n",
      "\tat org.jetbrains.kotlinx.jupyter.ReplForJupyterImpl.withEvalContext(repl.kt:419)\n",
      "\tat org.jetbrains.kotlinx.jupyter.ReplForJupyterImpl.evalEx(repl.kt:455)\n",
      "\tat org.jetbrains.kotlinx.jupyter.messaging.ProtocolKt$shellMessagesHandler$2$res$1.invoke(protocol.kt:312)\n",
      "\tat org.jetbrains.kotlinx.jupyter.messaging.ProtocolKt$shellMessagesHandler$2$res$1.invoke(protocol.kt:311)\n",
      "\tat org.jetbrains.kotlinx.jupyter.JupyterExecutorImpl$runExecution$execThread$1.invoke(execution.kt:33)\n",
      "\tat org.jetbrains.kotlinx.jupyter.JupyterExecutorImpl$runExecution$execThread$1.invoke(execution.kt:31)\n",
      "\tat kotlin.concurrent.ThreadsKt$thread$thread$1.run(Thread.kt:30)\n"
     ]
    }
   ],
   "source": [
    "sayHello(\"\")"
   ]
  },
  {
   "cell_type": "code",
   "execution_count": 89,
   "id": "892fb15d",
   "metadata": {},
   "outputs": [],
   "source": [
    "//import java.lang.NumberFormatException\n",
    "fun readInt4(default: Int): Int {\n",
    "  try {\n",
    "    return readLine()!!.toInt()\n",
    "  } catch (e: NumberFormatException) {\n",
    "    return default\n",
    "  }\n",
    "}\n",
    "\n"
   ]
  },
  {
   "cell_type": "code",
   "execution_count": 90,
   "id": "144920f2",
   "metadata": {},
   "outputs": [
    {
     "name": "stderr",
     "output_type": "stream",
     "text": [
      "Line_791.jupyter.kts (1:10 - 13) Type mismatch: inferred type is String but Int was expected"
     ]
    }
   ],
   "source": [
    "readInt4(\"1\")"
   ]
  },
  {
   "cell_type": "code",
   "execution_count": null,
   "id": "b5db0b05",
   "metadata": {},
   "outputs": [],
   "source": []
  },
  {
   "cell_type": "code",
   "execution_count": 91,
   "id": "4cc85b10",
   "metadata": {},
   "outputs": [],
   "source": [
    "//import java.lang.NumberFormatException\n",
    "fun readInt5(default: Int): Int {\n",
    "  try {\n",
    "    return readLine()!!.toInt()\n",
    "  } catch (e: Exception) {\n",
    "    return 0\n",
    "  } catch (e: NumberFormatException) {\n",
    "    return default // 죽은 코드\n",
    "  }\n",
    "}\n",
    "\n"
   ]
  },
  {
   "cell_type": "code",
   "execution_count": 92,
   "id": "a2334ce4",
   "metadata": {},
   "outputs": [
    {
     "name": "stderr",
     "output_type": "stream",
     "text": [
      "Line_799.jupyter.kts (1:10 - 11) Unresolved reference: a"
     ]
    }
   ],
   "source": [
    "readInt5(a)"
   ]
  },
  {
   "cell_type": "code",
   "execution_count": null,
   "id": "1f71320c",
   "metadata": {},
   "outputs": [],
   "source": []
  },
  {
   "cell_type": "code",
   "execution_count": 93,
   "id": "7be713e9",
   "metadata": {},
   "outputs": [],
   "source": [
    "//import java.lang.NumberFormatException\n",
    "fun readInt6(default: Int) = try {\n",
    "  readLine()!!.toInt()\n",
    "} catch (e: NumberFormatException) {\n",
    "  default\n",
    "}\n",
    "\n"
   ]
  },
  {
   "cell_type": "code",
   "execution_count": 94,
   "id": "60f48f6c",
   "metadata": {},
   "outputs": [
    {
     "name": "stderr",
     "output_type": "stream",
     "text": [
      "Line_805.jupyter.kts (1:10 - 11) Unresolved reference: a"
     ]
    }
   ],
   "source": [
    "readInt6(a)"
   ]
  },
  {
   "cell_type": "code",
   "execution_count": null,
   "id": "05f93787",
   "metadata": {},
   "outputs": [],
   "source": []
  },
  {
   "cell_type": "code",
   "execution_count": 95,
   "id": "fe911ff4",
   "metadata": {},
   "outputs": [],
   "source": [
    "//import java.lang.NumberFormatException\n",
    "fun readInt7(default: Int) = try {\n",
    "  readLine()!!.toInt()\n",
    "} finally {\n",
    "  println(\"Error\")\n",
    "}"
   ]
  },
  {
   "cell_type": "code",
   "execution_count": 98,
   "id": "cafb4d8f",
   "metadata": {},
   "outputs": [
    {
     "name": "stderr",
     "output_type": "stream",
     "text": [
      "Line_821.jupyter.kts (1:10 - 11) Unresolved reference: a"
     ]
    }
   ],
   "source": [
    "readInt7(a)"
   ]
  },
  {
   "cell_type": "code",
   "execution_count": null,
   "id": "9f722865",
   "metadata": {},
   "outputs": [],
   "source": []
  },
  {
   "cell_type": "code",
   "execution_count": null,
   "id": "3b12ccd9",
   "metadata": {},
   "outputs": [],
   "source": []
  },
  {
   "cell_type": "code",
   "execution_count": null,
   "id": "d1652c5c",
   "metadata": {},
   "outputs": [],
   "source": []
  },
  {
   "cell_type": "code",
   "execution_count": null,
   "id": "6e27acf8",
   "metadata": {},
   "outputs": [],
   "source": []
  }
 ],
 "metadata": {
  "kernelspec": {
   "display_name": "Kotlin",
   "language": "kotlin",
   "name": "kotlin"
  },
  "language_info": {
   "codemirror_mode": "text/x-kotlin",
   "file_extension": ".kt",
   "mimetype": "text/x-kotlin",
   "name": "kotlin",
   "nbconvert_exporter": "",
   "pygments_lexer": "kotlin",
   "version": "1.8.20-Beta"
  }
 },
 "nbformat": 4,
 "nbformat_minor": 5
}
