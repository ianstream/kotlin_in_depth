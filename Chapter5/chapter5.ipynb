{
 "cells": [
  {
   "cell_type": "code",
   "execution_count": 5,
   "id": "9594d899",
   "metadata": {},
   "outputs": [],
   "source": [
    "val squares = IntArray(5) { n -> n*n } // 0, 1, 4, 9, 16"
   ]
  },
  {
   "cell_type": "code",
   "execution_count": 6,
   "id": "26323f2f",
   "metadata": {},
   "outputs": [
    {
     "data": {
      "text/plain": [
       "[0, 1, 4, 9, 16]"
      ]
     },
     "execution_count": 6,
     "metadata": {},
     "output_type": "execute_result"
    }
   ],
   "source": [
    "squares"
   ]
  },
  {
   "cell_type": "code",
   "execution_count": null,
   "id": "3cd411fa",
   "metadata": {},
   "outputs": [],
   "source": []
  },
  {
   "cell_type": "code",
   "execution_count": 4,
   "id": "9c038c38",
   "metadata": {},
   "outputs": [],
   "source": [
    "fun sum1(numbers: IntArray): Int {\n",
    "  var result = numbers.firstOrNull() ?: throw IllegalArgumentException(\"Empty array\")\n",
    "    \n",
    "  for (i in 1..numbers.lastIndex) result += numbers[i]\n",
    "  \n",
    "  return result\n",
    "}"
   ]
  },
  {
   "cell_type": "code",
   "execution_count": 2,
   "id": "a89756bb",
   "metadata": {},
   "outputs": [],
   "source": [
    "fun main1() {\n",
    "  println(sum1(intArrayOf(1, 2, 3))) // 6\n",
    "}\n"
   ]
  },
  {
   "cell_type": "code",
   "execution_count": 3,
   "id": "b388048c",
   "metadata": {},
   "outputs": [
    {
     "name": "stdout",
     "output_type": "stream",
     "text": [
      "6\n"
     ]
    }
   ],
   "source": [
    "main1()"
   ]
  },
  {
   "cell_type": "code",
   "execution_count": null,
   "id": "9f7a0ccf",
   "metadata": {},
   "outputs": [],
   "source": []
  },
  {
   "cell_type": "code",
   "execution_count": 7,
   "id": "ce3b95f8",
   "metadata": {},
   "outputs": [],
   "source": [
    "fun aggregate(numbers: IntArray, op: (Int, Int) -> Int): Int {\n",
    "  var result = numbers.firstOrNull()\n",
    "    ?: throw IllegalArgumentException(\"Empty array\")\n",
    "    \n",
    "  for (i in 1..numbers.lastIndex) result = op(result, numbers[i])\n",
    "  \n",
    "  return result\n",
    "}"
   ]
  },
  {
   "cell_type": "code",
   "execution_count": 8,
   "id": "67cea7f0",
   "metadata": {},
   "outputs": [],
   "source": [
    "fun sum(numbers: IntArray) =\n",
    "  aggregate(numbers, { result, op -> result + op })\n",
    "  \n",
    "fun max(numbers: IntArray) =\n",
    "  aggregate(numbers, { result, op -> if (op > result) op else result })\n",
    "  \n",
    "fun main2() {\n",
    "  println(sum(intArrayOf(1, 2, 3))) // 6\n",
    "  println(max(intArrayOf(1, 2, 3))) // 3\n",
    "}"
   ]
  },
  {
   "cell_type": "code",
   "execution_count": 9,
   "id": "28d78329",
   "metadata": {},
   "outputs": [
    {
     "name": "stdout",
     "output_type": "stream",
     "text": [
      "6\n",
      "3\n"
     ]
    }
   ],
   "source": [
    "main2()"
   ]
  },
  {
   "cell_type": "code",
   "execution_count": 10,
   "id": "8c28c301",
   "metadata": {},
   "outputs": [],
   "source": [
    "fun interface StringConsumer {\n",
    "  fun accept(s:String)\n",
    "}\n",
    "\n",
    "fun main4() {\n",
    "  val consume = StringConsumer { s -> println(s) }\n",
    "  \n",
    "  consume.accept(\"Hello\")\n",
    "}"
   ]
  },
  {
   "cell_type": "code",
   "execution_count": 11,
   "id": "5ed7ce9e",
   "metadata": {},
   "outputs": [
    {
     "name": "stdout",
     "output_type": "stream",
     "text": [
      "Hello\n"
     ]
    }
   ],
   "source": [
    "main4()"
   ]
  },
  {
   "cell_type": "code",
   "execution_count": 12,
   "id": "ff01140c",
   "metadata": {},
   "outputs": [],
   "source": [
    "fun measureTime(action: () -> Unit): Long {\n",
    "  val start = System.nanoTime()\n",
    "  \n",
    "  action()\n",
    "  \n",
    "  return System.nanoTime() - start\n",
    "}"
   ]
  },
  {
   "cell_type": "code",
   "execution_count": 13,
   "id": "ece108fd",
   "metadata": {},
   "outputs": [],
   "source": [
    "val inc: (Int) -> Int = { n -> n + 1 } // Ok\n"
   ]
  },
  {
   "cell_type": "code",
   "execution_count": 17,
   "id": "595bd437",
   "metadata": {},
   "outputs": [
    {
     "data": {
      "text/plain": [
       "6"
      ]
     },
     "execution_count": 17,
     "metadata": {},
     "output_type": "execute_result"
    }
   ],
   "source": [
    "inc(5)"
   ]
  },
  {
   "cell_type": "code",
   "execution_count": null,
   "id": "37da624d",
   "metadata": {},
   "outputs": [],
   "source": []
  },
  {
   "cell_type": "code",
   "execution_count": 15,
   "id": "87724356",
   "metadata": {},
   "outputs": [],
   "source": [
    "fun main5() {\n",
    "  val lessThan: (Int, Int) -> Boolean = { a, b -> a < b }\n",
    "  println(lessThan(1, 2)) // true\n",
    "}"
   ]
  },
  {
   "cell_type": "code",
   "execution_count": 16,
   "id": "652a5cb7",
   "metadata": {},
   "outputs": [
    {
     "name": "stdout",
     "output_type": "stream",
     "text": [
      "true\n"
     ]
    }
   ],
   "source": [
    "main5()"
   ]
  },
  {
   "cell_type": "code",
   "execution_count": null,
   "id": "438e4d80",
   "metadata": {},
   "outputs": [],
   "source": []
  },
  {
   "cell_type": "code",
   "execution_count": 18,
   "id": "871c2cd5",
   "metadata": {},
   "outputs": [],
   "source": [
    "fun measureTime2(action: (() -> Unit)?): Long {\n",
    "  val start = System.nanoTime()\n",
    "  \n",
    "  action?.invoke()\n",
    "  \n",
    "  return System.nanoTime() - start\n",
    "}"
   ]
  },
  {
   "cell_type": "code",
   "execution_count": 21,
   "id": "adc6c5cb",
   "metadata": {},
   "outputs": [],
   "source": [
    "fun main6() {\n",
    "    println(measureTime2(null))\n",
    "}"
   ]
  },
  {
   "cell_type": "code",
   "execution_count": 24,
   "id": "aaff5845",
   "metadata": {},
   "outputs": [
    {
     "name": "stdout",
     "output_type": "stream",
     "text": [
      "333\n"
     ]
    }
   ],
   "source": [
    "main6()"
   ]
  },
  {
   "cell_type": "code",
   "execution_count": 26,
   "id": "24409328",
   "metadata": {},
   "outputs": [],
   "source": [
    "fun main7() {\n",
    "  val shifter: (Int) -> (Int) -> Int = { n -> { i ->i + n } }\n",
    "  \n",
    "  val inc = shifter(1)\n",
    "  \n",
    "  val dec = shifter(-1)\n",
    "  \n",
    "  println(inc(10)) // 11\n",
    "  println(dec(10)) // 9\n",
    "}\n",
    "\n"
   ]
  },
  {
   "cell_type": "code",
   "execution_count": 27,
   "id": "72b533f1",
   "metadata": {},
   "outputs": [
    {
     "name": "stdout",
     "output_type": "stream",
     "text": [
      "11\n",
      "9\n"
     ]
    }
   ],
   "source": [
    "main7()"
   ]
  },
  {
   "cell_type": "code",
   "execution_count": 36,
   "id": "6e1c6da6",
   "metadata": {},
   "outputs": [],
   "source": [
    "fun check2(s: String, condition: (Int, Char) -> Boolean): Boolean {\n",
    "  for (i in s.indices) {\n",
    "    if (!condition(i, s[i])) return false\n",
    "  }\n",
    "  return true\n",
    "}"
   ]
  },
  {
   "cell_type": "code",
   "execution_count": 37,
   "id": "6f05c4f1",
   "metadata": {},
   "outputs": [],
   "source": [
    "fun main11() {\n",
    "  println(check2(\"Hello\") { _, c ->c.isLetter() })              // true\n",
    "  println(check2(\"Hello\") { i, c ->i == 0 || c.isLowerCase() }) // true\n",
    "}"
   ]
  },
  {
   "cell_type": "code",
   "execution_count": 38,
   "id": "7f36a86e",
   "metadata": {},
   "outputs": [
    {
     "name": "stdout",
     "output_type": "stream",
     "text": [
      "true\n",
      "true\n"
     ]
    }
   ],
   "source": [
    "main11()"
   ]
  },
  {
   "cell_type": "code",
   "execution_count": null,
   "id": "83f6c2d6",
   "metadata": {},
   "outputs": [],
   "source": []
  },
  {
   "cell_type": "code",
   "execution_count": null,
   "id": "838aa5e7",
   "metadata": {},
   "outputs": [],
   "source": []
  },
  {
   "cell_type": "code",
   "execution_count": null,
   "id": "a5a4876f",
   "metadata": {},
   "outputs": [],
   "source": []
  },
  {
   "cell_type": "code",
   "execution_count": 39,
   "id": "6fd0d28b",
   "metadata": {},
   "outputs": [],
   "source": [
    "fun String.truncate(maxLength: Int): String {\n",
    "  return if (length <= maxLength) this else substring(0, maxLength)\n",
    "}"
   ]
  },
  {
   "cell_type": "code",
   "execution_count": 40,
   "id": "db42432f",
   "metadata": {},
   "outputs": [],
   "source": [
    "fun main27() {\n",
    "    println(\"Hello\".truncate(10))\n",
    "    println(\"Hello\".truncate(3))\n",
    "}"
   ]
  },
  {
   "cell_type": "code",
   "execution_count": 42,
   "id": "afa4de1f",
   "metadata": {},
   "outputs": [
    {
     "name": "stdout",
     "output_type": "stream",
     "text": [
      "Hello\n",
      "Hel\n"
     ]
    }
   ],
   "source": [
    "main27()"
   ]
  },
  {
   "cell_type": "code",
   "execution_count": null,
   "id": "406631f4",
   "metadata": {},
   "outputs": [],
   "source": []
  },
  {
   "cell_type": "code",
   "execution_count": 50,
   "id": "7fa8429e",
   "metadata": {},
   "outputs": [],
   "source": [
    "class Person2(val firstName: String, val familyName: String) {\n",
    "  fun hasNameOf(name: String) = name.equals(firstName, \n",
    "                                            ignoreCase = true)\n",
    "}\n",
    "\n",
    "fun main17() {\n",
    "  val isJohn = Person2(\"John\", \"Doe\")::hasNameOf\n",
    "  \n",
    "  println(isJohn(\"JOHN\")) // true\n",
    "  println(isJohn(\"Jake\")) // false\n",
    "}\n"
   ]
  },
  {
   "cell_type": "code",
   "execution_count": 51,
   "id": "147502c5",
   "metadata": {},
   "outputs": [
    {
     "name": "stdout",
     "output_type": "stream",
     "text": [
      "true\n",
      "false\n"
     ]
    }
   ],
   "source": [
    "main17()"
   ]
  },
  {
   "cell_type": "code",
   "execution_count": null,
   "id": "c7a94546",
   "metadata": {},
   "outputs": [],
   "source": []
  },
  {
   "cell_type": "code",
   "execution_count": 63,
   "id": "0687b2cc",
   "metadata": {},
   "outputs": [],
   "source": [
    "val IntRange.leftHalf: IntRange\n",
    "  get() = start..(start + endInclusive)/2\n",
    "\n",
    "fun main29() {\n",
    "  println((1..3).leftHalf) // 1..2\n",
    "  println((3..6).leftHalf) // 3..4\n",
    "}"
   ]
  },
  {
   "cell_type": "code",
   "execution_count": 64,
   "id": "3cdf03fa",
   "metadata": {},
   "outputs": [
    {
     "name": "stdout",
     "output_type": "stream",
     "text": [
      "1..2\n",
      "3..4\n"
     ]
    }
   ],
   "source": [
    "main29()"
   ]
  },
  {
   "cell_type": "code",
   "execution_count": 65,
   "id": "338e28ab",
   "metadata": {},
   "outputs": [
    {
     "name": "stdout",
     "output_type": "stream",
     "text": [
      "1..2\n"
     ]
    }
   ],
   "source": [
    "println((1..3).leftHalf)"
   ]
  },
  {
   "cell_type": "code",
   "execution_count": 55,
   "id": "08fd5b14",
   "metadata": {},
   "outputs": [
    {
     "name": "stderr",
     "output_type": "stream",
     "text": [
      "Line_433.jupyter.kts (1:13 - 21) Unresolved reference. None of the following candidates is applicable because of receiver type mismatch: \n",
      "public final val IntRange.leftHalf: IntRange defined in Line_416_jupyter"
     ]
    }
   ],
   "source": [
    "println((3).leftHalf)"
   ]
  },
  {
   "cell_type": "code",
   "execution_count": 67,
   "id": "f4234764",
   "metadata": {},
   "outputs": [],
   "source": [
    "val IntRange.leftHalf2: IntRange\n",
    "  get() = start..(endInclusive/2)"
   ]
  },
  {
   "cell_type": "code",
   "execution_count": 68,
   "id": "f2f0ebdf",
   "metadata": {},
   "outputs": [
    {
     "name": "stdout",
     "output_type": "stream",
     "text": [
      "1..4\n"
     ]
    }
   ],
   "source": [
    "println((1..9).leftHalf2)"
   ]
  },
  {
   "cell_type": "code",
   "execution_count": null,
   "id": "61545c41",
   "metadata": {},
   "outputs": [],
   "source": []
  },
  {
   "cell_type": "code",
   "execution_count": null,
   "id": "30192bbb",
   "metadata": {},
   "outputs": [],
   "source": []
  },
  {
   "cell_type": "code",
   "execution_count": null,
   "id": "5bd93800",
   "metadata": {},
   "outputs": [],
   "source": []
  },
  {
   "cell_type": "code",
   "execution_count": null,
   "id": "1dbb1e94",
   "metadata": {},
   "outputs": [],
   "source": []
  },
  {
   "cell_type": "code",
   "execution_count": null,
   "id": "61e74444",
   "metadata": {},
   "outputs": [],
   "source": []
  },
  {
   "cell_type": "code",
   "execution_count": null,
   "id": "8665bea1",
   "metadata": {},
   "outputs": [],
   "source": []
  }
 ],
 "metadata": {
  "kernelspec": {
   "display_name": "Kotlin",
   "language": "kotlin",
   "name": "kotlin"
  },
  "language_info": {
   "codemirror_mode": "text/x-kotlin",
   "file_extension": ".kt",
   "mimetype": "text/x-kotlin",
   "name": "kotlin",
   "nbconvert_exporter": "",
   "pygments_lexer": "kotlin",
   "version": "1.8.20-Beta"
  }
 },
 "nbformat": 4,
 "nbformat_minor": 5
}
