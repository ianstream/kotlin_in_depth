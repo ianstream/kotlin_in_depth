{
 "cells": [
  {
   "cell_type": "code",
   "execution_count": 1,
   "id": "e58e8428",
   "metadata": {},
   "outputs": [
    {
     "name": "stdout",
     "output_type": "stream",
     "text": [
      "Hello\n"
     ]
    }
   ],
   "source": [
    "println(\"Hello\") // 한 줄짜리 주석\n"
   ]
  },
  {
   "cell_type": "code",
   "execution_count": 2,
   "id": "c798e951",
   "metadata": {},
   "outputs": [],
   "source": [
    "val timeInSeconds = 15\n"
   ]
  },
  {
   "cell_type": "code",
   "execution_count": 3,
   "id": "cdb45b1c",
   "metadata": {},
   "outputs": [],
   "source": [
    "fun main() {\n",
    "    val a = readLine()!!.toInt()\n",
    "    val b = readLine()!!.toInt()\n",
    "    println(a + b)\n",
    "}"
   ]
  },
  {
   "cell_type": "code",
   "execution_count": 4,
   "id": "49fbd693",
   "metadata": {},
   "outputs": [
    {
     "name": "stdout",
     "output_type": "stream",
     "text": [
      "stdin:1\n",
      "stdin:5\n",
      "6\n"
     ]
    }
   ],
   "source": [
    "main()"
   ]
  },
  {
   "cell_type": "code",
   "execution_count": 5,
   "id": "3bfc7a63",
   "metadata": {},
   "outputs": [],
   "source": [
    "val `fun` = 1\n",
    "val `name with spaces` = 2"
   ]
  },
  {
   "cell_type": "code",
   "execution_count": 16,
   "id": "333393e7",
   "metadata": {},
   "outputs": [
    {
     "data": {
      "text/plain": [
       "6"
      ]
     },
     "execution_count": 16,
     "metadata": {},
     "output_type": "execute_result"
    }
   ],
   "source": [
    "var sum = 1\n",
    "sum = sum + 2\n",
    "sum = sum + 3\n",
    "sum"
   ]
  },
  {
   "cell_type": "code",
   "execution_count": 17,
   "id": "c90063ff",
   "metadata": {},
   "outputs": [
    {
     "data": {
      "text/plain": [
       "36"
      ]
     },
     "execution_count": 17,
     "metadata": {},
     "output_type": "execute_result"
    }
   ],
   "source": [
    "var result = 3\n",
    "result *= 10 // result = result * 10\n",
    "result += 6  // result = result + 6\n",
    "result"
   ]
  },
  {
   "cell_type": "code",
   "execution_count": 18,
   "id": "69240f78",
   "metadata": {},
   "outputs": [
    {
     "name": "stdout",
     "output_type": "stream",
     "text": [
      "1.4E-45\n",
      "1.7976931348623157E308\n",
      "Infinity\n",
      "-0.0\n",
      "-Infinity\n",
      "NaN\n"
     ]
    }
   ],
   "source": [
    "println(Float.MIN_VALUE)              // 1.4E-45\n",
    "println(Double.MAX_VALUE)             // 1.7976931348623157E308\n",
    "println(Double.POSITIVE_INFINITY)     // Infinity\n",
    "println(1.0/Double.NEGATIVE_INFINITY) // -0.0\n",
    "println(2 - Double.POSITIVE_INFINITY) // -Infinity\n",
    "println(3 * Float.NaN) // NaN"
   ]
  },
  {
   "cell_type": "code",
   "execution_count": 19,
   "id": "369411ee",
   "metadata": {},
   "outputs": [
    {
     "name": "stdout",
     "output_type": "stream",
     "text": [
      "division and modulo\n",
      "1\n",
      "-1\n",
      "-1\n",
      "1\n",
      "3\n",
      "-3\n",
      "3\n",
      "-3\n"
     ]
    }
   ],
   "source": [
    "println(\"division and modulo\")\n",
    "println(7/4)           // 1\n",
    "println(-7/4)          // -1\n",
    "println(7/(-4))        // -1\n",
    "println((-7)/(-4))     // 1\n",
    "println(7%4)           // 3\n",
    "println(-7%4)          // -3\n",
    "println(7%(-4))        // 3\n",
    "println((-7)%(-4))     // -3"
   ]
  },
  {
   "cell_type": "code",
   "execution_count": 20,
   "id": "49b754a7",
   "metadata": {},
   "outputs": [
    {
     "name": "stdout",
     "output_type": "stream",
     "text": [
      "floor division and modulo\n",
      "1\n",
      "-2\n",
      "-2\n",
      "1\n",
      "3\n",
      "1\n",
      "-1\n",
      "-3\n"
     ]
    }
   ],
   "source": [
    "println(\"floor division and modulo\")\n",
    "println(7.floorDiv(4))        // 1\n",
    "println((-7).floorDiv(4))     // -2\n",
    "println(7.floorDiv(-4))       // -2\n",
    "println((-7).floorDiv(-4))    // 1\n",
    "println(7.mod(4))             // 3\n",
    "println((-7).mod(4))          // 1\n",
    "println(7.mod(-4))            // -1\n",
    "println((-7).mod(-4))         // -3"
   ]
  },
  {
   "cell_type": "code",
   "execution_count": 21,
   "id": "76403961",
   "metadata": {},
   "outputs": [
    {
     "name": "stdout",
     "output_type": "stream",
     "text": [
      "-79\n",
      "945\n",
      "α\n",
      "945\n"
     ]
    }
   ],
   "source": [
    "val n3 = 945\n",
    "println(n3.toByte())  // -79\n",
    "println(n3.toShort()) // 945\n",
    "println(n3.toChar())  // α\n",
    "println(n3.toLong())  // 945"
   ]
  },
  {
   "cell_type": "code",
   "execution_count": 22,
   "id": "2b11122f",
   "metadata": {},
   "outputs": [
    {
     "name": "stdout",
     "output_type": "stream",
     "text": [
      "true\n",
      "false\n",
      "true\n",
      "false\n",
      "true\n",
      "false\n",
      "true\n",
      "false\n"
     ]
    }
   ],
   "source": [
    "val x=1\n",
    "val y=2\n",
    "println((x == 1) or (y == 1))     // true\n",
    "println((x == 0) || (y == 0))     // false\n",
    "println((x == 1) and (y != 1))    // true\n",
    "println((x == 1) and (y == 1))    // false\n",
    "println((x == 1) xor (y == 1))    // true\n",
    "println((x == 1) xor (y != 1))    // false\n",
    "println(x == 1 || y/(x - 1) != 1) // true\n",
    "println(x != 1 && y/(x - 1) != 1) // false"
   ]
  },
  {
   "cell_type": "code",
   "execution_count": 53,
   "id": "d9d99e4d",
   "metadata": {},
   "outputs": [
    {
     "name": "stdout",
     "output_type": "stream",
     "text": [
      "false\n"
     ]
    },
    {
     "data": {
      "text/plain": [
       "false"
      ]
     },
     "execution_count": 53,
     "metadata": {},
     "output_type": "execute_result"
    }
   ],
   "source": [
    "val a4 = 1                // Int\n",
    "val b3 = 2L               // Long\n",
    "//println(a4 == b3)          // Error: comparing Int and Long\n",
    "println(a4.toLong() == b3) // Ok: 두 타입 모두 Long임\n",
    "a4.toLong() == b3"
   ]
  },
  {
   "cell_type": "code",
   "execution_count": 28,
   "id": "3ddabf71",
   "metadata": {},
   "outputs": [
    {
     "data": {
      "text/plain": [
       "true"
      ]
     },
     "execution_count": 28,
     "metadata": {},
     "output_type": "execute_result"
    }
   ],
   "source": [
    "a4.toLong() is Long"
   ]
  },
  {
   "cell_type": "code",
   "execution_count": 31,
   "id": "7fabbc79",
   "metadata": {},
   "outputs": [
    {
     "data": {
      "text/plain": [
       "true"
      ]
     },
     "execution_count": 31,
     "metadata": {},
     "output_type": "execute_result"
    }
   ],
   "source": [
    "b3 is Long"
   ]
  },
  {
   "cell_type": "code",
   "execution_count": 40,
   "id": "09114d4f",
   "metadata": {},
   "outputs": [
    {
     "name": "stdout",
     "output_type": "stream",
     "text": [
      "stdin:1\n"
     ]
    },
    {
     "data": {
      "text/plain": [
       "5"
      ]
     },
     "execution_count": 40,
     "metadata": {},
     "output_type": "execute_result"
    }
   ],
   "source": [
    "val name = readLine()\n",
    "val message = \"\"\"\n",
    "  Hello, $name!\n",
    "  Today is ${java.util.Date()}\n",
    "\"\"\".trimIndent()\n",
    "\n",
    "val message2 = \"\"\"\n",
    "This is triple quote:'${\"\\\"\\\"\\\"\"}'\n",
    "\"\"\".trimIndent()\n",
    "\n",
    "\"Hello!\".length     // 6\n",
    "\"Hello!\".lastIndex  // 5(첫 번째 문자의 인덱스가 0이므로)\n"
   ]
  },
  {
   "cell_type": "code",
   "execution_count": 41,
   "id": "5eb2165f",
   "metadata": {},
   "outputs": [],
   "source": [
    "val aa = emptyArray<String>()      // Array<String> (원소 0개)\n",
    "val bb = arrayOf(\"hello\", \"world\") // Array<String> (원소 2개)\n",
    "val cc = arrayOf(1, 4, 9)          // Array<Int> (원소 3개)"
   ]
  },
  {
   "cell_type": "code",
   "execution_count": 48,
   "id": "5d09ad6f",
   "metadata": {},
   "outputs": [
    {
     "data": {
      "text/plain": [
       "[]"
      ]
     },
     "execution_count": 48,
     "metadata": {},
     "output_type": "execute_result"
    }
   ],
   "source": [
    "aa"
   ]
  },
  {
   "cell_type": "code",
   "execution_count": 49,
   "id": "881e37e7",
   "metadata": {},
   "outputs": [
    {
     "data": {
      "text/plain": [
       "[hello, world]"
      ]
     },
     "execution_count": 49,
     "metadata": {},
     "output_type": "execute_result"
    }
   ],
   "source": [
    "bb"
   ]
  },
  {
   "cell_type": "code",
   "execution_count": 50,
   "id": "40acdf09",
   "metadata": {},
   "outputs": [
    {
     "data": {
      "text/plain": [
       "[1, 4, 9]"
      ]
     },
     "execution_count": 50,
     "metadata": {},
     "output_type": "execute_result"
    }
   ],
   "source": [
    "cc"
   ]
  },
  {
   "cell_type": "code",
   "execution_count": 51,
   "id": "6ac28dcf",
   "metadata": {},
   "outputs": [
    {
     "data": {
      "text/plain": [
       "false"
      ]
     },
     "execution_count": 51,
     "metadata": {},
     "output_type": "execute_result"
    }
   ],
   "source": [
    "intArrayOf(1, 2, 3) == intArrayOf(1, 2, 3) // false\n"
   ]
  },
  {
   "cell_type": "code",
   "execution_count": 52,
   "id": "7b02d015",
   "metadata": {},
   "outputs": [
    {
     "data": {
      "text/plain": [
       "true"
      ]
     },
     "execution_count": 52,
     "metadata": {},
     "output_type": "execute_result"
    }
   ],
   "source": [
    "intArrayOf(1, 2, 3).contentEquals(intArrayOf(1, 2, 3)) // true\n"
   ]
  },
  {
   "cell_type": "code",
   "execution_count": null,
   "id": "102e77b1",
   "metadata": {},
   "outputs": [],
   "source": []
  }
 ],
 "metadata": {
  "kernelspec": {
   "display_name": "Kotlin",
   "language": "kotlin",
   "name": "kotlin"
  },
  "language_info": {
   "codemirror_mode": "text/x-kotlin",
   "file_extension": ".kt",
   "mimetype": "text/x-kotlin",
   "name": "kotlin",
   "nbconvert_exporter": "",
   "pygments_lexer": "kotlin",
   "version": "1.8.20-Beta"
  }
 },
 "nbformat": 4,
 "nbformat_minor": 5
}
