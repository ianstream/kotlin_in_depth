{
 "cells": [
  {
   "cell_type": "code",
   "execution_count": 1,
   "id": "cb4d08af",
   "metadata": {},
   "outputs": [],
   "source": [
    "import kotlin.random.Random"
   ]
  },
  {
   "cell_type": "code",
   "execution_count": null,
   "id": "3d60f43f",
   "metadata": {},
   "outputs": [],
   "source": []
  },
  {
   "cell_type": "code",
   "execution_count": 2,
   "id": "accce44b",
   "metadata": {},
   "outputs": [],
   "source": [
    "enum class WeekDay {\n",
    "  MONDAY, TUESDAY, WEDNESDAY, THURSDAY, FRIDAY, SATURDAY, SUNDAY\n",
    "}\n",
    "\n",
    "fun WeekDay.isWorkDay() =\n",
    "  this == WeekDay.SATURDAY || this == WeekDay.SUNDAY\n",
    "\n",
    "fun main1() {\n",
    "  println(WeekDay.MONDAY.isWorkDay())   // false\n",
    "  println(WeekDay.SATURDAY.isWorkDay()) // true\n",
    "}"
   ]
  },
  {
   "cell_type": "code",
   "execution_count": 3,
   "id": "c2830c01",
   "metadata": {},
   "outputs": [
    {
     "name": "stdout",
     "output_type": "stream",
     "text": [
      "false\n",
      "true\n"
     ]
    }
   ],
   "source": [
    "main1()"
   ]
  },
  {
   "cell_type": "code",
   "execution_count": 4,
   "id": "2408144c",
   "metadata": {},
   "outputs": [
    {
     "data": {
      "text/plain": [
       "MONDAY"
      ]
     },
     "execution_count": 4,
     "metadata": {},
     "output_type": "execute_result"
    }
   ],
   "source": [
    "WeekDay.MONDAY"
   ]
  },
  {
   "cell_type": "code",
   "execution_count": 13,
   "id": "c145a5a7",
   "metadata": {},
   "outputs": [],
   "source": [
    "enum class Direction {\n",
    "  NORTH, SOUTH, WEST, EAST\n",
    "}\n",
    "\n",
    "fun rotateClockWise(direction: Direction) = when (direction) {\n",
    "  Direction.NORTH -> Direction.EAST\n",
    "  Direction.EAST -> Direction.SOUTH\n",
    "  Direction.SOUTH -> Direction.WEST\n",
    "  Direction.WEST -> Direction.NORTH\n",
    "}\n",
    "\n",
    "fun rotateClockWise2(direction: Direction) = when (direction) {\n",
    "  Direction.NORTH -> Direction.EAST\n",
    "  Direction.EAST -> Direction.SOUTH\n",
    "  Direction.SOUTH -> Direction.WEST\n",
    "  Direction.WEST -> Direction.NORTH\n",
    "  else ->\n",
    "    throw IllegalArgumentException(\"Invalid direction: $direction\")\n",
    "}"
   ]
  },
  {
   "cell_type": "code",
   "execution_count": 8,
   "id": "3f933cf6",
   "metadata": {},
   "outputs": [
    {
     "data": {
      "text/plain": [
       "EAST"
      ]
     },
     "execution_count": 8,
     "metadata": {},
     "output_type": "execute_result"
    }
   ],
   "source": [
    "rotateClockWise(Direction.NORTH)"
   ]
  },
  {
   "cell_type": "code",
   "execution_count": 14,
   "id": "d4c10f06",
   "metadata": {},
   "outputs": [
    {
     "data": {
      "text/plain": [
       "SOUTH"
      ]
     },
     "execution_count": 14,
     "metadata": {},
     "output_type": "execute_result"
    }
   ],
   "source": [
    "rotateClockWise2(Direction.EAST)"
   ]
  },
  {
   "cell_type": "code",
   "execution_count": 16,
   "id": "8927765f",
   "metadata": {},
   "outputs": [],
   "source": [
    "enum class Direction {\n",
    "  NORTH, SOUTH, WEST, EAST, NORTH_EAST\n",
    "}"
   ]
  },
  {
   "cell_type": "code",
   "execution_count": 17,
   "id": "83de09c9",
   "metadata": {},
   "outputs": [
    {
     "name": "stderr",
     "output_type": "stream",
     "text": [
      "Line_320.jupyter.kts (1:18 - 38) Type mismatch: inferred type is Line_298_jupyter.Direction but Line_224_jupyter.Direction was expected"
     ]
    }
   ],
   "source": [
    "rotateClockWise2(Direction.NORTH_EAST)"
   ]
  },
  {
   "cell_type": "code",
   "execution_count": null,
   "id": "cac3cb93",
   "metadata": {},
   "outputs": [],
   "source": []
  },
  {
   "cell_type": "code",
   "execution_count": null,
   "id": "ae07f90c",
   "metadata": {},
   "outputs": [],
   "source": []
  },
  {
   "cell_type": "code",
   "execution_count": 18,
   "id": "1a88baa2",
   "metadata": {},
   "outputs": [],
   "source": [
    "enum class WeekDay2 {\n",
    "  MONDAY, TUESDAY, WEDNESDAY, THURSDAY, FRIDAY, SATURDAY, SUNDAY;\n",
    "  \n",
    "  val lowerCaseName get() = name.lowercase()\n",
    "  fun isWorkDay() = this == SATURDAY || this == SUNDAY\n",
    "}\n",
    "\n",
    "fun main3() {\n",
    "  println(WeekDay2.MONDAY.isWorkDay())      // false\n",
    "  println(WeekDay2.WEDNESDAY.lowerCaseName) // wednesday\n",
    "}"
   ]
  },
  {
   "cell_type": "code",
   "execution_count": 19,
   "id": "9d17cf62",
   "metadata": {},
   "outputs": [
    {
     "name": "stdout",
     "output_type": "stream",
     "text": [
      "false\n",
      "wednesday\n"
     ]
    }
   ],
   "source": [
    "main3()"
   ]
  },
  {
   "cell_type": "code",
   "execution_count": null,
   "id": "1cd8871b",
   "metadata": {},
   "outputs": [],
   "source": []
  },
  {
   "cell_type": "code",
   "execution_count": 20,
   "id": "73974347",
   "metadata": {},
   "outputs": [],
   "source": [
    "enum class RainbowColor(val isCold: Boolean) {\n",
    "  RED(false), ORANGE(false), YELLOW(false),\n",
    "  GREEN(true), BLUE(true), INDIGO(true), VIOLET(true);\n",
    "  \n",
    "  val isWarm get() = !isCold\n",
    "}\n",
    "\n",
    "fun main4() {\n",
    "  println(RainbowColor.BLUE.isCold) // true\n",
    "  println(RainbowColor.RED.isWarm)  // true\n",
    "}"
   ]
  },
  {
   "cell_type": "code",
   "execution_count": 21,
   "id": "32ea9e27",
   "metadata": {},
   "outputs": [
    {
     "name": "stdout",
     "output_type": "stream",
     "text": [
      "true\n",
      "true\n"
     ]
    }
   ],
   "source": [
    "main4()"
   ]
  },
  {
   "cell_type": "code",
   "execution_count": null,
   "id": "005affce",
   "metadata": {},
   "outputs": [],
   "source": []
  },
  {
   "cell_type": "code",
   "execution_count": 22,
   "id": "74e58f80",
   "metadata": {},
   "outputs": [],
   "source": [
    "enum class Direction2 {\n",
    "  NORTH, SOUTH, WEST, EAST;\n",
    "}\n",
    "\n",
    "fun main6() {\n",
    "  println(Direction2.WEST.name)    // WEST\n",
    "  println(Direction2.WEST.ordinal) // 2\n",
    "}"
   ]
  },
  {
   "cell_type": "code",
   "execution_count": 23,
   "id": "d2710bad",
   "metadata": {},
   "outputs": [
    {
     "name": "stdout",
     "output_type": "stream",
     "text": [
      "WEST\n",
      "2\n"
     ]
    }
   ],
   "source": [
    "main6()"
   ]
  },
  {
   "cell_type": "code",
   "execution_count": 24,
   "id": "24c61b4d",
   "metadata": {},
   "outputs": [
    {
     "name": "stdout",
     "output_type": "stream",
     "text": [
      "false\n",
      "true\n",
      "false\n",
      "true\n"
     ]
    }
   ],
   "source": [
    "fun main7() {\n",
    "  println(Direction2.WEST == Direction2.NORTH) // false\n",
    "  println(Direction2.WEST != Direction2.EAST) // true\n",
    "  println(Direction2.EAST < Direction2.NORTH) // false\n",
    "  println(Direction2.SOUTH >= Direction2.NORTH) // true\n",
    "}\n",
    "\n",
    "main7()"
   ]
  },
  {
   "cell_type": "code",
   "execution_count": null,
   "id": "e150caa1",
   "metadata": {},
   "outputs": [],
   "source": []
  },
  {
   "cell_type": "code",
   "execution_count": null,
   "id": "e60506c0",
   "metadata": {},
   "outputs": [],
   "source": []
  },
  {
   "cell_type": "code",
   "execution_count": 31,
   "id": "2364534f",
   "metadata": {},
   "outputs": [],
   "source": [
    "class Person1(val firstName: String,\n",
    "             val familyName: String,\n",
    "             val age: Int)\n",
    "\n",
    "fun main10() {\n",
    "  val person1 = Person1(\"John\", \"Doe\", 25)\n",
    "  val person2 = Person1(\"John\", \"Doe\", 25)\n",
    "  val person3 = person1\n",
    "\n",
    "  println(person1 == person2) // false, 서로 다른 정체성\n",
    "  println(person1 == person3) // true, 같은 정체성\n",
    "  \n",
    "  println(person1)\n",
    "  println(person2)\n",
    "  println(person3)\n",
    "}"
   ]
  },
  {
   "cell_type": "code",
   "execution_count": 32,
   "id": "a7e7d6cb",
   "metadata": {},
   "outputs": [
    {
     "name": "stdout",
     "output_type": "stream",
     "text": [
      "false\n",
      "true\n",
      "Line_487_jupyter$Person1@7a4b49e3\n",
      "Line_487_jupyter$Person1@77aced50\n",
      "Line_487_jupyter$Person1@7a4b49e3\n"
     ]
    }
   ],
   "source": [
    "main10()"
   ]
  },
  {
   "cell_type": "code",
   "execution_count": null,
   "id": "e4923baf",
   "metadata": {},
   "outputs": [],
   "source": []
  },
  {
   "cell_type": "code",
   "execution_count": 39,
   "id": "41e17bf8",
   "metadata": {},
   "outputs": [],
   "source": [
    "data class Person2(val firstName: String,\n",
    "                   val familyName: String,\n",
    "                   val age: Int)\n",
    "\n",
    "fun main11() {\n",
    "  val person1 = Person2(\"John\", \"Doe\", 25)\n",
    "  val person2 = Person2(\"John\", \"Doe\", 25)\n",
    "  val person3 = person1\n",
    "\n",
    "  println(person1 == person2) // true\n",
    "  println(person1 == person3) // true\n",
    "  \n",
    "  println(person1)\n",
    "  println(person2)\n",
    "  println(person3)\n",
    "  \n",
    "  \n",
    "  println(person1.equals(person2)) // true\n",
    "  println(person1.equals(person3)) // true\n",
    "  \n",
    "  println(person1.hashCode())\n",
    "  println(person2.hashCode())\n",
    "  println(person3.hashCode())\n",
    "}"
   ]
  },
  {
   "cell_type": "code",
   "execution_count": 40,
   "id": "75656b1e",
   "metadata": {},
   "outputs": [
    {
     "name": "stdout",
     "output_type": "stream",
     "text": [
      "true\n",
      "true\n",
      "Person2(firstName=John, familyName=Doe, age=25)\n",
      "Person2(firstName=John, familyName=Doe, age=25)\n",
      "Person2(firstName=John, familyName=Doe, age=25)\n",
      "true\n",
      "true\n",
      "-2068559702\n",
      "-2068559702\n",
      "-2068559702\n"
     ]
    }
   ],
   "source": [
    "main11()"
   ]
  },
  {
   "cell_type": "code",
   "execution_count": null,
   "id": "6961b651",
   "metadata": {},
   "outputs": [],
   "source": []
  },
  {
   "cell_type": "code",
   "execution_count": 41,
   "id": "5a5ad783",
   "metadata": {},
   "outputs": [],
   "source": [
    "data class Person7(val firstName: String,\n",
    "             val familyName: String,\n",
    "             val age: Int)\n",
    "\n",
    "fun Person7.show() = println(\"$firstName $familyName: $age\")\n",
    "\n",
    "fun main16() {\n",
    "  val person = Person7(\"John\", \"Doe\", 25)\n",
    "  \n",
    "  person.show()                                    // John Doe: 25\n",
    "  person.copy().show()                             // John Doe: 25\n",
    "  person.copy(familyName = \"Smith\").show()         // John Smith: 25\n",
    "  person.copy(age = 30, firstName = \"Jane\").show() // Jane Doe: 30\n",
    "}"
   ]
  },
  {
   "cell_type": "code",
   "execution_count": 42,
   "id": "b12fdd7d",
   "metadata": {},
   "outputs": [
    {
     "name": "stdout",
     "output_type": "stream",
     "text": [
      "John Doe: 25\n",
      "John Doe: 25\n",
      "John Smith: 25\n",
      "Jane Doe: 30\n"
     ]
    }
   ],
   "source": [
    "main16()"
   ]
  },
  {
   "cell_type": "code",
   "execution_count": null,
   "id": "8cfe1ae2",
   "metadata": {},
   "outputs": [],
   "source": []
  },
  {
   "cell_type": "code",
   "execution_count": null,
   "id": "e2e0cb04",
   "metadata": {},
   "outputs": [],
   "source": []
  },
  {
   "cell_type": "code",
   "execution_count": 45,
   "id": "72e8fc3d",
   "metadata": {},
   "outputs": [
    {
     "name": "stdout",
     "output_type": "stream",
     "text": [
      "Input firstName and familyName(press enter after each name):\n",
      "stdin:100\n",
      "stdin:10\n"
     ]
    }
   ],
   "source": [
    "data class Person8(val firstName: String,\n",
    "                  val familyName: String,\n",
    "                  val age: Int)\n",
    "                  \n",
    "fun newPerson() = Person8(readLine()!!,\n",
    "                         readLine()!!,\n",
    "                         Random.nextInt(100))\n",
    "fun newPersonWithPrompt(): Person8 {\n",
    "  println(\"Input firstName and familyName(press enter after each name):\")\n",
    "  return newPerson()\n",
    "}\n",
    "                         \n",
    "fun main18() {\n",
    "  val person = newPersonWithPrompt()\n",
    "  val firstName = person.firstName\n",
    "  val familyName = person.familyName\n",
    "  val age = person.age\n",
    "  \n",
    "  if (age < 18) {\n",
    "    println(\"$firstName $familyName is under-age\")\n",
    "  }\n",
    "}\n",
    "\n",
    "main18()\n",
    "\n",
    "fun main19() {\n",
    "  val person = newPersonWithPrompt()\n",
    "  val (firstName, familyName, age) = person\n",
    "  \n",
    "  \n",
    "  if (age < 18) {\n",
    "    println(\"$firstName $familyName is under-age\")\n",
    "  }\n",
    "}"
   ]
  },
  {
   "cell_type": "code",
   "execution_count": 47,
   "id": "6238d575",
   "metadata": {},
   "outputs": [
    {
     "name": "stdout",
     "output_type": "stream",
     "text": [
      "Input firstName and familyName(press enter after each name):\n",
      "stdin:10\n",
      "stdin:1\n"
     ]
    }
   ],
   "source": [
    "main19()"
   ]
  },
  {
   "cell_type": "code",
   "execution_count": null,
   "id": "c9d73bbd",
   "metadata": {},
   "outputs": [],
   "source": []
  },
  {
   "cell_type": "code",
   "execution_count": null,
   "id": "7361a7c5",
   "metadata": {},
   "outputs": [],
   "source": []
  },
  {
   "cell_type": "code",
   "execution_count": null,
   "id": "16a95d5d",
   "metadata": {},
   "outputs": [],
   "source": []
  },
  {
   "cell_type": "code",
   "execution_count": null,
   "id": "15d2a0de",
   "metadata": {},
   "outputs": [],
   "source": []
  },
  {
   "cell_type": "code",
   "execution_count": null,
   "id": "f95f9050",
   "metadata": {},
   "outputs": [],
   "source": []
  },
  {
   "cell_type": "code",
   "execution_count": null,
   "id": "8c8fcd55",
   "metadata": {},
   "outputs": [],
   "source": []
  }
 ],
 "metadata": {
  "kernelspec": {
   "display_name": "Kotlin",
   "language": "kotlin",
   "name": "kotlin"
  },
  "language_info": {
   "codemirror_mode": "text/x-kotlin",
   "file_extension": ".kt",
   "mimetype": "text/x-kotlin",
   "name": "kotlin",
   "nbconvert_exporter": "",
   "pygments_lexer": "kotlin",
   "version": "1.8.20-Beta"
  }
 },
 "nbformat": 4,
 "nbformat_minor": 5
}
